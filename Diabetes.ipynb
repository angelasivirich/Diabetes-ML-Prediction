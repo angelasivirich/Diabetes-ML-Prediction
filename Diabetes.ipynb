{
 "cells": [
  {
   "cell_type": "code",
   "execution_count": 64,
   "metadata": {},
   "outputs": [
    {
     "data": {
      "text/html": [
       "<div>\n",
       "<style scoped>\n",
       "    .dataframe tbody tr th:only-of-type {\n",
       "        vertical-align: middle;\n",
       "    }\n",
       "\n",
       "    .dataframe tbody tr th {\n",
       "        vertical-align: top;\n",
       "    }\n",
       "\n",
       "    .dataframe thead th {\n",
       "        text-align: right;\n",
       "    }\n",
       "</style>\n",
       "<table border=\"1\" class=\"dataframe\">\n",
       "  <thead>\n",
       "    <tr style=\"text-align: right;\">\n",
       "      <th></th>\n",
       "      <th>seqn</th>\n",
       "      <th>first</th>\n",
       "      <th>last</th>\n",
       "      <th>gender</th>\n",
       "      <th>age</th>\n",
       "      <th>race</th>\n",
       "      <th>education</th>\n",
       "      <th>marital</th>\n",
       "      <th>income</th>\n",
       "      <th>household_size</th>\n",
       "      <th>...</th>\n",
       "      <th>trigs</th>\n",
       "      <th>wbc</th>\n",
       "      <th>hgb</th>\n",
       "      <th>hct</th>\n",
       "      <th>platelets</th>\n",
       "      <th>s_cotinine</th>\n",
       "      <th>a1c</th>\n",
       "      <th>hdl</th>\n",
       "      <th>grip_strength</th>\n",
       "      <th>fev1_fvc_ratio</th>\n",
       "    </tr>\n",
       "  </thead>\n",
       "  <tbody>\n",
       "    <tr>\n",
       "      <th>0</th>\n",
       "      <td>69220</td>\n",
       "      <td>Gwendolyn</td>\n",
       "      <td>Runolfsson</td>\n",
       "      <td>1</td>\n",
       "      <td>21</td>\n",
       "      <td>7</td>\n",
       "      <td>2.0</td>\n",
       "      <td>6.0</td>\n",
       "      <td>1.0</td>\n",
       "      <td>2</td>\n",
       "      <td>...</td>\n",
       "      <td>54.0</td>\n",
       "      <td>6.0</td>\n",
       "      <td>12.7</td>\n",
       "      <td>36.1</td>\n",
       "      <td>157.0</td>\n",
       "      <td>0.654</td>\n",
       "      <td>5.0</td>\n",
       "      <td>47.0</td>\n",
       "      <td>50.3</td>\n",
       "      <td>0.78</td>\n",
       "    </tr>\n",
       "    <tr>\n",
       "      <th>1</th>\n",
       "      <td>63030</td>\n",
       "      <td>Augustus</td>\n",
       "      <td>Farrell</td>\n",
       "      <td>0</td>\n",
       "      <td>21</td>\n",
       "      <td>1</td>\n",
       "      <td>2.0</td>\n",
       "      <td>6.0</td>\n",
       "      <td>3.0</td>\n",
       "      <td>4</td>\n",
       "      <td>...</td>\n",
       "      <td>83.0</td>\n",
       "      <td>6.9</td>\n",
       "      <td>15.1</td>\n",
       "      <td>44.4</td>\n",
       "      <td>226.0</td>\n",
       "      <td>0.221</td>\n",
       "      <td>5.2</td>\n",
       "      <td>40.0</td>\n",
       "      <td>90.1</td>\n",
       "      <td>0.84</td>\n",
       "    </tr>\n",
       "    <tr>\n",
       "      <th>2</th>\n",
       "      <td>64051</td>\n",
       "      <td>Aaron</td>\n",
       "      <td>Schmeler</td>\n",
       "      <td>0</td>\n",
       "      <td>21</td>\n",
       "      <td>2</td>\n",
       "      <td>3.0</td>\n",
       "      <td>5.0</td>\n",
       "      <td>4.0</td>\n",
       "      <td>3</td>\n",
       "      <td>...</td>\n",
       "      <td>256.0</td>\n",
       "      <td>8.2</td>\n",
       "      <td>14.4</td>\n",
       "      <td>41.3</td>\n",
       "      <td>266.0</td>\n",
       "      <td>0.011</td>\n",
       "      <td>5.1</td>\n",
       "      <td>38.0</td>\n",
       "      <td>72.7</td>\n",
       "      <td>0.83</td>\n",
       "    </tr>\n",
       "    <tr>\n",
       "      <th>3</th>\n",
       "      <td>65141</td>\n",
       "      <td>Bob</td>\n",
       "      <td>Bechtelar</td>\n",
       "      <td>0</td>\n",
       "      <td>21</td>\n",
       "      <td>1</td>\n",
       "      <td>2.0</td>\n",
       "      <td>5.0</td>\n",
       "      <td>4.0</td>\n",
       "      <td>4</td>\n",
       "      <td>...</td>\n",
       "      <td>57.0</td>\n",
       "      <td>6.6</td>\n",
       "      <td>14.7</td>\n",
       "      <td>43.0</td>\n",
       "      <td>206.0</td>\n",
       "      <td>16.300</td>\n",
       "      <td>5.1</td>\n",
       "      <td>55.0</td>\n",
       "      <td>86.6</td>\n",
       "      <td>0.83</td>\n",
       "    </tr>\n",
       "    <tr>\n",
       "      <th>4</th>\n",
       "      <td>64632</td>\n",
       "      <td>Hayden</td>\n",
       "      <td>Brekke</td>\n",
       "      <td>0</td>\n",
       "      <td>21</td>\n",
       "      <td>2</td>\n",
       "      <td>3.0</td>\n",
       "      <td>5.0</td>\n",
       "      <td>10.0</td>\n",
       "      <td>2</td>\n",
       "      <td>...</td>\n",
       "      <td>70.0</td>\n",
       "      <td>7.8</td>\n",
       "      <td>15.6</td>\n",
       "      <td>45.1</td>\n",
       "      <td>306.0</td>\n",
       "      <td>212.000</td>\n",
       "      <td>6.0</td>\n",
       "      <td>39.0</td>\n",
       "      <td>94.4</td>\n",
       "      <td>0.83</td>\n",
       "    </tr>\n",
       "  </tbody>\n",
       "</table>\n",
       "<p>5 rows × 62 columns</p>\n",
       "</div>"
      ],
      "text/plain": [
       "    seqn      first        last  gender  age  race  education  marital  \\\n",
       "0  69220  Gwendolyn  Runolfsson       1   21     7        2.0      6.0   \n",
       "1  63030   Augustus     Farrell       0   21     1        2.0      6.0   \n",
       "2  64051      Aaron    Schmeler       0   21     2        3.0      5.0   \n",
       "3  65141        Bob   Bechtelar       0   21     1        2.0      5.0   \n",
       "4  64632     Hayden      Brekke       0   21     2        3.0      5.0   \n",
       "\n",
       "   income  household_size  ...  trigs  wbc   hgb   hct  platelets  s_cotinine  \\\n",
       "0     1.0               2  ...   54.0  6.0  12.7  36.1      157.0       0.654   \n",
       "1     3.0               4  ...   83.0  6.9  15.1  44.4      226.0       0.221   \n",
       "2     4.0               3  ...  256.0  8.2  14.4  41.3      266.0       0.011   \n",
       "3     4.0               4  ...   57.0  6.6  14.7  43.0      206.0      16.300   \n",
       "4    10.0               2  ...   70.0  7.8  15.6  45.1      306.0     212.000   \n",
       "\n",
       "   a1c   hdl  grip_strength  fev1_fvc_ratio  \n",
       "0  5.0  47.0           50.3            0.78  \n",
       "1  5.2  40.0           90.1            0.84  \n",
       "2  5.1  38.0           72.7            0.83  \n",
       "3  5.1  55.0           86.6            0.83  \n",
       "4  6.0  39.0           94.4            0.83  \n",
       "\n",
       "[5 rows x 62 columns]"
      ]
     },
     "execution_count": 64,
     "metadata": {},
     "output_type": "execute_result"
    }
   ],
   "source": [
    "from sklearn import tree\n",
    "import matplotlib.pyplot as plt\n",
    "import pandas as pd\n",
    "import os\n",
    "import sklearn\n",
    "import sklearn.datasets\n",
    "import numpy as np\n",
    "from sklearn.neighbors import KNeighborsClassifier\n",
    "from numpy.random import seed\n",
    "seed(1)\n",
    "import tensorflow as tf\n",
    "import keras\n",
    "\n",
    "df=pd.read_csv(\"Resources/Adults_Diabetes_NHANES_2011_2012.csv\")\n",
    "df.head()"
   ]
  },
  {
   "cell_type": "code",
   "execution_count": 2,
   "metadata": {
    "scrolled": true
   },
   "outputs": [
    {
     "data": {
      "text/html": [
       "<div>\n",
       "<style scoped>\n",
       "    .dataframe tbody tr th:only-of-type {\n",
       "        vertical-align: middle;\n",
       "    }\n",
       "\n",
       "    .dataframe tbody tr th {\n",
       "        vertical-align: top;\n",
       "    }\n",
       "\n",
       "    .dataframe thead th {\n",
       "        text-align: right;\n",
       "    }\n",
       "</style>\n",
       "<table border=\"1\" class=\"dataframe\">\n",
       "  <thead>\n",
       "    <tr style=\"text-align: right;\">\n",
       "      <th></th>\n",
       "      <th>seqn</th>\n",
       "      <th>gender</th>\n",
       "      <th>age</th>\n",
       "      <th>race</th>\n",
       "      <th>education</th>\n",
       "      <th>marital</th>\n",
       "      <th>income</th>\n",
       "      <th>household_size</th>\n",
       "      <th>insurance</th>\n",
       "      <th>gen_health</th>\n",
       "      <th>...</th>\n",
       "      <th>glob</th>\n",
       "      <th>trigs</th>\n",
       "      <th>wbc</th>\n",
       "      <th>hgb</th>\n",
       "      <th>hct</th>\n",
       "      <th>platelets</th>\n",
       "      <th>s_cotinine</th>\n",
       "      <th>a1c</th>\n",
       "      <th>hdl</th>\n",
       "      <th>grip_strength</th>\n",
       "    </tr>\n",
       "  </thead>\n",
       "  <tbody>\n",
       "    <tr>\n",
       "      <th>0</th>\n",
       "      <td>69220</td>\n",
       "      <td>1</td>\n",
       "      <td>21</td>\n",
       "      <td>7</td>\n",
       "      <td>2.0</td>\n",
       "      <td>6.0</td>\n",
       "      <td>1.0</td>\n",
       "      <td>2</td>\n",
       "      <td>1</td>\n",
       "      <td>3.0</td>\n",
       "      <td>...</td>\n",
       "      <td>2.9</td>\n",
       "      <td>54.0</td>\n",
       "      <td>6.0</td>\n",
       "      <td>12.7</td>\n",
       "      <td>36.1</td>\n",
       "      <td>157.0</td>\n",
       "      <td>0.654</td>\n",
       "      <td>5.0</td>\n",
       "      <td>47.0</td>\n",
       "      <td>50.3</td>\n",
       "    </tr>\n",
       "    <tr>\n",
       "      <th>1</th>\n",
       "      <td>63030</td>\n",
       "      <td>0</td>\n",
       "      <td>21</td>\n",
       "      <td>1</td>\n",
       "      <td>2.0</td>\n",
       "      <td>6.0</td>\n",
       "      <td>3.0</td>\n",
       "      <td>4</td>\n",
       "      <td>2</td>\n",
       "      <td>3.0</td>\n",
       "      <td>...</td>\n",
       "      <td>2.8</td>\n",
       "      <td>83.0</td>\n",
       "      <td>6.9</td>\n",
       "      <td>15.1</td>\n",
       "      <td>44.4</td>\n",
       "      <td>226.0</td>\n",
       "      <td>0.221</td>\n",
       "      <td>5.2</td>\n",
       "      <td>40.0</td>\n",
       "      <td>90.1</td>\n",
       "    </tr>\n",
       "    <tr>\n",
       "      <th>2</th>\n",
       "      <td>64051</td>\n",
       "      <td>0</td>\n",
       "      <td>21</td>\n",
       "      <td>2</td>\n",
       "      <td>3.0</td>\n",
       "      <td>5.0</td>\n",
       "      <td>4.0</td>\n",
       "      <td>3</td>\n",
       "      <td>1</td>\n",
       "      <td>3.0</td>\n",
       "      <td>...</td>\n",
       "      <td>3.0</td>\n",
       "      <td>256.0</td>\n",
       "      <td>8.2</td>\n",
       "      <td>14.4</td>\n",
       "      <td>41.3</td>\n",
       "      <td>266.0</td>\n",
       "      <td>0.011</td>\n",
       "      <td>5.1</td>\n",
       "      <td>38.0</td>\n",
       "      <td>72.7</td>\n",
       "    </tr>\n",
       "    <tr>\n",
       "      <th>3</th>\n",
       "      <td>65141</td>\n",
       "      <td>0</td>\n",
       "      <td>21</td>\n",
       "      <td>1</td>\n",
       "      <td>2.0</td>\n",
       "      <td>5.0</td>\n",
       "      <td>4.0</td>\n",
       "      <td>4</td>\n",
       "      <td>1</td>\n",
       "      <td>4.0</td>\n",
       "      <td>...</td>\n",
       "      <td>2.6</td>\n",
       "      <td>57.0</td>\n",
       "      <td>6.6</td>\n",
       "      <td>14.7</td>\n",
       "      <td>43.0</td>\n",
       "      <td>206.0</td>\n",
       "      <td>16.300</td>\n",
       "      <td>5.1</td>\n",
       "      <td>55.0</td>\n",
       "      <td>86.6</td>\n",
       "    </tr>\n",
       "    <tr>\n",
       "      <th>4</th>\n",
       "      <td>64632</td>\n",
       "      <td>0</td>\n",
       "      <td>21</td>\n",
       "      <td>2</td>\n",
       "      <td>3.0</td>\n",
       "      <td>5.0</td>\n",
       "      <td>10.0</td>\n",
       "      <td>2</td>\n",
       "      <td>1</td>\n",
       "      <td>2.0</td>\n",
       "      <td>...</td>\n",
       "      <td>2.9</td>\n",
       "      <td>70.0</td>\n",
       "      <td>7.8</td>\n",
       "      <td>15.6</td>\n",
       "      <td>45.1</td>\n",
       "      <td>306.0</td>\n",
       "      <td>212.000</td>\n",
       "      <td>6.0</td>\n",
       "      <td>39.0</td>\n",
       "      <td>94.4</td>\n",
       "    </tr>\n",
       "  </tbody>\n",
       "</table>\n",
       "<p>5 rows × 57 columns</p>\n",
       "</div>"
      ],
      "text/plain": [
       "    seqn  gender  age  race  education  marital  income  household_size  \\\n",
       "0  69220       1   21     7        2.0      6.0     1.0               2   \n",
       "1  63030       0   21     1        2.0      6.0     3.0               4   \n",
       "2  64051       0   21     2        3.0      5.0     4.0               3   \n",
       "3  65141       0   21     1        2.0      5.0     4.0               4   \n",
       "4  64632       0   21     2        3.0      5.0    10.0               2   \n",
       "\n",
       "   insurance  gen_health  ...  glob  trigs  wbc   hgb   hct  platelets  \\\n",
       "0          1         3.0  ...   2.9   54.0  6.0  12.7  36.1      157.0   \n",
       "1          2         3.0  ...   2.8   83.0  6.9  15.1  44.4      226.0   \n",
       "2          1         3.0  ...   3.0  256.0  8.2  14.4  41.3      266.0   \n",
       "3          1         4.0  ...   2.6   57.0  6.6  14.7  43.0      206.0   \n",
       "4          1         2.0  ...   2.9   70.0  7.8  15.6  45.1      306.0   \n",
       "\n",
       "   s_cotinine  a1c   hdl  grip_strength  \n",
       "0       0.654  5.0  47.0           50.3  \n",
       "1       0.221  5.2  40.0           90.1  \n",
       "2       0.011  5.1  38.0           72.7  \n",
       "3      16.300  5.1  55.0           86.6  \n",
       "4     212.000  6.0  39.0           94.4  \n",
       "\n",
       "[5 rows x 57 columns]"
      ]
     },
     "execution_count": 2,
     "metadata": {},
     "output_type": "execute_result"
    }
   ],
   "source": [
    "df_1=df.drop(columns=['first', 'last','drinks_day', 'depression','fev1_fvc_ratio'])\n",
    "#Remember to Add back SEQN for ETL\n",
    "\n",
    "df_1.head()\n"
   ]
  },
  {
   "cell_type": "code",
   "execution_count": 3,
   "metadata": {},
   "outputs": [
    {
     "data": {
      "text/plain": [
       "5206"
      ]
     },
     "execution_count": 3,
     "metadata": {},
     "output_type": "execute_result"
    }
   ],
   "source": [
    "len(df_1)"
   ]
  },
  {
   "cell_type": "code",
   "execution_count": 4,
   "metadata": {},
   "outputs": [
    {
     "data": {
      "text/plain": [
       "3260"
      ]
     },
     "execution_count": 4,
     "metadata": {},
     "output_type": "execute_result"
    }
   ],
   "source": [
    "df1=df_1.dropna()\n",
    "len(df1)"
   ]
  },
  {
   "cell_type": "code",
   "execution_count": 5,
   "metadata": {},
   "outputs": [
    {
     "name": "stderr",
     "output_type": "stream",
     "text": [
      "/Users/angelaromansivirichi/opt/anaconda3/lib/python3.7/site-packages/ipykernel_launcher.py:12: SettingWithCopyWarning: \n",
      "A value is trying to be set on a copy of a slice from a DataFrame.\n",
      "Try using .loc[row_indexer,col_indexer] = value instead\n",
      "\n",
      "See the caveats in the documentation: https://pandas.pydata.org/pandas-docs/stable/user_guide/indexing.html#returning-a-view-versus-a-copy\n",
      "  if sys.path[0] == '':\n"
     ]
    },
    {
     "data": {
      "text/html": [
       "<div>\n",
       "<style scoped>\n",
       "    .dataframe tbody tr th:only-of-type {\n",
       "        vertical-align: middle;\n",
       "    }\n",
       "\n",
       "    .dataframe tbody tr th {\n",
       "        vertical-align: top;\n",
       "    }\n",
       "\n",
       "    .dataframe thead th {\n",
       "        text-align: right;\n",
       "    }\n",
       "</style>\n",
       "<table border=\"1\" class=\"dataframe\">\n",
       "  <thead>\n",
       "    <tr style=\"text-align: right;\">\n",
       "      <th></th>\n",
       "      <th>bmi</th>\n",
       "      <th>bmi_group</th>\n",
       "    </tr>\n",
       "  </thead>\n",
       "  <tbody>\n",
       "    <tr>\n",
       "      <th>1599</th>\n",
       "      <td>32.1</td>\n",
       "      <td>2</td>\n",
       "    </tr>\n",
       "    <tr>\n",
       "      <th>2552</th>\n",
       "      <td>30.6</td>\n",
       "      <td>2</td>\n",
       "    </tr>\n",
       "    <tr>\n",
       "      <th>424</th>\n",
       "      <td>26.3</td>\n",
       "      <td>1</td>\n",
       "    </tr>\n",
       "    <tr>\n",
       "      <th>2356</th>\n",
       "      <td>37.1</td>\n",
       "      <td>2</td>\n",
       "    </tr>\n",
       "    <tr>\n",
       "      <th>2810</th>\n",
       "      <td>33.6</td>\n",
       "      <td>2</td>\n",
       "    </tr>\n",
       "    <tr>\n",
       "      <th>1817</th>\n",
       "      <td>24.4</td>\n",
       "      <td>0</td>\n",
       "    </tr>\n",
       "    <tr>\n",
       "      <th>2596</th>\n",
       "      <td>30.6</td>\n",
       "      <td>2</td>\n",
       "    </tr>\n",
       "    <tr>\n",
       "      <th>2750</th>\n",
       "      <td>29.3</td>\n",
       "      <td>1</td>\n",
       "    </tr>\n",
       "    <tr>\n",
       "      <th>1350</th>\n",
       "      <td>27.9</td>\n",
       "      <td>1</td>\n",
       "    </tr>\n",
       "    <tr>\n",
       "      <th>4720</th>\n",
       "      <td>30.2</td>\n",
       "      <td>2</td>\n",
       "    </tr>\n",
       "    <tr>\n",
       "      <th>3156</th>\n",
       "      <td>54.5</td>\n",
       "      <td>2</td>\n",
       "    </tr>\n",
       "    <tr>\n",
       "      <th>2075</th>\n",
       "      <td>31.3</td>\n",
       "      <td>2</td>\n",
       "    </tr>\n",
       "    <tr>\n",
       "      <th>3879</th>\n",
       "      <td>27.6</td>\n",
       "      <td>1</td>\n",
       "    </tr>\n",
       "    <tr>\n",
       "      <th>1716</th>\n",
       "      <td>33.3</td>\n",
       "      <td>2</td>\n",
       "    </tr>\n",
       "    <tr>\n",
       "      <th>2600</th>\n",
       "      <td>28.1</td>\n",
       "      <td>1</td>\n",
       "    </tr>\n",
       "    <tr>\n",
       "      <th>1719</th>\n",
       "      <td>23.3</td>\n",
       "      <td>0</td>\n",
       "    </tr>\n",
       "    <tr>\n",
       "      <th>4548</th>\n",
       "      <td>29.9</td>\n",
       "      <td>1</td>\n",
       "    </tr>\n",
       "    <tr>\n",
       "      <th>1107</th>\n",
       "      <td>18.6</td>\n",
       "      <td>0</td>\n",
       "    </tr>\n",
       "    <tr>\n",
       "      <th>3610</th>\n",
       "      <td>34.1</td>\n",
       "      <td>2</td>\n",
       "    </tr>\n",
       "    <tr>\n",
       "      <th>2729</th>\n",
       "      <td>20.5</td>\n",
       "      <td>0</td>\n",
       "    </tr>\n",
       "    <tr>\n",
       "      <th>360</th>\n",
       "      <td>18.1</td>\n",
       "      <td>0</td>\n",
       "    </tr>\n",
       "    <tr>\n",
       "      <th>148</th>\n",
       "      <td>24.6</td>\n",
       "      <td>0</td>\n",
       "    </tr>\n",
       "    <tr>\n",
       "      <th>4359</th>\n",
       "      <td>23.2</td>\n",
       "      <td>0</td>\n",
       "    </tr>\n",
       "    <tr>\n",
       "      <th>578</th>\n",
       "      <td>24.2</td>\n",
       "      <td>0</td>\n",
       "    </tr>\n",
       "    <tr>\n",
       "      <th>3313</th>\n",
       "      <td>34.4</td>\n",
       "      <td>2</td>\n",
       "    </tr>\n",
       "    <tr>\n",
       "      <th>846</th>\n",
       "      <td>39.3</td>\n",
       "      <td>2</td>\n",
       "    </tr>\n",
       "    <tr>\n",
       "      <th>2065</th>\n",
       "      <td>33.3</td>\n",
       "      <td>2</td>\n",
       "    </tr>\n",
       "    <tr>\n",
       "      <th>808</th>\n",
       "      <td>25.2</td>\n",
       "      <td>1</td>\n",
       "    </tr>\n",
       "    <tr>\n",
       "      <th>275</th>\n",
       "      <td>38.5</td>\n",
       "      <td>2</td>\n",
       "    </tr>\n",
       "    <tr>\n",
       "      <th>1162</th>\n",
       "      <td>33.8</td>\n",
       "      <td>2</td>\n",
       "    </tr>\n",
       "    <tr>\n",
       "      <th>562</th>\n",
       "      <td>21.7</td>\n",
       "      <td>0</td>\n",
       "    </tr>\n",
       "    <tr>\n",
       "      <th>802</th>\n",
       "      <td>22.0</td>\n",
       "      <td>0</td>\n",
       "    </tr>\n",
       "    <tr>\n",
       "      <th>3316</th>\n",
       "      <td>30.3</td>\n",
       "      <td>2</td>\n",
       "    </tr>\n",
       "    <tr>\n",
       "      <th>2340</th>\n",
       "      <td>35.5</td>\n",
       "      <td>2</td>\n",
       "    </tr>\n",
       "    <tr>\n",
       "      <th>4081</th>\n",
       "      <td>33.6</td>\n",
       "      <td>2</td>\n",
       "    </tr>\n",
       "    <tr>\n",
       "      <th>1363</th>\n",
       "      <td>23.9</td>\n",
       "      <td>0</td>\n",
       "    </tr>\n",
       "    <tr>\n",
       "      <th>1128</th>\n",
       "      <td>24.0</td>\n",
       "      <td>0</td>\n",
       "    </tr>\n",
       "    <tr>\n",
       "      <th>1701</th>\n",
       "      <td>24.9</td>\n",
       "      <td>0</td>\n",
       "    </tr>\n",
       "    <tr>\n",
       "      <th>4156</th>\n",
       "      <td>37.1</td>\n",
       "      <td>2</td>\n",
       "    </tr>\n",
       "    <tr>\n",
       "      <th>140</th>\n",
       "      <td>24.9</td>\n",
       "      <td>0</td>\n",
       "    </tr>\n",
       "    <tr>\n",
       "      <th>4523</th>\n",
       "      <td>31.6</td>\n",
       "      <td>2</td>\n",
       "    </tr>\n",
       "    <tr>\n",
       "      <th>2839</th>\n",
       "      <td>31.4</td>\n",
       "      <td>2</td>\n",
       "    </tr>\n",
       "    <tr>\n",
       "      <th>4223</th>\n",
       "      <td>37.0</td>\n",
       "      <td>2</td>\n",
       "    </tr>\n",
       "    <tr>\n",
       "      <th>4633</th>\n",
       "      <td>25.3</td>\n",
       "      <td>1</td>\n",
       "    </tr>\n",
       "    <tr>\n",
       "      <th>453</th>\n",
       "      <td>18.0</td>\n",
       "      <td>0</td>\n",
       "    </tr>\n",
       "    <tr>\n",
       "      <th>1614</th>\n",
       "      <td>32.5</td>\n",
       "      <td>2</td>\n",
       "    </tr>\n",
       "    <tr>\n",
       "      <th>16</th>\n",
       "      <td>22.0</td>\n",
       "      <td>0</td>\n",
       "    </tr>\n",
       "    <tr>\n",
       "      <th>1570</th>\n",
       "      <td>26.2</td>\n",
       "      <td>1</td>\n",
       "    </tr>\n",
       "    <tr>\n",
       "      <th>4718</th>\n",
       "      <td>30.3</td>\n",
       "      <td>2</td>\n",
       "    </tr>\n",
       "    <tr>\n",
       "      <th>4546</th>\n",
       "      <td>28.3</td>\n",
       "      <td>1</td>\n",
       "    </tr>\n",
       "  </tbody>\n",
       "</table>\n",
       "</div>"
      ],
      "text/plain": [
       "       bmi  bmi_group\n",
       "1599  32.1          2\n",
       "2552  30.6          2\n",
       "424   26.3          1\n",
       "2356  37.1          2\n",
       "2810  33.6          2\n",
       "1817  24.4          0\n",
       "2596  30.6          2\n",
       "2750  29.3          1\n",
       "1350  27.9          1\n",
       "4720  30.2          2\n",
       "3156  54.5          2\n",
       "2075  31.3          2\n",
       "3879  27.6          1\n",
       "1716  33.3          2\n",
       "2600  28.1          1\n",
       "1719  23.3          0\n",
       "4548  29.9          1\n",
       "1107  18.6          0\n",
       "3610  34.1          2\n",
       "2729  20.5          0\n",
       "360   18.1          0\n",
       "148   24.6          0\n",
       "4359  23.2          0\n",
       "578   24.2          0\n",
       "3313  34.4          2\n",
       "846   39.3          2\n",
       "2065  33.3          2\n",
       "808   25.2          1\n",
       "275   38.5          2\n",
       "1162  33.8          2\n",
       "562   21.7          0\n",
       "802   22.0          0\n",
       "3316  30.3          2\n",
       "2340  35.5          2\n",
       "4081  33.6          2\n",
       "1363  23.9          0\n",
       "1128  24.0          0\n",
       "1701  24.9          0\n",
       "4156  37.1          2\n",
       "140   24.9          0\n",
       "4523  31.6          2\n",
       "2839  31.4          2\n",
       "4223  37.0          2\n",
       "4633  25.3          1\n",
       "453   18.0          0\n",
       "1614  32.5          2\n",
       "16    22.0          0\n",
       "1570  26.2          1\n",
       "4718  30.3          2\n",
       "4546  28.3          1"
      ]
     },
     "execution_count": 5,
     "metadata": {},
     "output_type": "execute_result"
    }
   ],
   "source": [
    "#BMI \n",
    "#0= BMI less than 25\n",
    "#1= BMI less than 30 and BMI great than 24\n",
    "#2=BMI great than 30\n",
    "\n",
    "conditions = [\n",
    "   df1['bmi'] <25,\n",
    "    (df1['bmi'] >=25) & (df1['bmi'] <30),\n",
    "   df1['bmi'] >=30\n",
    "]\n",
    "choices = [0,1, 2]\n",
    "df1['bmi_group'] = np.select(conditions, choices, default=1)\n",
    "\n",
    "#df1['bmi_group'] = 1\n",
    "#df1.loc[df1['bmi'] >=30,'bmi_group'] = 2\n",
    "#df1.loc[df1['bmi'] <24,'bmi_group']= 0\n",
    "\n",
    "df1[[\"bmi\",\"bmi_group\"]].sample(50)"
   ]
  },
  {
   "cell_type": "code",
   "execution_count": 6,
   "metadata": {},
   "outputs": [
    {
     "name": "stderr",
     "output_type": "stream",
     "text": [
      "/Users/angelaromansivirichi/opt/anaconda3/lib/python3.7/site-packages/ipykernel_launcher.py:15: SettingWithCopyWarning: \n",
      "A value is trying to be set on a copy of a slice from a DataFrame.\n",
      "Try using .loc[row_indexer,col_indexer] = value instead\n",
      "\n",
      "See the caveats in the documentation: https://pandas.pydata.org/pandas-docs/stable/user_guide/indexing.html#returning-a-view-versus-a-copy\n",
      "  from ipykernel import kernelapp as app\n"
     ]
    },
    {
     "data": {
      "text/html": [
       "<div>\n",
       "<style scoped>\n",
       "    .dataframe tbody tr th:only-of-type {\n",
       "        vertical-align: middle;\n",
       "    }\n",
       "\n",
       "    .dataframe tbody tr th {\n",
       "        vertical-align: top;\n",
       "    }\n",
       "\n",
       "    .dataframe thead th {\n",
       "        text-align: right;\n",
       "    }\n",
       "</style>\n",
       "<table border=\"1\" class=\"dataframe\">\n",
       "  <thead>\n",
       "    <tr style=\"text-align: right;\">\n",
       "      <th></th>\n",
       "      <th>age</th>\n",
       "      <th>age_group</th>\n",
       "    </tr>\n",
       "  </thead>\n",
       "  <tbody>\n",
       "    <tr>\n",
       "      <th>3068</th>\n",
       "      <td>54</td>\n",
       "      <td>3</td>\n",
       "    </tr>\n",
       "    <tr>\n",
       "      <th>4656</th>\n",
       "      <td>74</td>\n",
       "      <td>4</td>\n",
       "    </tr>\n",
       "    <tr>\n",
       "      <th>1061</th>\n",
       "      <td>32</td>\n",
       "      <td>2</td>\n",
       "    </tr>\n",
       "    <tr>\n",
       "      <th>882</th>\n",
       "      <td>30</td>\n",
       "      <td>1</td>\n",
       "    </tr>\n",
       "    <tr>\n",
       "      <th>4624</th>\n",
       "      <td>74</td>\n",
       "      <td>4</td>\n",
       "    </tr>\n",
       "    <tr>\n",
       "      <th>3061</th>\n",
       "      <td>54</td>\n",
       "      <td>3</td>\n",
       "    </tr>\n",
       "    <tr>\n",
       "      <th>1827</th>\n",
       "      <td>40</td>\n",
       "      <td>2</td>\n",
       "    </tr>\n",
       "    <tr>\n",
       "      <th>3541</th>\n",
       "      <td>60</td>\n",
       "      <td>3</td>\n",
       "    </tr>\n",
       "    <tr>\n",
       "      <th>3531</th>\n",
       "      <td>60</td>\n",
       "      <td>3</td>\n",
       "    </tr>\n",
       "    <tr>\n",
       "      <th>525</th>\n",
       "      <td>26</td>\n",
       "      <td>1</td>\n",
       "    </tr>\n",
       "    <tr>\n",
       "      <th>3747</th>\n",
       "      <td>62</td>\n",
       "      <td>3</td>\n",
       "    </tr>\n",
       "    <tr>\n",
       "      <th>687</th>\n",
       "      <td>28</td>\n",
       "      <td>1</td>\n",
       "    </tr>\n",
       "    <tr>\n",
       "      <th>3891</th>\n",
       "      <td>63</td>\n",
       "      <td>3</td>\n",
       "    </tr>\n",
       "    <tr>\n",
       "      <th>5012</th>\n",
       "      <td>80</td>\n",
       "      <td>4</td>\n",
       "    </tr>\n",
       "    <tr>\n",
       "      <th>4946</th>\n",
       "      <td>80</td>\n",
       "      <td>4</td>\n",
       "    </tr>\n",
       "    <tr>\n",
       "      <th>54</th>\n",
       "      <td>21</td>\n",
       "      <td>1</td>\n",
       "    </tr>\n",
       "    <tr>\n",
       "      <th>4850</th>\n",
       "      <td>80</td>\n",
       "      <td>4</td>\n",
       "    </tr>\n",
       "    <tr>\n",
       "      <th>2794</th>\n",
       "      <td>51</td>\n",
       "      <td>3</td>\n",
       "    </tr>\n",
       "    <tr>\n",
       "      <th>446</th>\n",
       "      <td>25</td>\n",
       "      <td>1</td>\n",
       "    </tr>\n",
       "    <tr>\n",
       "      <th>899</th>\n",
       "      <td>30</td>\n",
       "      <td>1</td>\n",
       "    </tr>\n",
       "    <tr>\n",
       "      <th>2421</th>\n",
       "      <td>47</td>\n",
       "      <td>3</td>\n",
       "    </tr>\n",
       "    <tr>\n",
       "      <th>1318</th>\n",
       "      <td>35</td>\n",
       "      <td>2</td>\n",
       "    </tr>\n",
       "    <tr>\n",
       "      <th>3065</th>\n",
       "      <td>54</td>\n",
       "      <td>3</td>\n",
       "    </tr>\n",
       "    <tr>\n",
       "      <th>1164</th>\n",
       "      <td>33</td>\n",
       "      <td>2</td>\n",
       "    </tr>\n",
       "    <tr>\n",
       "      <th>1142</th>\n",
       "      <td>33</td>\n",
       "      <td>2</td>\n",
       "    </tr>\n",
       "    <tr>\n",
       "      <th>4944</th>\n",
       "      <td>80</td>\n",
       "      <td>4</td>\n",
       "    </tr>\n",
       "    <tr>\n",
       "      <th>768</th>\n",
       "      <td>29</td>\n",
       "      <td>1</td>\n",
       "    </tr>\n",
       "    <tr>\n",
       "      <th>3069</th>\n",
       "      <td>54</td>\n",
       "      <td>3</td>\n",
       "    </tr>\n",
       "    <tr>\n",
       "      <th>223</th>\n",
       "      <td>23</td>\n",
       "      <td>1</td>\n",
       "    </tr>\n",
       "    <tr>\n",
       "      <th>4420</th>\n",
       "      <td>70</td>\n",
       "      <td>4</td>\n",
       "    </tr>\n",
       "    <tr>\n",
       "      <th>423</th>\n",
       "      <td>25</td>\n",
       "      <td>1</td>\n",
       "    </tr>\n",
       "    <tr>\n",
       "      <th>4901</th>\n",
       "      <td>80</td>\n",
       "      <td>4</td>\n",
       "    </tr>\n",
       "    <tr>\n",
       "      <th>1984</th>\n",
       "      <td>42</td>\n",
       "      <td>2</td>\n",
       "    </tr>\n",
       "    <tr>\n",
       "      <th>2089</th>\n",
       "      <td>43</td>\n",
       "      <td>2</td>\n",
       "    </tr>\n",
       "    <tr>\n",
       "      <th>3975</th>\n",
       "      <td>64</td>\n",
       "      <td>3</td>\n",
       "    </tr>\n",
       "    <tr>\n",
       "      <th>2307</th>\n",
       "      <td>46</td>\n",
       "      <td>3</td>\n",
       "    </tr>\n",
       "    <tr>\n",
       "      <th>630</th>\n",
       "      <td>27</td>\n",
       "      <td>1</td>\n",
       "    </tr>\n",
       "    <tr>\n",
       "      <th>3455</th>\n",
       "      <td>59</td>\n",
       "      <td>3</td>\n",
       "    </tr>\n",
       "    <tr>\n",
       "      <th>542</th>\n",
       "      <td>26</td>\n",
       "      <td>1</td>\n",
       "    </tr>\n",
       "    <tr>\n",
       "      <th>608</th>\n",
       "      <td>27</td>\n",
       "      <td>1</td>\n",
       "    </tr>\n",
       "    <tr>\n",
       "      <th>1439</th>\n",
       "      <td>36</td>\n",
       "      <td>2</td>\n",
       "    </tr>\n",
       "    <tr>\n",
       "      <th>355</th>\n",
       "      <td>24</td>\n",
       "      <td>1</td>\n",
       "    </tr>\n",
       "    <tr>\n",
       "      <th>1997</th>\n",
       "      <td>42</td>\n",
       "      <td>2</td>\n",
       "    </tr>\n",
       "    <tr>\n",
       "      <th>2054</th>\n",
       "      <td>43</td>\n",
       "      <td>2</td>\n",
       "    </tr>\n",
       "    <tr>\n",
       "      <th>4478</th>\n",
       "      <td>71</td>\n",
       "      <td>4</td>\n",
       "    </tr>\n",
       "    <tr>\n",
       "      <th>626</th>\n",
       "      <td>27</td>\n",
       "      <td>1</td>\n",
       "    </tr>\n",
       "    <tr>\n",
       "      <th>5110</th>\n",
       "      <td>80</td>\n",
       "      <td>4</td>\n",
       "    </tr>\n",
       "    <tr>\n",
       "      <th>3880</th>\n",
       "      <td>63</td>\n",
       "      <td>3</td>\n",
       "    </tr>\n",
       "    <tr>\n",
       "      <th>2275</th>\n",
       "      <td>45</td>\n",
       "      <td>2</td>\n",
       "    </tr>\n",
       "    <tr>\n",
       "      <th>3921</th>\n",
       "      <td>63</td>\n",
       "      <td>3</td>\n",
       "    </tr>\n",
       "  </tbody>\n",
       "</table>\n",
       "</div>"
      ],
      "text/plain": [
       "      age  age_group\n",
       "3068   54          3\n",
       "4656   74          4\n",
       "1061   32          2\n",
       "882    30          1\n",
       "4624   74          4\n",
       "3061   54          3\n",
       "1827   40          2\n",
       "3541   60          3\n",
       "3531   60          3\n",
       "525    26          1\n",
       "3747   62          3\n",
       "687    28          1\n",
       "3891   63          3\n",
       "5012   80          4\n",
       "4946   80          4\n",
       "54     21          1\n",
       "4850   80          4\n",
       "2794   51          3\n",
       "446    25          1\n",
       "899    30          1\n",
       "2421   47          3\n",
       "1318   35          2\n",
       "3065   54          3\n",
       "1164   33          2\n",
       "1142   33          2\n",
       "4944   80          4\n",
       "768    29          1\n",
       "3069   54          3\n",
       "223    23          1\n",
       "4420   70          4\n",
       "423    25          1\n",
       "4901   80          4\n",
       "1984   42          2\n",
       "2089   43          2\n",
       "3975   64          3\n",
       "2307   46          3\n",
       "630    27          1\n",
       "3455   59          3\n",
       "542    26          1\n",
       "608    27          1\n",
       "1439   36          2\n",
       "355    24          1\n",
       "1997   42          2\n",
       "2054   43          2\n",
       "4478   71          4\n",
       "626    27          1\n",
       "5110   80          4\n",
       "3880   63          3\n",
       "2275   45          2\n",
       "3921   63          3"
      ]
     },
     "execution_count": 6,
     "metadata": {},
     "output_type": "execute_result"
    }
   ],
   "source": [
    "#Age Group \n",
    "\n",
    "# 0=  0-20\n",
    "# 1=  21-30\n",
    "# 2=  31-45\n",
    "# 3=  46-65\n",
    "# 4=  65+\n",
    "conditions1 = [\n",
    "    (df1['age'] >20)&(df1['age'] <31),\n",
    "    (df1['age'] >30)&(df1['age'] <46),\n",
    "    (df1['age'] >45)&(df1['age'] <66),\n",
    "    df1['age'] >65\n",
    "]\n",
    "choices1 = [1, 2, 3,4]\n",
    "df1['age_group'] = np.select(conditions1, choices1, default=0)\n",
    "\n",
    "\n",
    "#df1['age_group'] = 0\n",
    "#df1.loc[(df1['age'] >20)&(df1['age'] <31),'age_group'] = 1\n",
    "#df1.loc[(df1['age'] >30)&(df1['age'] <46),'age_group']= 2\n",
    "#df1.loc[(df1['age'] >45)&(df1['age'] <66),'age_group'] = 3\n",
    "#df1.loc[df1['age'] >65,'age_group'] = 4\n",
    "\n",
    "df1[[\"age\",\"age_group\"]].sample(50)"
   ]
  },
  {
   "cell_type": "code",
   "execution_count": 7,
   "metadata": {},
   "outputs": [
    {
     "name": "stderr",
     "output_type": "stream",
     "text": [
      "/Users/angelaromansivirichi/opt/anaconda3/lib/python3.7/site-packages/ipykernel_launcher.py:13: SettingWithCopyWarning: \n",
      "A value is trying to be set on a copy of a slice from a DataFrame.\n",
      "Try using .loc[row_indexer,col_indexer] = value instead\n",
      "\n",
      "See the caveats in the documentation: https://pandas.pydata.org/pandas-docs/stable/user_guide/indexing.html#returning-a-view-versus-a-copy\n",
      "  del sys.path[0]\n"
     ]
    },
    {
     "data": {
      "text/html": [
       "<div>\n",
       "<style scoped>\n",
       "    .dataframe tbody tr th:only-of-type {\n",
       "        vertical-align: middle;\n",
       "    }\n",
       "\n",
       "    .dataframe tbody tr th {\n",
       "        vertical-align: top;\n",
       "    }\n",
       "\n",
       "    .dataframe thead th {\n",
       "        text-align: right;\n",
       "    }\n",
       "</style>\n",
       "<table border=\"1\" class=\"dataframe\">\n",
       "  <thead>\n",
       "    <tr style=\"text-align: right;\">\n",
       "      <th></th>\n",
       "      <th>sys_bp</th>\n",
       "      <th>dia_bp</th>\n",
       "      <th>bp_group</th>\n",
       "    </tr>\n",
       "  </thead>\n",
       "  <tbody>\n",
       "    <tr>\n",
       "      <th>292</th>\n",
       "      <td>120.0</td>\n",
       "      <td>70.0</td>\n",
       "      <td>1</td>\n",
       "    </tr>\n",
       "    <tr>\n",
       "      <th>62</th>\n",
       "      <td>116.0</td>\n",
       "      <td>80.0</td>\n",
       "      <td>2</td>\n",
       "    </tr>\n",
       "    <tr>\n",
       "      <th>4386</th>\n",
       "      <td>114.0</td>\n",
       "      <td>50.0</td>\n",
       "      <td>0</td>\n",
       "    </tr>\n",
       "    <tr>\n",
       "      <th>1147</th>\n",
       "      <td>120.0</td>\n",
       "      <td>84.0</td>\n",
       "      <td>2</td>\n",
       "    </tr>\n",
       "    <tr>\n",
       "      <th>4378</th>\n",
       "      <td>116.0</td>\n",
       "      <td>52.0</td>\n",
       "      <td>0</td>\n",
       "    </tr>\n",
       "    <tr>\n",
       "      <th>4912</th>\n",
       "      <td>190.0</td>\n",
       "      <td>70.0</td>\n",
       "      <td>2</td>\n",
       "    </tr>\n",
       "    <tr>\n",
       "      <th>3035</th>\n",
       "      <td>144.0</td>\n",
       "      <td>66.0</td>\n",
       "      <td>2</td>\n",
       "    </tr>\n",
       "    <tr>\n",
       "      <th>4329</th>\n",
       "      <td>154.0</td>\n",
       "      <td>78.0</td>\n",
       "      <td>2</td>\n",
       "    </tr>\n",
       "    <tr>\n",
       "      <th>116</th>\n",
       "      <td>134.0</td>\n",
       "      <td>46.0</td>\n",
       "      <td>2</td>\n",
       "    </tr>\n",
       "    <tr>\n",
       "      <th>4851</th>\n",
       "      <td>156.0</td>\n",
       "      <td>76.0</td>\n",
       "      <td>2</td>\n",
       "    </tr>\n",
       "    <tr>\n",
       "      <th>4404</th>\n",
       "      <td>116.0</td>\n",
       "      <td>64.0</td>\n",
       "      <td>0</td>\n",
       "    </tr>\n",
       "    <tr>\n",
       "      <th>4511</th>\n",
       "      <td>126.0</td>\n",
       "      <td>64.0</td>\n",
       "      <td>1</td>\n",
       "    </tr>\n",
       "    <tr>\n",
       "      <th>4632</th>\n",
       "      <td>122.0</td>\n",
       "      <td>72.0</td>\n",
       "      <td>1</td>\n",
       "    </tr>\n",
       "    <tr>\n",
       "      <th>4587</th>\n",
       "      <td>154.0</td>\n",
       "      <td>90.0</td>\n",
       "      <td>2</td>\n",
       "    </tr>\n",
       "    <tr>\n",
       "      <th>4161</th>\n",
       "      <td>124.0</td>\n",
       "      <td>84.0</td>\n",
       "      <td>2</td>\n",
       "    </tr>\n",
       "    <tr>\n",
       "      <th>3386</th>\n",
       "      <td>128.0</td>\n",
       "      <td>88.0</td>\n",
       "      <td>2</td>\n",
       "    </tr>\n",
       "    <tr>\n",
       "      <th>158</th>\n",
       "      <td>114.0</td>\n",
       "      <td>76.0</td>\n",
       "      <td>0</td>\n",
       "    </tr>\n",
       "    <tr>\n",
       "      <th>119</th>\n",
       "      <td>106.0</td>\n",
       "      <td>66.0</td>\n",
       "      <td>0</td>\n",
       "    </tr>\n",
       "    <tr>\n",
       "      <th>317</th>\n",
       "      <td>124.0</td>\n",
       "      <td>74.0</td>\n",
       "      <td>1</td>\n",
       "    </tr>\n",
       "    <tr>\n",
       "      <th>4447</th>\n",
       "      <td>120.0</td>\n",
       "      <td>74.0</td>\n",
       "      <td>1</td>\n",
       "    </tr>\n",
       "    <tr>\n",
       "      <th>3339</th>\n",
       "      <td>148.0</td>\n",
       "      <td>74.0</td>\n",
       "      <td>2</td>\n",
       "    </tr>\n",
       "    <tr>\n",
       "      <th>2920</th>\n",
       "      <td>166.0</td>\n",
       "      <td>108.0</td>\n",
       "      <td>2</td>\n",
       "    </tr>\n",
       "    <tr>\n",
       "      <th>1791</th>\n",
       "      <td>116.0</td>\n",
       "      <td>80.0</td>\n",
       "      <td>2</td>\n",
       "    </tr>\n",
       "    <tr>\n",
       "      <th>3367</th>\n",
       "      <td>108.0</td>\n",
       "      <td>58.0</td>\n",
       "      <td>0</td>\n",
       "    </tr>\n",
       "    <tr>\n",
       "      <th>547</th>\n",
       "      <td>118.0</td>\n",
       "      <td>66.0</td>\n",
       "      <td>0</td>\n",
       "    </tr>\n",
       "    <tr>\n",
       "      <th>4623</th>\n",
       "      <td>126.0</td>\n",
       "      <td>64.0</td>\n",
       "      <td>1</td>\n",
       "    </tr>\n",
       "    <tr>\n",
       "      <th>1061</th>\n",
       "      <td>112.0</td>\n",
       "      <td>74.0</td>\n",
       "      <td>0</td>\n",
       "    </tr>\n",
       "    <tr>\n",
       "      <th>1556</th>\n",
       "      <td>102.0</td>\n",
       "      <td>62.0</td>\n",
       "      <td>0</td>\n",
       "    </tr>\n",
       "    <tr>\n",
       "      <th>3899</th>\n",
       "      <td>128.0</td>\n",
       "      <td>76.0</td>\n",
       "      <td>1</td>\n",
       "    </tr>\n",
       "    <tr>\n",
       "      <th>1793</th>\n",
       "      <td>118.0</td>\n",
       "      <td>70.0</td>\n",
       "      <td>0</td>\n",
       "    </tr>\n",
       "    <tr>\n",
       "      <th>535</th>\n",
       "      <td>102.0</td>\n",
       "      <td>56.0</td>\n",
       "      <td>0</td>\n",
       "    </tr>\n",
       "    <tr>\n",
       "      <th>4638</th>\n",
       "      <td>114.0</td>\n",
       "      <td>62.0</td>\n",
       "      <td>0</td>\n",
       "    </tr>\n",
       "    <tr>\n",
       "      <th>809</th>\n",
       "      <td>114.0</td>\n",
       "      <td>68.0</td>\n",
       "      <td>0</td>\n",
       "    </tr>\n",
       "    <tr>\n",
       "      <th>3667</th>\n",
       "      <td>150.0</td>\n",
       "      <td>82.0</td>\n",
       "      <td>2</td>\n",
       "    </tr>\n",
       "    <tr>\n",
       "      <th>4057</th>\n",
       "      <td>132.0</td>\n",
       "      <td>76.0</td>\n",
       "      <td>2</td>\n",
       "    </tr>\n",
       "    <tr>\n",
       "      <th>4465</th>\n",
       "      <td>100.0</td>\n",
       "      <td>58.0</td>\n",
       "      <td>0</td>\n",
       "    </tr>\n",
       "    <tr>\n",
       "      <th>471</th>\n",
       "      <td>110.0</td>\n",
       "      <td>54.0</td>\n",
       "      <td>0</td>\n",
       "    </tr>\n",
       "    <tr>\n",
       "      <th>3410</th>\n",
       "      <td>106.0</td>\n",
       "      <td>64.0</td>\n",
       "      <td>0</td>\n",
       "    </tr>\n",
       "    <tr>\n",
       "      <th>347</th>\n",
       "      <td>120.0</td>\n",
       "      <td>58.0</td>\n",
       "      <td>1</td>\n",
       "    </tr>\n",
       "    <tr>\n",
       "      <th>3395</th>\n",
       "      <td>110.0</td>\n",
       "      <td>72.0</td>\n",
       "      <td>0</td>\n",
       "    </tr>\n",
       "    <tr>\n",
       "      <th>1629</th>\n",
       "      <td>164.0</td>\n",
       "      <td>84.0</td>\n",
       "      <td>2</td>\n",
       "    </tr>\n",
       "    <tr>\n",
       "      <th>751</th>\n",
       "      <td>120.0</td>\n",
       "      <td>74.0</td>\n",
       "      <td>1</td>\n",
       "    </tr>\n",
       "    <tr>\n",
       "      <th>817</th>\n",
       "      <td>116.0</td>\n",
       "      <td>74.0</td>\n",
       "      <td>0</td>\n",
       "    </tr>\n",
       "    <tr>\n",
       "      <th>4993</th>\n",
       "      <td>122.0</td>\n",
       "      <td>72.0</td>\n",
       "      <td>1</td>\n",
       "    </tr>\n",
       "    <tr>\n",
       "      <th>1389</th>\n",
       "      <td>158.0</td>\n",
       "      <td>100.0</td>\n",
       "      <td>2</td>\n",
       "    </tr>\n",
       "    <tr>\n",
       "      <th>3132</th>\n",
       "      <td>112.0</td>\n",
       "      <td>62.0</td>\n",
       "      <td>0</td>\n",
       "    </tr>\n",
       "    <tr>\n",
       "      <th>4439</th>\n",
       "      <td>134.0</td>\n",
       "      <td>68.0</td>\n",
       "      <td>2</td>\n",
       "    </tr>\n",
       "    <tr>\n",
       "      <th>792</th>\n",
       "      <td>108.0</td>\n",
       "      <td>52.0</td>\n",
       "      <td>0</td>\n",
       "    </tr>\n",
       "    <tr>\n",
       "      <th>3524</th>\n",
       "      <td>144.0</td>\n",
       "      <td>86.0</td>\n",
       "      <td>2</td>\n",
       "    </tr>\n",
       "    <tr>\n",
       "      <th>2563</th>\n",
       "      <td>114.0</td>\n",
       "      <td>86.0</td>\n",
       "      <td>2</td>\n",
       "    </tr>\n",
       "  </tbody>\n",
       "</table>\n",
       "</div>"
      ],
      "text/plain": [
       "      sys_bp  dia_bp  bp_group\n",
       "292    120.0    70.0         1\n",
       "62     116.0    80.0         2\n",
       "4386   114.0    50.0         0\n",
       "1147   120.0    84.0         2\n",
       "4378   116.0    52.0         0\n",
       "4912   190.0    70.0         2\n",
       "3035   144.0    66.0         2\n",
       "4329   154.0    78.0         2\n",
       "116    134.0    46.0         2\n",
       "4851   156.0    76.0         2\n",
       "4404   116.0    64.0         0\n",
       "4511   126.0    64.0         1\n",
       "4632   122.0    72.0         1\n",
       "4587   154.0    90.0         2\n",
       "4161   124.0    84.0         2\n",
       "3386   128.0    88.0         2\n",
       "158    114.0    76.0         0\n",
       "119    106.0    66.0         0\n",
       "317    124.0    74.0         1\n",
       "4447   120.0    74.0         1\n",
       "3339   148.0    74.0         2\n",
       "2920   166.0   108.0         2\n",
       "1791   116.0    80.0         2\n",
       "3367   108.0    58.0         0\n",
       "547    118.0    66.0         0\n",
       "4623   126.0    64.0         1\n",
       "1061   112.0    74.0         0\n",
       "1556   102.0    62.0         0\n",
       "3899   128.0    76.0         1\n",
       "1793   118.0    70.0         0\n",
       "535    102.0    56.0         0\n",
       "4638   114.0    62.0         0\n",
       "809    114.0    68.0         0\n",
       "3667   150.0    82.0         2\n",
       "4057   132.0    76.0         2\n",
       "4465   100.0    58.0         0\n",
       "471    110.0    54.0         0\n",
       "3410   106.0    64.0         0\n",
       "347    120.0    58.0         1\n",
       "3395   110.0    72.0         0\n",
       "1629   164.0    84.0         2\n",
       "751    120.0    74.0         1\n",
       "817    116.0    74.0         0\n",
       "4993   122.0    72.0         1\n",
       "1389   158.0   100.0         2\n",
       "3132   112.0    62.0         0\n",
       "4439   134.0    68.0         2\n",
       "792    108.0    52.0         0\n",
       "3524   144.0    86.0         2\n",
       "2563   114.0    86.0         2"
      ]
     },
     "execution_count": 7,
     "metadata": {},
     "output_type": "execute_result"
    }
   ],
   "source": [
    "#Blood Pressure Group \n",
    "#Systolic Blood Pressure less than 120 and Diastolic Blood Pressure of less than 80\n",
    "#Systolic Blood Pressure between 120 and 129 and Diastolic Blood Pressure of less than 80\n",
    "#Systolic Blood Pressure greater than 130 or  Diastolic Blood Pressure of greater than 80\n",
    "\n",
    "conditions2 = [\n",
    "    (df1['sys_bp'] <120)&(df1['dia_bp'] <80),\n",
    "   (df1['sys_bp'] >119)&(df1['sys_bp'] <=129)&(df1['dia_bp'] <80),\n",
    "    (df1['sys_bp'] >129)|(df1['dia_bp'] >=80),\n",
    " \n",
    "]\n",
    "choices2 = [0, 1, 2]\n",
    "df1['bp_group'] = np.select(conditions2, choices2, default=0)\n",
    "#df1['bp_group'] = 0\n",
    "#df1.loc[(df['sys_bp'] <120)&(df1['dia_bp'] <80),'bp_group'] = 0\n",
    "#df1.loc[(df['sys_bp'] >119)&(df1['sys_bp'] <=129)&(df['dia_bp'] <80),'bp_group'] = 1\n",
    "#df1.loc[(df['sys_bp'] >129)|(df1['dia_bp'] >=80),'bp_group'] = 2\n",
    "\n",
    "\n",
    "df1[[\"sys_bp\",\"dia_bp\",\"bp_group\"]].sample(50)\n"
   ]
  },
  {
   "cell_type": "code",
   "execution_count": 8,
   "metadata": {},
   "outputs": [],
   "source": [
    "df2=df1.drop(columns=['seqn'])"
   ]
  },
  {
   "cell_type": "code",
   "execution_count": 9,
   "metadata": {},
   "outputs": [],
   "source": [
    "df2[\"diabetes\"]= df2[\"diabetes\"]-1\n",
    "\n",
    "target = df2[\"diabetes\"]\n",
    "target_names = [0,1,2]"
   ]
  },
  {
   "cell_type": "code",
   "execution_count": 10,
   "metadata": {},
   "outputs": [
    {
     "data": {
      "text/html": [
       "<div>\n",
       "<style scoped>\n",
       "    .dataframe tbody tr th:only-of-type {\n",
       "        vertical-align: middle;\n",
       "    }\n",
       "\n",
       "    .dataframe tbody tr th {\n",
       "        vertical-align: top;\n",
       "    }\n",
       "\n",
       "    .dataframe thead th {\n",
       "        text-align: right;\n",
       "    }\n",
       "</style>\n",
       "<table border=\"1\" class=\"dataframe\">\n",
       "  <thead>\n",
       "    <tr style=\"text-align: right;\">\n",
       "      <th></th>\n",
       "      <th>gender</th>\n",
       "      <th>age</th>\n",
       "      <th>race</th>\n",
       "      <th>education</th>\n",
       "      <th>marital</th>\n",
       "      <th>income</th>\n",
       "      <th>household_size</th>\n",
       "      <th>insurance</th>\n",
       "      <th>gen_health</th>\n",
       "      <th>asthma</th>\n",
       "      <th>...</th>\n",
       "      <th>hgb</th>\n",
       "      <th>hct</th>\n",
       "      <th>platelets</th>\n",
       "      <th>s_cotinine</th>\n",
       "      <th>a1c</th>\n",
       "      <th>hdl</th>\n",
       "      <th>grip_strength</th>\n",
       "      <th>bmi_group</th>\n",
       "      <th>age_group</th>\n",
       "      <th>bp_group</th>\n",
       "    </tr>\n",
       "  </thead>\n",
       "  <tbody>\n",
       "    <tr>\n",
       "      <th>0</th>\n",
       "      <td>1</td>\n",
       "      <td>21</td>\n",
       "      <td>7</td>\n",
       "      <td>2.0</td>\n",
       "      <td>6.0</td>\n",
       "      <td>1.0</td>\n",
       "      <td>2</td>\n",
       "      <td>1</td>\n",
       "      <td>3.0</td>\n",
       "      <td>2.0</td>\n",
       "      <td>...</td>\n",
       "      <td>12.7</td>\n",
       "      <td>36.1</td>\n",
       "      <td>157.0</td>\n",
       "      <td>0.654</td>\n",
       "      <td>5.0</td>\n",
       "      <td>47.0</td>\n",
       "      <td>50.3</td>\n",
       "      <td>0</td>\n",
       "      <td>1</td>\n",
       "      <td>0</td>\n",
       "    </tr>\n",
       "    <tr>\n",
       "      <th>1</th>\n",
       "      <td>0</td>\n",
       "      <td>21</td>\n",
       "      <td>1</td>\n",
       "      <td>2.0</td>\n",
       "      <td>6.0</td>\n",
       "      <td>3.0</td>\n",
       "      <td>4</td>\n",
       "      <td>2</td>\n",
       "      <td>3.0</td>\n",
       "      <td>1.0</td>\n",
       "      <td>...</td>\n",
       "      <td>15.1</td>\n",
       "      <td>44.4</td>\n",
       "      <td>226.0</td>\n",
       "      <td>0.221</td>\n",
       "      <td>5.2</td>\n",
       "      <td>40.0</td>\n",
       "      <td>90.1</td>\n",
       "      <td>1</td>\n",
       "      <td>1</td>\n",
       "      <td>0</td>\n",
       "    </tr>\n",
       "    <tr>\n",
       "      <th>2</th>\n",
       "      <td>0</td>\n",
       "      <td>21</td>\n",
       "      <td>2</td>\n",
       "      <td>3.0</td>\n",
       "      <td>5.0</td>\n",
       "      <td>4.0</td>\n",
       "      <td>3</td>\n",
       "      <td>1</td>\n",
       "      <td>3.0</td>\n",
       "      <td>2.0</td>\n",
       "      <td>...</td>\n",
       "      <td>14.4</td>\n",
       "      <td>41.3</td>\n",
       "      <td>266.0</td>\n",
       "      <td>0.011</td>\n",
       "      <td>5.1</td>\n",
       "      <td>38.0</td>\n",
       "      <td>72.7</td>\n",
       "      <td>1</td>\n",
       "      <td>1</td>\n",
       "      <td>0</td>\n",
       "    </tr>\n",
       "    <tr>\n",
       "      <th>3</th>\n",
       "      <td>0</td>\n",
       "      <td>21</td>\n",
       "      <td>1</td>\n",
       "      <td>2.0</td>\n",
       "      <td>5.0</td>\n",
       "      <td>4.0</td>\n",
       "      <td>4</td>\n",
       "      <td>1</td>\n",
       "      <td>4.0</td>\n",
       "      <td>2.0</td>\n",
       "      <td>...</td>\n",
       "      <td>14.7</td>\n",
       "      <td>43.0</td>\n",
       "      <td>206.0</td>\n",
       "      <td>16.300</td>\n",
       "      <td>5.1</td>\n",
       "      <td>55.0</td>\n",
       "      <td>86.6</td>\n",
       "      <td>0</td>\n",
       "      <td>1</td>\n",
       "      <td>0</td>\n",
       "    </tr>\n",
       "    <tr>\n",
       "      <th>4</th>\n",
       "      <td>0</td>\n",
       "      <td>21</td>\n",
       "      <td>2</td>\n",
       "      <td>3.0</td>\n",
       "      <td>5.0</td>\n",
       "      <td>10.0</td>\n",
       "      <td>2</td>\n",
       "      <td>1</td>\n",
       "      <td>2.0</td>\n",
       "      <td>2.0</td>\n",
       "      <td>...</td>\n",
       "      <td>15.6</td>\n",
       "      <td>45.1</td>\n",
       "      <td>306.0</td>\n",
       "      <td>212.000</td>\n",
       "      <td>6.0</td>\n",
       "      <td>39.0</td>\n",
       "      <td>94.4</td>\n",
       "      <td>2</td>\n",
       "      <td>1</td>\n",
       "      <td>2</td>\n",
       "    </tr>\n",
       "  </tbody>\n",
       "</table>\n",
       "<p>5 rows × 58 columns</p>\n",
       "</div>"
      ],
      "text/plain": [
       "   gender  age  race  education  marital  income  household_size  insurance  \\\n",
       "0       1   21     7        2.0      6.0     1.0               2          1   \n",
       "1       0   21     1        2.0      6.0     3.0               4          2   \n",
       "2       0   21     2        3.0      5.0     4.0               3          1   \n",
       "3       0   21     1        2.0      5.0     4.0               4          1   \n",
       "4       0   21     2        3.0      5.0    10.0               2          1   \n",
       "\n",
       "   gen_health  asthma  ...   hgb   hct  platelets  s_cotinine  a1c   hdl  \\\n",
       "0         3.0     2.0  ...  12.7  36.1      157.0       0.654  5.0  47.0   \n",
       "1         3.0     1.0  ...  15.1  44.4      226.0       0.221  5.2  40.0   \n",
       "2         3.0     2.0  ...  14.4  41.3      266.0       0.011  5.1  38.0   \n",
       "3         4.0     2.0  ...  14.7  43.0      206.0      16.300  5.1  55.0   \n",
       "4         2.0     2.0  ...  15.6  45.1      306.0     212.000  6.0  39.0   \n",
       "\n",
       "   grip_strength  bmi_group  age_group  bp_group  \n",
       "0           50.3          0          1         0  \n",
       "1           90.1          1          1         0  \n",
       "2           72.7          1          1         0  \n",
       "3           86.6          0          1         0  \n",
       "4           94.4          2          1         2  \n",
       "\n",
       "[5 rows x 58 columns]"
      ]
     },
     "execution_count": 10,
     "metadata": {},
     "output_type": "execute_result"
    }
   ],
   "source": [
    "data = df2.drop(\"diabetes\", axis=1) \n",
    "feature_names = data.columns \n",
    "data.head()"
   ]
  },
  {
   "cell_type": "code",
   "execution_count": 11,
   "metadata": {},
   "outputs": [],
   "source": [
    "from sklearn.model_selection import train_test_split\n",
    "X_train, X_test, y_train, y_test = train_test_split(data, target, random_state=42, shuffle=True)"
   ]
  },
  {
   "cell_type": "code",
   "execution_count": 12,
   "metadata": {},
   "outputs": [
    {
     "data": {
      "text/plain": [
       "0.8503067484662576"
      ]
     },
     "execution_count": 12,
     "metadata": {},
     "output_type": "execute_result"
    }
   ],
   "source": [
    "clf = tree.DecisionTreeClassifier() \n",
    "clf = clf.fit(X_train, y_train) \n",
    "clf.score(X_test, y_test)"
   ]
  },
  {
   "cell_type": "code",
   "execution_count": 13,
   "metadata": {},
   "outputs": [
    {
     "data": {
      "text/plain": [
       "0.9226993865030675"
      ]
     },
     "execution_count": 13,
     "metadata": {},
     "output_type": "execute_result"
    }
   ],
   "source": [
    "from sklearn.ensemble import RandomForestClassifier \n",
    "rf = RandomForestClassifier(n_estimators=75) \n",
    "rf = rf.fit(X_train, y_train) \n",
    "rf.score(X_test, y_test)"
   ]
  },
  {
   "cell_type": "code",
   "execution_count": 14,
   "metadata": {},
   "outputs": [
    {
     "data": {
      "text/plain": [
       "dtype('float64')"
      ]
     },
     "execution_count": 14,
     "metadata": {},
     "output_type": "execute_result"
    }
   ],
   "source": [
    "feature_imp=sorted(zip(rf.feature_importances_, feature_names), reverse=True)\n",
    "\n",
    "feature_imp[1][0].dtype"
   ]
  },
  {
   "cell_type": "code",
   "execution_count": 15,
   "metadata": {},
   "outputs": [
    {
     "data": {
      "text/plain": [
       "['a1c',\n",
       " 'glucose',\n",
       " 'alb_cr_ratio',\n",
       " 't_chol',\n",
       " 'trigs',\n",
       " 'platelets',\n",
       " 'grip_strength',\n",
       " 'ldh',\n",
       " 'cr',\n",
       " 'alk_phos',\n",
       " 'wbc',\n",
       " 'potassium',\n",
       " 'alt',\n",
       " 'hct',\n",
       " 'bun',\n",
       " 'ca',\n",
       " 'u_acid',\n",
       " 'cpk',\n",
       " 'sodium',\n",
       " 'hdl',\n",
       " 'hgb',\n",
       " 'glob',\n",
       " 'ast',\n",
       " 't_protein',\n",
       " 'iron',\n",
       " 'hypertension',\n",
       " 'gen_health',\n",
       " 'phos',\n",
       " 's_cotinine',\n",
       " 'chloride',\n",
       " 't_bilirubin']"
      ]
     },
     "execution_count": 15,
     "metadata": {},
     "output_type": "execute_result"
    }
   ],
   "source": [
    "remlist=['age', 'bmi','height_cm','waist_cm','weight_kg','dia_bp','sys_bp']\n",
    "feats= []\n",
    "\n",
    "for x in feature_imp: \n",
    "    if x[0]>0.01 and x[1] not in remlist:\n",
    "        feats.append(x[1])\n",
    "        \n",
    "\n",
    "\n",
    "feats        \n",
    "\n"
   ]
  },
  {
   "cell_type": "code",
   "execution_count": 26,
   "metadata": {},
   "outputs": [
    {
     "data": {
      "text/plain": [
       "['a1c',\n",
       " 'glucose',\n",
       " 'alb_cr_ratio',\n",
       " 't_chol',\n",
       " 'trigs',\n",
       " 'platelets',\n",
       " 'grip_strength',\n",
       " 'ldh',\n",
       " 'cr',\n",
       " 'alk_phos',\n",
       " 'wbc',\n",
       " 'potassium',\n",
       " 'alt',\n",
       " 'hct',\n",
       " 'bun',\n",
       " 'ca',\n",
       " 'u_acid',\n",
       " 'cpk',\n",
       " 'sodium',\n",
       " 'hdl',\n",
       " 'hgb',\n",
       " 'glob',\n",
       " 'ast',\n",
       " 't_protein',\n",
       " 'iron',\n",
       " 'hypertension',\n",
       " 'gen_health',\n",
       " 'phos',\n",
       " 's_cotinine',\n",
       " 'chloride',\n",
       " 't_bilirubin',\n",
       " 'bmi_group',\n",
       " 'age_group',\n",
       " 'bp_group',\n",
       " 'diabetes']"
      ]
     },
     "execution_count": 26,
     "metadata": {},
     "output_type": "execute_result"
    }
   ],
   "source": [
    "group_list=[\"bmi_group\", \"age_group\", \"bp_group\",\"diabetes\"]\n",
    "\n",
    "for x in group_list: \n",
    "    if x not in feats: \n",
    "        feats.append(x)\n",
    "        \n",
    "feats"
   ]
  },
  {
   "cell_type": "code",
   "execution_count": 27,
   "metadata": {},
   "outputs": [],
   "source": [
    "diab_df =df2[feats]"
   ]
  },
  {
   "cell_type": "code",
   "execution_count": 28,
   "metadata": {},
   "outputs": [
    {
     "data": {
      "text/html": [
       "<div>\n",
       "<style scoped>\n",
       "    .dataframe tbody tr th:only-of-type {\n",
       "        vertical-align: middle;\n",
       "    }\n",
       "\n",
       "    .dataframe tbody tr th {\n",
       "        vertical-align: top;\n",
       "    }\n",
       "\n",
       "    .dataframe thead th {\n",
       "        text-align: right;\n",
       "    }\n",
       "</style>\n",
       "<table border=\"1\" class=\"dataframe\">\n",
       "  <thead>\n",
       "    <tr style=\"text-align: right;\">\n",
       "      <th></th>\n",
       "      <th>a1c</th>\n",
       "      <th>glucose</th>\n",
       "      <th>alb_cr_ratio</th>\n",
       "      <th>t_chol</th>\n",
       "      <th>trigs</th>\n",
       "      <th>platelets</th>\n",
       "      <th>grip_strength</th>\n",
       "      <th>ldh</th>\n",
       "      <th>cr</th>\n",
       "      <th>alk_phos</th>\n",
       "      <th>...</th>\n",
       "      <th>hypertension</th>\n",
       "      <th>gen_health</th>\n",
       "      <th>phos</th>\n",
       "      <th>s_cotinine</th>\n",
       "      <th>chloride</th>\n",
       "      <th>t_bilirubin</th>\n",
       "      <th>bmi_group</th>\n",
       "      <th>age_group</th>\n",
       "      <th>bp_group</th>\n",
       "      <th>diabetes</th>\n",
       "    </tr>\n",
       "  </thead>\n",
       "  <tbody>\n",
       "    <tr>\n",
       "      <th>0</th>\n",
       "      <td>5.0</td>\n",
       "      <td>82.0</td>\n",
       "      <td>11.77</td>\n",
       "      <td>118.0</td>\n",
       "      <td>54.0</td>\n",
       "      <td>157.0</td>\n",
       "      <td>50.3</td>\n",
       "      <td>75.0</td>\n",
       "      <td>0.44</td>\n",
       "      <td>44.0</td>\n",
       "      <td>...</td>\n",
       "      <td>2.0</td>\n",
       "      <td>3.0</td>\n",
       "      <td>4.2</td>\n",
       "      <td>0.654</td>\n",
       "      <td>105.0</td>\n",
       "      <td>0.8</td>\n",
       "      <td>0</td>\n",
       "      <td>1</td>\n",
       "      <td>0</td>\n",
       "      <td>1.0</td>\n",
       "    </tr>\n",
       "    <tr>\n",
       "      <th>1</th>\n",
       "      <td>5.2</td>\n",
       "      <td>81.0</td>\n",
       "      <td>2.37</td>\n",
       "      <td>172.0</td>\n",
       "      <td>83.0</td>\n",
       "      <td>226.0</td>\n",
       "      <td>90.1</td>\n",
       "      <td>137.0</td>\n",
       "      <td>0.81</td>\n",
       "      <td>112.0</td>\n",
       "      <td>...</td>\n",
       "      <td>2.0</td>\n",
       "      <td>3.0</td>\n",
       "      <td>3.8</td>\n",
       "      <td>0.221</td>\n",
       "      <td>102.0</td>\n",
       "      <td>1.2</td>\n",
       "      <td>1</td>\n",
       "      <td>1</td>\n",
       "      <td>0</td>\n",
       "      <td>1.0</td>\n",
       "    </tr>\n",
       "    <tr>\n",
       "      <th>2</th>\n",
       "      <td>5.1</td>\n",
       "      <td>87.0</td>\n",
       "      <td>3.73</td>\n",
       "      <td>168.0</td>\n",
       "      <td>256.0</td>\n",
       "      <td>266.0</td>\n",
       "      <td>72.7</td>\n",
       "      <td>112.0</td>\n",
       "      <td>0.82</td>\n",
       "      <td>103.0</td>\n",
       "      <td>...</td>\n",
       "      <td>2.0</td>\n",
       "      <td>3.0</td>\n",
       "      <td>4.4</td>\n",
       "      <td>0.011</td>\n",
       "      <td>104.0</td>\n",
       "      <td>0.4</td>\n",
       "      <td>1</td>\n",
       "      <td>1</td>\n",
       "      <td>0</td>\n",
       "      <td>1.0</td>\n",
       "    </tr>\n",
       "    <tr>\n",
       "      <th>3</th>\n",
       "      <td>5.1</td>\n",
       "      <td>91.0</td>\n",
       "      <td>3.74</td>\n",
       "      <td>144.0</td>\n",
       "      <td>57.0</td>\n",
       "      <td>206.0</td>\n",
       "      <td>86.6</td>\n",
       "      <td>87.0</td>\n",
       "      <td>0.73</td>\n",
       "      <td>65.0</td>\n",
       "      <td>...</td>\n",
       "      <td>2.0</td>\n",
       "      <td>4.0</td>\n",
       "      <td>4.2</td>\n",
       "      <td>16.300</td>\n",
       "      <td>102.0</td>\n",
       "      <td>0.9</td>\n",
       "      <td>0</td>\n",
       "      <td>1</td>\n",
       "      <td>0</td>\n",
       "      <td>1.0</td>\n",
       "    </tr>\n",
       "    <tr>\n",
       "      <th>4</th>\n",
       "      <td>6.0</td>\n",
       "      <td>89.0</td>\n",
       "      <td>3.13</td>\n",
       "      <td>104.0</td>\n",
       "      <td>70.0</td>\n",
       "      <td>306.0</td>\n",
       "      <td>94.4</td>\n",
       "      <td>104.0</td>\n",
       "      <td>1.07</td>\n",
       "      <td>55.0</td>\n",
       "      <td>...</td>\n",
       "      <td>2.0</td>\n",
       "      <td>2.0</td>\n",
       "      <td>4.3</td>\n",
       "      <td>212.000</td>\n",
       "      <td>104.0</td>\n",
       "      <td>0.8</td>\n",
       "      <td>2</td>\n",
       "      <td>1</td>\n",
       "      <td>2</td>\n",
       "      <td>1.0</td>\n",
       "    </tr>\n",
       "    <tr>\n",
       "      <th>...</th>\n",
       "      <td>...</td>\n",
       "      <td>...</td>\n",
       "      <td>...</td>\n",
       "      <td>...</td>\n",
       "      <td>...</td>\n",
       "      <td>...</td>\n",
       "      <td>...</td>\n",
       "      <td>...</td>\n",
       "      <td>...</td>\n",
       "      <td>...</td>\n",
       "      <td>...</td>\n",
       "      <td>...</td>\n",
       "      <td>...</td>\n",
       "      <td>...</td>\n",
       "      <td>...</td>\n",
       "      <td>...</td>\n",
       "      <td>...</td>\n",
       "      <td>...</td>\n",
       "      <td>...</td>\n",
       "      <td>...</td>\n",
       "      <td>...</td>\n",
       "    </tr>\n",
       "    <tr>\n",
       "      <th>5196</th>\n",
       "      <td>5.8</td>\n",
       "      <td>98.0</td>\n",
       "      <td>49.63</td>\n",
       "      <td>185.0</td>\n",
       "      <td>80.0</td>\n",
       "      <td>178.0</td>\n",
       "      <td>47.2</td>\n",
       "      <td>127.0</td>\n",
       "      <td>0.55</td>\n",
       "      <td>42.0</td>\n",
       "      <td>...</td>\n",
       "      <td>1.0</td>\n",
       "      <td>3.0</td>\n",
       "      <td>3.7</td>\n",
       "      <td>0.011</td>\n",
       "      <td>103.0</td>\n",
       "      <td>0.9</td>\n",
       "      <td>0</td>\n",
       "      <td>4</td>\n",
       "      <td>2</td>\n",
       "      <td>1.0</td>\n",
       "    </tr>\n",
       "    <tr>\n",
       "      <th>5197</th>\n",
       "      <td>6.0</td>\n",
       "      <td>100.0</td>\n",
       "      <td>9.40</td>\n",
       "      <td>166.0</td>\n",
       "      <td>105.0</td>\n",
       "      <td>189.0</td>\n",
       "      <td>75.6</td>\n",
       "      <td>163.0</td>\n",
       "      <td>1.15</td>\n",
       "      <td>49.0</td>\n",
       "      <td>...</td>\n",
       "      <td>2.0</td>\n",
       "      <td>3.0</td>\n",
       "      <td>3.0</td>\n",
       "      <td>0.011</td>\n",
       "      <td>105.0</td>\n",
       "      <td>1.0</td>\n",
       "      <td>1</td>\n",
       "      <td>4</td>\n",
       "      <td>2</td>\n",
       "      <td>1.0</td>\n",
       "    </tr>\n",
       "    <tr>\n",
       "      <th>5199</th>\n",
       "      <td>7.0</td>\n",
       "      <td>175.0</td>\n",
       "      <td>187.41</td>\n",
       "      <td>176.0</td>\n",
       "      <td>104.0</td>\n",
       "      <td>273.0</td>\n",
       "      <td>33.1</td>\n",
       "      <td>155.0</td>\n",
       "      <td>0.92</td>\n",
       "      <td>84.0</td>\n",
       "      <td>...</td>\n",
       "      <td>1.0</td>\n",
       "      <td>3.0</td>\n",
       "      <td>3.9</td>\n",
       "      <td>0.011</td>\n",
       "      <td>102.0</td>\n",
       "      <td>0.5</td>\n",
       "      <td>2</td>\n",
       "      <td>4</td>\n",
       "      <td>2</td>\n",
       "      <td>0.0</td>\n",
       "    </tr>\n",
       "    <tr>\n",
       "      <th>5201</th>\n",
       "      <td>6.5</td>\n",
       "      <td>126.0</td>\n",
       "      <td>11.43</td>\n",
       "      <td>171.0</td>\n",
       "      <td>130.0</td>\n",
       "      <td>205.0</td>\n",
       "      <td>65.2</td>\n",
       "      <td>119.0</td>\n",
       "      <td>0.73</td>\n",
       "      <td>50.0</td>\n",
       "      <td>...</td>\n",
       "      <td>2.0</td>\n",
       "      <td>2.0</td>\n",
       "      <td>3.1</td>\n",
       "      <td>0.269</td>\n",
       "      <td>107.0</td>\n",
       "      <td>0.7</td>\n",
       "      <td>2</td>\n",
       "      <td>4</td>\n",
       "      <td>2</td>\n",
       "      <td>0.0</td>\n",
       "    </tr>\n",
       "    <tr>\n",
       "      <th>5204</th>\n",
       "      <td>6.2</td>\n",
       "      <td>103.0</td>\n",
       "      <td>3.92</td>\n",
       "      <td>181.0</td>\n",
       "      <td>67.0</td>\n",
       "      <td>213.0</td>\n",
       "      <td>45.2</td>\n",
       "      <td>138.0</td>\n",
       "      <td>0.95</td>\n",
       "      <td>80.0</td>\n",
       "      <td>...</td>\n",
       "      <td>1.0</td>\n",
       "      <td>3.0</td>\n",
       "      <td>3.5</td>\n",
       "      <td>0.035</td>\n",
       "      <td>103.0</td>\n",
       "      <td>1.0</td>\n",
       "      <td>2</td>\n",
       "      <td>4</td>\n",
       "      <td>1</td>\n",
       "      <td>0.0</td>\n",
       "    </tr>\n",
       "  </tbody>\n",
       "</table>\n",
       "<p>3260 rows × 35 columns</p>\n",
       "</div>"
      ],
      "text/plain": [
       "      a1c  glucose  alb_cr_ratio  t_chol  trigs  platelets  grip_strength  \\\n",
       "0     5.0     82.0         11.77   118.0   54.0      157.0           50.3   \n",
       "1     5.2     81.0          2.37   172.0   83.0      226.0           90.1   \n",
       "2     5.1     87.0          3.73   168.0  256.0      266.0           72.7   \n",
       "3     5.1     91.0          3.74   144.0   57.0      206.0           86.6   \n",
       "4     6.0     89.0          3.13   104.0   70.0      306.0           94.4   \n",
       "...   ...      ...           ...     ...    ...        ...            ...   \n",
       "5196  5.8     98.0         49.63   185.0   80.0      178.0           47.2   \n",
       "5197  6.0    100.0          9.40   166.0  105.0      189.0           75.6   \n",
       "5199  7.0    175.0        187.41   176.0  104.0      273.0           33.1   \n",
       "5201  6.5    126.0         11.43   171.0  130.0      205.0           65.2   \n",
       "5204  6.2    103.0          3.92   181.0   67.0      213.0           45.2   \n",
       "\n",
       "        ldh    cr  alk_phos  ...  hypertension  gen_health  phos  s_cotinine  \\\n",
       "0      75.0  0.44      44.0  ...           2.0         3.0   4.2       0.654   \n",
       "1     137.0  0.81     112.0  ...           2.0         3.0   3.8       0.221   \n",
       "2     112.0  0.82     103.0  ...           2.0         3.0   4.4       0.011   \n",
       "3      87.0  0.73      65.0  ...           2.0         4.0   4.2      16.300   \n",
       "4     104.0  1.07      55.0  ...           2.0         2.0   4.3     212.000   \n",
       "...     ...   ...       ...  ...           ...         ...   ...         ...   \n",
       "5196  127.0  0.55      42.0  ...           1.0         3.0   3.7       0.011   \n",
       "5197  163.0  1.15      49.0  ...           2.0         3.0   3.0       0.011   \n",
       "5199  155.0  0.92      84.0  ...           1.0         3.0   3.9       0.011   \n",
       "5201  119.0  0.73      50.0  ...           2.0         2.0   3.1       0.269   \n",
       "5204  138.0  0.95      80.0  ...           1.0         3.0   3.5       0.035   \n",
       "\n",
       "      chloride  t_bilirubin  bmi_group  age_group  bp_group  diabetes  \n",
       "0        105.0          0.8          0          1         0       1.0  \n",
       "1        102.0          1.2          1          1         0       1.0  \n",
       "2        104.0          0.4          1          1         0       1.0  \n",
       "3        102.0          0.9          0          1         0       1.0  \n",
       "4        104.0          0.8          2          1         2       1.0  \n",
       "...        ...          ...        ...        ...       ...       ...  \n",
       "5196     103.0          0.9          0          4         2       1.0  \n",
       "5197     105.0          1.0          1          4         2       1.0  \n",
       "5199     102.0          0.5          2          4         2       0.0  \n",
       "5201     107.0          0.7          2          4         2       0.0  \n",
       "5204     103.0          1.0          2          4         1       0.0  \n",
       "\n",
       "[3260 rows x 35 columns]"
      ]
     },
     "execution_count": 28,
     "metadata": {},
     "output_type": "execute_result"
    }
   ],
   "source": [
    "diab_df"
   ]
  },
  {
   "cell_type": "code",
   "execution_count": 29,
   "metadata": {},
   "outputs": [
    {
     "data": {
      "text/html": [
       "<div>\n",
       "<style scoped>\n",
       "    .dataframe tbody tr th:only-of-type {\n",
       "        vertical-align: middle;\n",
       "    }\n",
       "\n",
       "    .dataframe tbody tr th {\n",
       "        vertical-align: top;\n",
       "    }\n",
       "\n",
       "    .dataframe thead th {\n",
       "        text-align: right;\n",
       "    }\n",
       "</style>\n",
       "<table border=\"1\" class=\"dataframe\">\n",
       "  <thead>\n",
       "    <tr style=\"text-align: right;\">\n",
       "      <th></th>\n",
       "      <th>a1c</th>\n",
       "      <th>glucose</th>\n",
       "      <th>alb_cr_ratio</th>\n",
       "      <th>t_chol</th>\n",
       "      <th>trigs</th>\n",
       "      <th>platelets</th>\n",
       "      <th>grip_strength</th>\n",
       "      <th>ldh</th>\n",
       "      <th>cr</th>\n",
       "      <th>alk_phos</th>\n",
       "      <th>...</th>\n",
       "      <th>iron</th>\n",
       "      <th>hypertension</th>\n",
       "      <th>gen_health</th>\n",
       "      <th>phos</th>\n",
       "      <th>s_cotinine</th>\n",
       "      <th>chloride</th>\n",
       "      <th>t_bilirubin</th>\n",
       "      <th>bmi_group</th>\n",
       "      <th>age_group</th>\n",
       "      <th>bp_group</th>\n",
       "    </tr>\n",
       "  </thead>\n",
       "  <tbody>\n",
       "    <tr>\n",
       "      <th>0</th>\n",
       "      <td>5.0</td>\n",
       "      <td>82.0</td>\n",
       "      <td>11.77</td>\n",
       "      <td>118.0</td>\n",
       "      <td>54.0</td>\n",
       "      <td>157.0</td>\n",
       "      <td>50.3</td>\n",
       "      <td>75.0</td>\n",
       "      <td>0.44</td>\n",
       "      <td>44.0</td>\n",
       "      <td>...</td>\n",
       "      <td>165.0</td>\n",
       "      <td>2.0</td>\n",
       "      <td>3.0</td>\n",
       "      <td>4.2</td>\n",
       "      <td>0.654</td>\n",
       "      <td>105.0</td>\n",
       "      <td>0.8</td>\n",
       "      <td>0</td>\n",
       "      <td>1</td>\n",
       "      <td>0</td>\n",
       "    </tr>\n",
       "    <tr>\n",
       "      <th>1</th>\n",
       "      <td>5.2</td>\n",
       "      <td>81.0</td>\n",
       "      <td>2.37</td>\n",
       "      <td>172.0</td>\n",
       "      <td>83.0</td>\n",
       "      <td>226.0</td>\n",
       "      <td>90.1</td>\n",
       "      <td>137.0</td>\n",
       "      <td>0.81</td>\n",
       "      <td>112.0</td>\n",
       "      <td>...</td>\n",
       "      <td>119.0</td>\n",
       "      <td>2.0</td>\n",
       "      <td>3.0</td>\n",
       "      <td>3.8</td>\n",
       "      <td>0.221</td>\n",
       "      <td>102.0</td>\n",
       "      <td>1.2</td>\n",
       "      <td>1</td>\n",
       "      <td>1</td>\n",
       "      <td>0</td>\n",
       "    </tr>\n",
       "    <tr>\n",
       "      <th>2</th>\n",
       "      <td>5.1</td>\n",
       "      <td>87.0</td>\n",
       "      <td>3.73</td>\n",
       "      <td>168.0</td>\n",
       "      <td>256.0</td>\n",
       "      <td>266.0</td>\n",
       "      <td>72.7</td>\n",
       "      <td>112.0</td>\n",
       "      <td>0.82</td>\n",
       "      <td>103.0</td>\n",
       "      <td>...</td>\n",
       "      <td>68.0</td>\n",
       "      <td>2.0</td>\n",
       "      <td>3.0</td>\n",
       "      <td>4.4</td>\n",
       "      <td>0.011</td>\n",
       "      <td>104.0</td>\n",
       "      <td>0.4</td>\n",
       "      <td>1</td>\n",
       "      <td>1</td>\n",
       "      <td>0</td>\n",
       "    </tr>\n",
       "    <tr>\n",
       "      <th>3</th>\n",
       "      <td>5.1</td>\n",
       "      <td>91.0</td>\n",
       "      <td>3.74</td>\n",
       "      <td>144.0</td>\n",
       "      <td>57.0</td>\n",
       "      <td>206.0</td>\n",
       "      <td>86.6</td>\n",
       "      <td>87.0</td>\n",
       "      <td>0.73</td>\n",
       "      <td>65.0</td>\n",
       "      <td>...</td>\n",
       "      <td>63.0</td>\n",
       "      <td>2.0</td>\n",
       "      <td>4.0</td>\n",
       "      <td>4.2</td>\n",
       "      <td>16.300</td>\n",
       "      <td>102.0</td>\n",
       "      <td>0.9</td>\n",
       "      <td>0</td>\n",
       "      <td>1</td>\n",
       "      <td>0</td>\n",
       "    </tr>\n",
       "    <tr>\n",
       "      <th>4</th>\n",
       "      <td>6.0</td>\n",
       "      <td>89.0</td>\n",
       "      <td>3.13</td>\n",
       "      <td>104.0</td>\n",
       "      <td>70.0</td>\n",
       "      <td>306.0</td>\n",
       "      <td>94.4</td>\n",
       "      <td>104.0</td>\n",
       "      <td>1.07</td>\n",
       "      <td>55.0</td>\n",
       "      <td>...</td>\n",
       "      <td>121.0</td>\n",
       "      <td>2.0</td>\n",
       "      <td>2.0</td>\n",
       "      <td>4.3</td>\n",
       "      <td>212.000</td>\n",
       "      <td>104.0</td>\n",
       "      <td>0.8</td>\n",
       "      <td>2</td>\n",
       "      <td>1</td>\n",
       "      <td>2</td>\n",
       "    </tr>\n",
       "  </tbody>\n",
       "</table>\n",
       "<p>5 rows × 34 columns</p>\n",
       "</div>"
      ],
      "text/plain": [
       "   a1c  glucose  alb_cr_ratio  t_chol  trigs  platelets  grip_strength    ldh  \\\n",
       "0  5.0     82.0         11.77   118.0   54.0      157.0           50.3   75.0   \n",
       "1  5.2     81.0          2.37   172.0   83.0      226.0           90.1  137.0   \n",
       "2  5.1     87.0          3.73   168.0  256.0      266.0           72.7  112.0   \n",
       "3  5.1     91.0          3.74   144.0   57.0      206.0           86.6   87.0   \n",
       "4  6.0     89.0          3.13   104.0   70.0      306.0           94.4  104.0   \n",
       "\n",
       "     cr  alk_phos  ...   iron  hypertension  gen_health  phos  s_cotinine  \\\n",
       "0  0.44      44.0  ...  165.0           2.0         3.0   4.2       0.654   \n",
       "1  0.81     112.0  ...  119.0           2.0         3.0   3.8       0.221   \n",
       "2  0.82     103.0  ...   68.0           2.0         3.0   4.4       0.011   \n",
       "3  0.73      65.0  ...   63.0           2.0         4.0   4.2      16.300   \n",
       "4  1.07      55.0  ...  121.0           2.0         2.0   4.3     212.000   \n",
       "\n",
       "   chloride  t_bilirubin  bmi_group  age_group  bp_group  \n",
       "0     105.0          0.8          0          1         0  \n",
       "1     102.0          1.2          1          1         0  \n",
       "2     104.0          0.4          1          1         0  \n",
       "3     102.0          0.9          0          1         0  \n",
       "4     104.0          0.8          2          1         2  \n",
       "\n",
       "[5 rows x 34 columns]"
      ]
     },
     "execution_count": 29,
     "metadata": {},
     "output_type": "execute_result"
    }
   ],
   "source": [
    "data = diab_df.drop(\"diabetes\", axis=1) \n",
    "feature_names = data.columns \n",
    "data.head()"
   ]
  },
  {
   "cell_type": "code",
   "execution_count": 30,
   "metadata": {},
   "outputs": [],
   "source": [
    "target = diab_df[\"diabetes\"].values.reshape(-1, 1)\n",
    "target_names = [1,2,3]"
   ]
  },
  {
   "cell_type": "code",
   "execution_count": 31,
   "metadata": {},
   "outputs": [
    {
     "name": "stdout",
     "output_type": "stream",
     "text": [
      "The total number of variables is: 34\n"
     ]
    }
   ],
   "source": [
    "numb_variables =len(feature_names.tolist())\n",
    "print(f\"The total number of variables is: {numb_variables}\") "
   ]
  },
  {
   "cell_type": "code",
   "execution_count": 4,
   "metadata": {},
   "outputs": [],
   "source": [
    "###MY CODE STARTS HERE"
   ]
  },
  {
   "cell_type": "code",
   "execution_count": 5,
   "metadata": {},
   "outputs": [],
   "source": [
    "#MULLTIPLE LINEAR REGRESSION"
   ]
  },
  {
   "cell_type": "code",
   "execution_count": 32,
   "metadata": {},
   "outputs": [],
   "source": [
    "from sklearn.model_selection import train_test_split\n",
    "X_train, X_test, y_train, y_test = train_test_split(data, target, random_state=42, shuffle=True)"
   ]
  },
  {
   "cell_type": "code",
   "execution_count": 33,
   "metadata": {},
   "outputs": [],
   "source": [
    "from sklearn.preprocessing import StandardScaler\n",
    "X_scaler = StandardScaler().fit(X_train)\n",
    "y_scaler = StandardScaler().fit(y_train)\n",
    "\n",
    "### BEGIN SOLUTION\n",
    "X_train_scaled = X_scaler.transform(X_train)\n",
    "X_test_scaled = X_scaler.transform(X_test)\n",
    "y_train_scaled = y_scaler.transform(y_train)\n",
    "y_test_scaled = y_scaler.transform(y_test)"
   ]
  },
  {
   "cell_type": "code",
   "execution_count": 34,
   "metadata": {},
   "outputs": [
    {
     "data": {
      "image/png": "[encoded data removed]",
      "text/plain": [
       "<Figure size 432x288 with 1 Axes>"
      ]
     },
     "metadata": {
      "needs_background": "light"
     },
     "output_type": "display_data"
    }
   ],
   "source": [
    "from sklearn.linear_model import LinearRegression\n",
    "model = LinearRegression()\n",
    "model.fit(X_train_scaled, y_train_scaled)\n",
    "plt.scatter(model.predict(X_train_scaled), model.predict(X_train_scaled) - y_train_scaled, c=\"blue\", label=\"Training Data\")\n",
    "plt.scatter(model.predict(X_test_scaled), model.predict(X_test_scaled) - y_test_scaled, c=\"orange\", label=\"Testing Data\")\n",
    "plt.legend()\n",
    "plt.hlines(y=0, xmin=y_test_scaled.min(), xmax=y_test_scaled.max())\n",
    "plt.title(\"Residual Plot\")\n",
    "plt.show()"
   ]
  },
  {
   "cell_type": "code",
   "execution_count": 35,
   "metadata": {},
   "outputs": [
    {
     "name": "stdout",
     "output_type": "stream",
     "text": [
      "MSE: 0.6689199878963539, R2: 0.28500183491349296\n"
     ]
    }
   ],
   "source": [
    "from sklearn.metrics import mean_squared_error\n",
    "\n",
    "predictions = model.predict(X_test_scaled)\n",
    "MSE = mean_squared_error(y_test_scaled, predictions)\n",
    "r2 = model.score(X_test_scaled, y_test_scaled)\n",
    "\n",
    "print(f\"MSE: {MSE}, R2: {r2}\")"
   ]
  },
  {
   "cell_type": "code",
   "execution_count": 36,
   "metadata": {},
   "outputs": [],
   "source": [
    "#Decision Trees"
   ]
  },
  {
   "cell_type": "code",
   "execution_count": 37,
   "metadata": {},
   "outputs": [
    {
     "data": {
      "text/plain": [
       "0.8601226993865031"
      ]
     },
     "execution_count": 37,
     "metadata": {},
     "output_type": "execute_result"
    }
   ],
   "source": [
    "clf = tree.DecisionTreeClassifier() #model\n",
    "clf = clf.fit(X_train, y_train)\n",
    "clf.score(X_test, y_test)"
   ]
  },
  {
   "cell_type": "code",
   "execution_count": 38,
   "metadata": {},
   "outputs": [
    {
     "name": "stderr",
     "output_type": "stream",
     "text": [
      "/Users/angelaromansivirichi/opt/anaconda3/lib/python3.7/site-packages/ipykernel_launcher.py:3: DataConversionWarning: A column-vector y was passed when a 1d array was expected. Please change the shape of y to (n_samples,), for example using ravel().\n",
      "  This is separate from the ipykernel package so we can avoid doing imports until\n"
     ]
    },
    {
     "data": {
      "text/plain": [
       "0.9251533742331288"
      ]
     },
     "execution_count": 38,
     "metadata": {},
     "output_type": "execute_result"
    }
   ],
   "source": [
    "from sklearn.ensemble import RandomForestClassifier\n",
    "rf = RandomForestClassifier(n_estimators=200)\n",
    "rf = rf.fit(X_train, y_train)\n",
    "rf.score(X_test, y_test)"
   ]
  },
  {
   "cell_type": "code",
   "execution_count": 39,
   "metadata": {},
   "outputs": [
    {
     "data": {
      "text/plain": [
       "[(0.2171244923073894, 'a1c'),\n",
       " (0.14159017464662857, 'glucose'),\n",
       " (0.04033563916099368, 'alb_cr_ratio'),\n",
       " (0.027941550329338944, 't_chol'),\n",
       " (0.026653750273326317, 'platelets'),\n",
       " (0.02624347887169418, 'trigs'),\n",
       " (0.025297052120388457, 'ldh'),\n",
       " (0.02506681162018428, 'cr'),\n",
       " (0.02384038065560702, 'potassium'),\n",
       " (0.023437831286603792, 'grip_strength'),\n",
       " (0.023077049011410763, 'u_acid'),\n",
       " (0.023000820344757207, 'alk_phos'),\n",
       " (0.022390625834976207, 'cpk'),\n",
       " (0.021553008392466353, 'hdl'),\n",
       " (0.021350570647872612, 'bun'),\n",
       " (0.02045068040367984, 'wbc'),\n",
       " (0.019422131241907767, 'alt'),\n",
       " (0.019293107139802312, 'hct'),\n",
       " (0.01919948459506571, 'ast'),\n",
       " (0.018989805747332028, 'ca'),\n",
       " (0.018607723760869027, 'chloride'),\n",
       " (0.018179912827706878, 'gen_health'),\n",
       " (0.01795007565832322, 't_protein'),\n",
       " (0.017857817995464993, 'glob'),\n",
       " (0.01763448577599942, 'iron'),\n",
       " (0.017425142103149462, 'hgb'),\n",
       " (0.01688265752120986, 'phos'),\n",
       " (0.016817490750511317, 's_cotinine'),\n",
       " (0.016776521921147675, 'sodium'),\n",
       " (0.015590925192449699, 't_bilirubin'),\n",
       " (0.014078912133611388, 'age_group'),\n",
       " (0.012364488970611832, 'hypertension'),\n",
       " (0.008843678593653955, 'bmi_group'),\n",
       " (0.004731722163865794, 'bp_group')]"
      ]
     },
     "execution_count": 39,
     "metadata": {},
     "output_type": "execute_result"
    }
   ],
   "source": [
    "sorted(zip(rf.feature_importances_, feature_names), reverse=True)"
   ]
  },
  {
   "cell_type": "code",
   "execution_count": null,
   "metadata": {},
   "outputs": [],
   "source": [
    "#KNN"
   ]
  },
  {
   "cell_type": "code",
   "execution_count": null,
   "metadata": {},
   "outputs": [],
   "source": []
  },
  {
   "cell_type": "code",
   "execution_count": 40,
   "metadata": {},
   "outputs": [
    {
     "name": "stderr",
     "output_type": "stream",
     "text": [
      "/Users/angelaromansivirichi/opt/anaconda3/lib/python3.7/site-packages/ipykernel_launcher.py:7: DataConversionWarning: A column-vector y was passed when a 1d array was expected. Please change the shape of y to (n_samples, ), for example using ravel().\n",
      "  import sys\n"
     ]
    },
    {
     "name": "stdout",
     "output_type": "stream",
     "text": [
      "k: 1, Train/Test Score: 1.000/0.845\n"
     ]
    },
    {
     "name": "stderr",
     "output_type": "stream",
     "text": [
      "/Users/angelaromansivirichi/opt/anaconda3/lib/python3.7/site-packages/ipykernel_launcher.py:7: DataConversionWarning: A column-vector y was passed when a 1d array was expected. Please change the shape of y to (n_samples, ), for example using ravel().\n",
      "  import sys\n"
     ]
    },
    {
     "name": "stdout",
     "output_type": "stream",
     "text": [
      "k: 3, Train/Test Score: 0.915/0.892\n"
     ]
    },
    {
     "name": "stderr",
     "output_type": "stream",
     "text": [
      "/Users/angelaromansivirichi/opt/anaconda3/lib/python3.7/site-packages/ipykernel_launcher.py:7: DataConversionWarning: A column-vector y was passed when a 1d array was expected. Please change the shape of y to (n_samples, ), for example using ravel().\n",
      "  import sys\n"
     ]
    },
    {
     "name": "stdout",
     "output_type": "stream",
     "text": [
      "k: 5, Train/Test Score: 0.901/0.896\n"
     ]
    },
    {
     "name": "stderr",
     "output_type": "stream",
     "text": [
      "/Users/angelaromansivirichi/opt/anaconda3/lib/python3.7/site-packages/ipykernel_launcher.py:7: DataConversionWarning: A column-vector y was passed when a 1d array was expected. Please change the shape of y to (n_samples, ), for example using ravel().\n",
      "  import sys\n"
     ]
    },
    {
     "name": "stdout",
     "output_type": "stream",
     "text": [
      "k: 7, Train/Test Score: 0.896/0.893\n"
     ]
    },
    {
     "name": "stderr",
     "output_type": "stream",
     "text": [
      "/Users/angelaromansivirichi/opt/anaconda3/lib/python3.7/site-packages/ipykernel_launcher.py:7: DataConversionWarning: A column-vector y was passed when a 1d array was expected. Please change the shape of y to (n_samples, ), for example using ravel().\n",
      "  import sys\n"
     ]
    },
    {
     "name": "stdout",
     "output_type": "stream",
     "text": [
      "k: 9, Train/Test Score: 0.894/0.894\n"
     ]
    },
    {
     "name": "stderr",
     "output_type": "stream",
     "text": [
      "/Users/angelaromansivirichi/opt/anaconda3/lib/python3.7/site-packages/ipykernel_launcher.py:7: DataConversionWarning: A column-vector y was passed when a 1d array was expected. Please change the shape of y to (n_samples, ), for example using ravel().\n",
      "  import sys\n"
     ]
    },
    {
     "name": "stdout",
     "output_type": "stream",
     "text": [
      "k: 11, Train/Test Score: 0.892/0.893\n"
     ]
    },
    {
     "name": "stderr",
     "output_type": "stream",
     "text": [
      "/Users/angelaromansivirichi/opt/anaconda3/lib/python3.7/site-packages/ipykernel_launcher.py:7: DataConversionWarning: A column-vector y was passed when a 1d array was expected. Please change the shape of y to (n_samples, ), for example using ravel().\n",
      "  import sys\n"
     ]
    },
    {
     "name": "stdout",
     "output_type": "stream",
     "text": [
      "k: 13, Train/Test Score: 0.892/0.892\n"
     ]
    },
    {
     "name": "stderr",
     "output_type": "stream",
     "text": [
      "/Users/angelaromansivirichi/opt/anaconda3/lib/python3.7/site-packages/ipykernel_launcher.py:7: DataConversionWarning: A column-vector y was passed when a 1d array was expected. Please change the shape of y to (n_samples, ), for example using ravel().\n",
      "  import sys\n"
     ]
    },
    {
     "name": "stdout",
     "output_type": "stream",
     "text": [
      "k: 15, Train/Test Score: 0.889/0.893\n"
     ]
    },
    {
     "name": "stderr",
     "output_type": "stream",
     "text": [
      "/Users/angelaromansivirichi/opt/anaconda3/lib/python3.7/site-packages/ipykernel_launcher.py:7: DataConversionWarning: A column-vector y was passed when a 1d array was expected. Please change the shape of y to (n_samples, ), for example using ravel().\n",
      "  import sys\n"
     ]
    },
    {
     "name": "stdout",
     "output_type": "stream",
     "text": [
      "k: 17, Train/Test Score: 0.889/0.891\n"
     ]
    },
    {
     "name": "stderr",
     "output_type": "stream",
     "text": [
      "/Users/angelaromansivirichi/opt/anaconda3/lib/python3.7/site-packages/ipykernel_launcher.py:7: DataConversionWarning: A column-vector y was passed when a 1d array was expected. Please change the shape of y to (n_samples, ), for example using ravel().\n",
      "  import sys\n"
     ]
    },
    {
     "name": "stdout",
     "output_type": "stream",
     "text": [
      "k: 19, Train/Test Score: 0.887/0.890\n"
     ]
    },
    {
     "data": {
      "image/png": "[encoded data removed]",
      "text/plain": [
       "<Figure size 432x288 with 1 Axes>"
      ]
     },
     "metadata": {
      "needs_background": "light"
     },
     "output_type": "display_data"
    }
   ],
   "source": [
    "# Loop through different k values to see which has the highest accuracy\n",
    "# Note: We only use odd numbers because we don't want any ties\n",
    "train_scores = []\n",
    "test_scores = []\n",
    "for k in range(1, 20, 2):\n",
    "    knn = KNeighborsClassifier(n_neighbors=k)\n",
    "    knn.fit(X_train_scaled, y_train)\n",
    "    train_score = knn.score(X_train_scaled, y_train)\n",
    "    test_score = knn.score(X_test_scaled, y_test)\n",
    "    train_scores.append(train_score)\n",
    "    test_scores.append(test_score)\n",
    "    print(f\"k: {k}, Train/Test Score: {train_score:.3f}/{test_score:.3f}\")\n",
    "    \n",
    "    \n",
    "plt.plot(range(1, 20, 2), train_scores, marker='o')\n",
    "plt.plot(range(1, 20, 2), test_scores, marker=\"x\")\n",
    "plt.xlabel(\"k neighbors\")\n",
    "plt.ylabel(\"Testing accuracy Score\")\n",
    "plt.show()"
   ]
  },
  {
   "cell_type": "code",
   "execution_count": 42,
   "metadata": {},
   "outputs": [
    {
     "name": "stderr",
     "output_type": "stream",
     "text": [
      "/Users/angelaromansivirichi/opt/anaconda3/lib/python3.7/site-packages/ipykernel_launcher.py:2: DataConversionWarning: A column-vector y was passed when a 1d array was expected. Please change the shape of y to (n_samples, ), for example using ravel().\n",
      "  \n"
     ]
    },
    {
     "name": "stdout",
     "output_type": "stream",
     "text": [
      "k=11 Test Acc: 0.893\n"
     ]
    }
   ],
   "source": [
    "knn = KNeighborsClassifier(n_neighbors=11)\n",
    "knn.fit(X_train_scaled, y_train)\n",
    "print('k=11 Test Acc: %.3f' % knn.score(X_test_scaled, y_test))"
   ]
  },
  {
   "cell_type": "markdown",
   "metadata": {},
   "source": [
    "#SVM"
   ]
  },
  {
   "cell_type": "code",
   "execution_count": 43,
   "metadata": {},
   "outputs": [],
   "source": [
    "# Support vector machine linear classifier\n",
    "from sklearn.svm import SVC \n",
    "model = SVC(kernel='linear')"
   ]
  },
  {
   "cell_type": "code",
   "execution_count": 44,
   "metadata": {},
   "outputs": [],
   "source": [
    "# Create the GridSearch estimator along with a parameter object containing the values to adjust\n",
    "from sklearn.model_selection import GridSearchCV\n",
    "param_grid = {'C': [1, 5, 10, 50],\n",
    "              'gamma': [0.0001, 0.0005, 0.001, 0.005]}\n",
    "grid = GridSearchCV(model, param_grid, verbose=3)"
   ]
  },
  {
   "cell_type": "code",
   "execution_count": 45,
   "metadata": {},
   "outputs": [
    {
     "name": "stdout",
     "output_type": "stream",
     "text": [
      "Fitting 5 folds for each of 16 candidates, totalling 80 fits\n",
      "[CV] C=1, gamma=0.0001 ...............................................\n"
     ]
    },
    {
     "name": "stderr",
     "output_type": "stream",
     "text": [
      "[Parallel(n_jobs=1)]: Using backend SequentialBackend with 1 concurrent workers.\n",
      "/Users/angelaromansivirichi/opt/anaconda3/lib/python3.7/site-packages/sklearn/utils/validation.py:760: DataConversionWarning: A column-vector y was passed when a 1d array was expected. Please change the shape of y to (n_samples, ), for example using ravel().\n",
      "  y = column_or_1d(y, warn=True)\n"
     ]
    },
    {
     "name": "stdout",
     "output_type": "stream",
     "text": [
      "[CV] ................... C=1, gamma=0.0001, score=0.910, total=   0.7s\n",
      "[CV] C=1, gamma=0.0001 ...............................................\n"
     ]
    },
    {
     "name": "stderr",
     "output_type": "stream",
     "text": [
      "[Parallel(n_jobs=1)]: Done   1 out of   1 | elapsed:    0.7s remaining:    0.0s\n",
      "/Users/angelaromansivirichi/opt/anaconda3/lib/python3.7/site-packages/sklearn/utils/validation.py:760: DataConversionWarning: A column-vector y was passed when a 1d array was expected. Please change the shape of y to (n_samples, ), for example using ravel().\n",
      "  y = column_or_1d(y, warn=True)\n"
     ]
    },
    {
     "name": "stdout",
     "output_type": "stream",
     "text": [
      "[CV] ................... C=1, gamma=0.0001, score=0.928, total=   0.6s\n",
      "[CV] C=1, gamma=0.0001 ...............................................\n"
     ]
    },
    {
     "name": "stderr",
     "output_type": "stream",
     "text": [
      "[Parallel(n_jobs=1)]: Done   2 out of   2 | elapsed:    1.3s remaining:    0.0s\n",
      "/Users/angelaromansivirichi/opt/anaconda3/lib/python3.7/site-packages/sklearn/utils/validation.py:760: DataConversionWarning: A column-vector y was passed when a 1d array was expected. Please change the shape of y to (n_samples, ), for example using ravel().\n",
      "  y = column_or_1d(y, warn=True)\n"
     ]
    },
    {
     "name": "stdout",
     "output_type": "stream",
     "text": [
      "[CV] ................... C=1, gamma=0.0001, score=0.898, total=   0.6s\n",
      "[CV] C=1, gamma=0.0001 ...............................................\n"
     ]
    },
    {
     "name": "stderr",
     "output_type": "stream",
     "text": [
      "/Users/angelaromansivirichi/opt/anaconda3/lib/python3.7/site-packages/sklearn/utils/validation.py:760: DataConversionWarning: A column-vector y was passed when a 1d array was expected. Please change the shape of y to (n_samples, ), for example using ravel().\n",
      "  y = column_or_1d(y, warn=True)\n"
     ]
    },
    {
     "name": "stdout",
     "output_type": "stream",
     "text": [
      "[CV] ................... C=1, gamma=0.0001, score=0.910, total=   0.4s\n",
      "[CV] C=1, gamma=0.0001 ...............................................\n"
     ]
    },
    {
     "name": "stderr",
     "output_type": "stream",
     "text": [
      "/Users/angelaromansivirichi/opt/anaconda3/lib/python3.7/site-packages/sklearn/utils/validation.py:760: DataConversionWarning: A column-vector y was passed when a 1d array was expected. Please change the shape of y to (n_samples, ), for example using ravel().\n",
      "  y = column_or_1d(y, warn=True)\n"
     ]
    },
    {
     "name": "stdout",
     "output_type": "stream",
     "text": [
      "[CV] ................... C=1, gamma=0.0001, score=0.910, total=   0.6s\n",
      "[CV] C=1, gamma=0.0005 ...............................................\n"
     ]
    },
    {
     "name": "stderr",
     "output_type": "stream",
     "text": [
      "/Users/angelaromansivirichi/opt/anaconda3/lib/python3.7/site-packages/sklearn/utils/validation.py:760: DataConversionWarning: A column-vector y was passed when a 1d array was expected. Please change the shape of y to (n_samples, ), for example using ravel().\n",
      "  y = column_or_1d(y, warn=True)\n"
     ]
    },
    {
     "name": "stdout",
     "output_type": "stream",
     "text": [
      "[CV] ................... C=1, gamma=0.0005, score=0.910, total=   0.7s\n",
      "[CV] C=1, gamma=0.0005 ...............................................\n"
     ]
    },
    {
     "name": "stderr",
     "output_type": "stream",
     "text": [
      "/Users/angelaromansivirichi/opt/anaconda3/lib/python3.7/site-packages/sklearn/utils/validation.py:760: DataConversionWarning: A column-vector y was passed when a 1d array was expected. Please change the shape of y to (n_samples, ), for example using ravel().\n",
      "  y = column_or_1d(y, warn=True)\n"
     ]
    },
    {
     "name": "stdout",
     "output_type": "stream",
     "text": [
      "[CV] ................... C=1, gamma=0.0005, score=0.928, total=   0.5s\n",
      "[CV] C=1, gamma=0.0005 ...............................................\n"
     ]
    },
    {
     "name": "stderr",
     "output_type": "stream",
     "text": [
      "/Users/angelaromansivirichi/opt/anaconda3/lib/python3.7/site-packages/sklearn/utils/validation.py:760: DataConversionWarning: A column-vector y was passed when a 1d array was expected. Please change the shape of y to (n_samples, ), for example using ravel().\n",
      "  y = column_or_1d(y, warn=True)\n"
     ]
    },
    {
     "name": "stdout",
     "output_type": "stream",
     "text": [
      "[CV] ................... C=1, gamma=0.0005, score=0.898, total=   0.7s\n",
      "[CV] C=1, gamma=0.0005 ...............................................\n"
     ]
    },
    {
     "name": "stderr",
     "output_type": "stream",
     "text": [
      "/Users/angelaromansivirichi/opt/anaconda3/lib/python3.7/site-packages/sklearn/utils/validation.py:760: DataConversionWarning: A column-vector y was passed when a 1d array was expected. Please change the shape of y to (n_samples, ), for example using ravel().\n",
      "  y = column_or_1d(y, warn=True)\n"
     ]
    },
    {
     "name": "stdout",
     "output_type": "stream",
     "text": [
      "[CV] ................... C=1, gamma=0.0005, score=0.910, total=   1.0s\n",
      "[CV] C=1, gamma=0.0005 ...............................................\n"
     ]
    },
    {
     "name": "stderr",
     "output_type": "stream",
     "text": [
      "/Users/angelaromansivirichi/opt/anaconda3/lib/python3.7/site-packages/sklearn/utils/validation.py:760: DataConversionWarning: A column-vector y was passed when a 1d array was expected. Please change the shape of y to (n_samples, ), for example using ravel().\n",
      "  y = column_or_1d(y, warn=True)\n"
     ]
    },
    {
     "name": "stdout",
     "output_type": "stream",
     "text": [
      "[CV] ................... C=1, gamma=0.0005, score=0.910, total=   1.5s\n",
      "[CV] C=1, gamma=0.001 ................................................\n"
     ]
    },
    {
     "name": "stderr",
     "output_type": "stream",
     "text": [
      "/Users/angelaromansivirichi/opt/anaconda3/lib/python3.7/site-packages/sklearn/utils/validation.py:760: DataConversionWarning: A column-vector y was passed when a 1d array was expected. Please change the shape of y to (n_samples, ), for example using ravel().\n",
      "  y = column_or_1d(y, warn=True)\n"
     ]
    },
    {
     "name": "stdout",
     "output_type": "stream",
     "text": [
      "[CV] .................... C=1, gamma=0.001, score=0.910, total=   1.3s\n",
      "[CV] C=1, gamma=0.001 ................................................\n"
     ]
    },
    {
     "name": "stderr",
     "output_type": "stream",
     "text": [
      "/Users/angelaromansivirichi/opt/anaconda3/lib/python3.7/site-packages/sklearn/utils/validation.py:760: DataConversionWarning: A column-vector y was passed when a 1d array was expected. Please change the shape of y to (n_samples, ), for example using ravel().\n",
      "  y = column_or_1d(y, warn=True)\n"
     ]
    },
    {
     "name": "stdout",
     "output_type": "stream",
     "text": [
      "[CV] .................... C=1, gamma=0.001, score=0.928, total=   0.6s\n",
      "[CV] C=1, gamma=0.001 ................................................\n"
     ]
    },
    {
     "name": "stderr",
     "output_type": "stream",
     "text": [
      "/Users/angelaromansivirichi/opt/anaconda3/lib/python3.7/site-packages/sklearn/utils/validation.py:760: DataConversionWarning: A column-vector y was passed when a 1d array was expected. Please change the shape of y to (n_samples, ), for example using ravel().\n",
      "  y = column_or_1d(y, warn=True)\n"
     ]
    },
    {
     "name": "stdout",
     "output_type": "stream",
     "text": [
      "[CV] .................... C=1, gamma=0.001, score=0.898, total=   0.6s\n",
      "[CV] C=1, gamma=0.001 ................................................\n"
     ]
    },
    {
     "name": "stderr",
     "output_type": "stream",
     "text": [
      "/Users/angelaromansivirichi/opt/anaconda3/lib/python3.7/site-packages/sklearn/utils/validation.py:760: DataConversionWarning: A column-vector y was passed when a 1d array was expected. Please change the shape of y to (n_samples, ), for example using ravel().\n",
      "  y = column_or_1d(y, warn=True)\n"
     ]
    },
    {
     "name": "stdout",
     "output_type": "stream",
     "text": [
      "[CV] .................... C=1, gamma=0.001, score=0.910, total=   0.6s\n",
      "[CV] C=1, gamma=0.001 ................................................\n"
     ]
    },
    {
     "name": "stderr",
     "output_type": "stream",
     "text": [
      "/Users/angelaromansivirichi/opt/anaconda3/lib/python3.7/site-packages/sklearn/utils/validation.py:760: DataConversionWarning: A column-vector y was passed when a 1d array was expected. Please change the shape of y to (n_samples, ), for example using ravel().\n",
      "  y = column_or_1d(y, warn=True)\n"
     ]
    },
    {
     "name": "stdout",
     "output_type": "stream",
     "text": [
      "[CV] .................... C=1, gamma=0.001, score=0.910, total=   0.9s\n",
      "[CV] C=1, gamma=0.005 ................................................\n"
     ]
    },
    {
     "name": "stderr",
     "output_type": "stream",
     "text": [
      "/Users/angelaromansivirichi/opt/anaconda3/lib/python3.7/site-packages/sklearn/utils/validation.py:760: DataConversionWarning: A column-vector y was passed when a 1d array was expected. Please change the shape of y to (n_samples, ), for example using ravel().\n",
      "  y = column_or_1d(y, warn=True)\n"
     ]
    },
    {
     "name": "stdout",
     "output_type": "stream",
     "text": [
      "[CV] .................... C=1, gamma=0.005, score=0.910, total=   1.2s\n",
      "[CV] C=1, gamma=0.005 ................................................\n"
     ]
    },
    {
     "name": "stderr",
     "output_type": "stream",
     "text": [
      "/Users/angelaromansivirichi/opt/anaconda3/lib/python3.7/site-packages/sklearn/utils/validation.py:760: DataConversionWarning: A column-vector y was passed when a 1d array was expected. Please change the shape of y to (n_samples, ), for example using ravel().\n",
      "  y = column_or_1d(y, warn=True)\n"
     ]
    },
    {
     "name": "stdout",
     "output_type": "stream",
     "text": [
      "[CV] .................... C=1, gamma=0.005, score=0.928, total=   0.6s\n",
      "[CV] C=1, gamma=0.005 ................................................\n"
     ]
    },
    {
     "name": "stderr",
     "output_type": "stream",
     "text": [
      "/Users/angelaromansivirichi/opt/anaconda3/lib/python3.7/site-packages/sklearn/utils/validation.py:760: DataConversionWarning: A column-vector y was passed when a 1d array was expected. Please change the shape of y to (n_samples, ), for example using ravel().\n",
      "  y = column_or_1d(y, warn=True)\n"
     ]
    },
    {
     "name": "stdout",
     "output_type": "stream",
     "text": [
      "[CV] .................... C=1, gamma=0.005, score=0.898, total=   0.4s\n",
      "[CV] C=1, gamma=0.005 ................................................\n"
     ]
    },
    {
     "name": "stderr",
     "output_type": "stream",
     "text": [
      "/Users/angelaromansivirichi/opt/anaconda3/lib/python3.7/site-packages/sklearn/utils/validation.py:760: DataConversionWarning: A column-vector y was passed when a 1d array was expected. Please change the shape of y to (n_samples, ), for example using ravel().\n",
      "  y = column_or_1d(y, warn=True)\n"
     ]
    },
    {
     "name": "stdout",
     "output_type": "stream",
     "text": [
      "[CV] .................... C=1, gamma=0.005, score=0.910, total=   0.4s\n",
      "[CV] C=1, gamma=0.005 ................................................\n"
     ]
    },
    {
     "name": "stderr",
     "output_type": "stream",
     "text": [
      "/Users/angelaromansivirichi/opt/anaconda3/lib/python3.7/site-packages/sklearn/utils/validation.py:760: DataConversionWarning: A column-vector y was passed when a 1d array was expected. Please change the shape of y to (n_samples, ), for example using ravel().\n",
      "  y = column_or_1d(y, warn=True)\n"
     ]
    },
    {
     "name": "stdout",
     "output_type": "stream",
     "text": [
      "[CV] .................... C=1, gamma=0.005, score=0.910, total=   0.9s\n",
      "[CV] C=5, gamma=0.0001 ...............................................\n"
     ]
    },
    {
     "name": "stderr",
     "output_type": "stream",
     "text": [
      "/Users/angelaromansivirichi/opt/anaconda3/lib/python3.7/site-packages/sklearn/utils/validation.py:760: DataConversionWarning: A column-vector y was passed when a 1d array was expected. Please change the shape of y to (n_samples, ), for example using ravel().\n",
      "  y = column_or_1d(y, warn=True)\n"
     ]
    },
    {
     "name": "stdout",
     "output_type": "stream",
     "text": [
      "[CV] ................... C=5, gamma=0.0001, score=0.910, total=   3.0s\n",
      "[CV] C=5, gamma=0.0001 ...............................................\n"
     ]
    },
    {
     "name": "stderr",
     "output_type": "stream",
     "text": [
      "/Users/angelaromansivirichi/opt/anaconda3/lib/python3.7/site-packages/sklearn/utils/validation.py:760: DataConversionWarning: A column-vector y was passed when a 1d array was expected. Please change the shape of y to (n_samples, ), for example using ravel().\n",
      "  y = column_or_1d(y, warn=True)\n"
     ]
    },
    {
     "name": "stdout",
     "output_type": "stream",
     "text": [
      "[CV] ................... C=5, gamma=0.0001, score=0.928, total=   2.6s\n",
      "[CV] C=5, gamma=0.0001 ...............................................\n"
     ]
    },
    {
     "name": "stderr",
     "output_type": "stream",
     "text": [
      "/Users/angelaromansivirichi/opt/anaconda3/lib/python3.7/site-packages/sklearn/utils/validation.py:760: DataConversionWarning: A column-vector y was passed when a 1d array was expected. Please change the shape of y to (n_samples, ), for example using ravel().\n",
      "  y = column_or_1d(y, warn=True)\n"
     ]
    },
    {
     "name": "stdout",
     "output_type": "stream",
     "text": [
      "[CV] ................... C=5, gamma=0.0001, score=0.898, total=   4.7s\n",
      "[CV] C=5, gamma=0.0001 ...............................................\n"
     ]
    },
    {
     "name": "stderr",
     "output_type": "stream",
     "text": [
      "/Users/angelaromansivirichi/opt/anaconda3/lib/python3.7/site-packages/sklearn/utils/validation.py:760: DataConversionWarning: A column-vector y was passed when a 1d array was expected. Please change the shape of y to (n_samples, ), for example using ravel().\n",
      "  y = column_or_1d(y, warn=True)\n"
     ]
    },
    {
     "name": "stdout",
     "output_type": "stream",
     "text": [
      "[CV] ................... C=5, gamma=0.0001, score=0.912, total=   3.5s\n",
      "[CV] C=5, gamma=0.0001 ...............................................\n"
     ]
    },
    {
     "name": "stderr",
     "output_type": "stream",
     "text": [
      "/Users/angelaromansivirichi/opt/anaconda3/lib/python3.7/site-packages/sklearn/utils/validation.py:760: DataConversionWarning: A column-vector y was passed when a 1d array was expected. Please change the shape of y to (n_samples, ), for example using ravel().\n",
      "  y = column_or_1d(y, warn=True)\n"
     ]
    },
    {
     "name": "stdout",
     "output_type": "stream",
     "text": [
      "[CV] ................... C=5, gamma=0.0001, score=0.910, total=   2.6s\n",
      "[CV] C=5, gamma=0.0005 ...............................................\n"
     ]
    },
    {
     "name": "stderr",
     "output_type": "stream",
     "text": [
      "/Users/angelaromansivirichi/opt/anaconda3/lib/python3.7/site-packages/sklearn/utils/validation.py:760: DataConversionWarning: A column-vector y was passed when a 1d array was expected. Please change the shape of y to (n_samples, ), for example using ravel().\n",
      "  y = column_or_1d(y, warn=True)\n"
     ]
    },
    {
     "name": "stdout",
     "output_type": "stream",
     "text": [
      "[CV] ................... C=5, gamma=0.0005, score=0.910, total=   2.7s\n",
      "[CV] C=5, gamma=0.0005 ...............................................\n"
     ]
    },
    {
     "name": "stderr",
     "output_type": "stream",
     "text": [
      "/Users/angelaromansivirichi/opt/anaconda3/lib/python3.7/site-packages/sklearn/utils/validation.py:760: DataConversionWarning: A column-vector y was passed when a 1d array was expected. Please change the shape of y to (n_samples, ), for example using ravel().\n",
      "  y = column_or_1d(y, warn=True)\n"
     ]
    },
    {
     "name": "stdout",
     "output_type": "stream",
     "text": [
      "[CV] ................... C=5, gamma=0.0005, score=0.928, total=   3.1s\n",
      "[CV] C=5, gamma=0.0005 ...............................................\n"
     ]
    },
    {
     "name": "stderr",
     "output_type": "stream",
     "text": [
      "/Users/angelaromansivirichi/opt/anaconda3/lib/python3.7/site-packages/sklearn/utils/validation.py:760: DataConversionWarning: A column-vector y was passed when a 1d array was expected. Please change the shape of y to (n_samples, ), for example using ravel().\n",
      "  y = column_or_1d(y, warn=True)\n"
     ]
    },
    {
     "name": "stdout",
     "output_type": "stream",
     "text": [
      "[CV] ................... C=5, gamma=0.0005, score=0.898, total=   1.3s\n",
      "[CV] C=5, gamma=0.0005 ...............................................\n"
     ]
    },
    {
     "name": "stderr",
     "output_type": "stream",
     "text": [
      "/Users/angelaromansivirichi/opt/anaconda3/lib/python3.7/site-packages/sklearn/utils/validation.py:760: DataConversionWarning: A column-vector y was passed when a 1d array was expected. Please change the shape of y to (n_samples, ), for example using ravel().\n",
      "  y = column_or_1d(y, warn=True)\n"
     ]
    },
    {
     "name": "stdout",
     "output_type": "stream",
     "text": [
      "[CV] ................... C=5, gamma=0.0005, score=0.912, total=   1.1s\n",
      "[CV] C=5, gamma=0.0005 ...............................................\n"
     ]
    },
    {
     "name": "stderr",
     "output_type": "stream",
     "text": [
      "/Users/angelaromansivirichi/opt/anaconda3/lib/python3.7/site-packages/sklearn/utils/validation.py:760: DataConversionWarning: A column-vector y was passed when a 1d array was expected. Please change the shape of y to (n_samples, ), for example using ravel().\n",
      "  y = column_or_1d(y, warn=True)\n"
     ]
    },
    {
     "name": "stdout",
     "output_type": "stream",
     "text": [
      "[CV] ................... C=5, gamma=0.0005, score=0.910, total=   0.9s\n",
      "[CV] C=5, gamma=0.001 ................................................\n"
     ]
    },
    {
     "name": "stderr",
     "output_type": "stream",
     "text": [
      "/Users/angelaromansivirichi/opt/anaconda3/lib/python3.7/site-packages/sklearn/utils/validation.py:760: DataConversionWarning: A column-vector y was passed when a 1d array was expected. Please change the shape of y to (n_samples, ), for example using ravel().\n",
      "  y = column_or_1d(y, warn=True)\n"
     ]
    },
    {
     "name": "stdout",
     "output_type": "stream",
     "text": [
      "[CV] .................... C=5, gamma=0.001, score=0.910, total=   0.9s\n",
      "[CV] C=5, gamma=0.001 ................................................\n"
     ]
    },
    {
     "name": "stderr",
     "output_type": "stream",
     "text": [
      "/Users/angelaromansivirichi/opt/anaconda3/lib/python3.7/site-packages/sklearn/utils/validation.py:760: DataConversionWarning: A column-vector y was passed when a 1d array was expected. Please change the shape of y to (n_samples, ), for example using ravel().\n",
      "  y = column_or_1d(y, warn=True)\n"
     ]
    },
    {
     "name": "stdout",
     "output_type": "stream",
     "text": [
      "[CV] .................... C=5, gamma=0.001, score=0.928, total=   1.2s\n",
      "[CV] C=5, gamma=0.001 ................................................\n"
     ]
    },
    {
     "name": "stderr",
     "output_type": "stream",
     "text": [
      "/Users/angelaromansivirichi/opt/anaconda3/lib/python3.7/site-packages/sklearn/utils/validation.py:760: DataConversionWarning: A column-vector y was passed when a 1d array was expected. Please change the shape of y to (n_samples, ), for example using ravel().\n",
      "  y = column_or_1d(y, warn=True)\n"
     ]
    },
    {
     "name": "stdout",
     "output_type": "stream",
     "text": [
      "[CV] .................... C=5, gamma=0.001, score=0.898, total=   1.2s\n",
      "[CV] C=5, gamma=0.001 ................................................\n"
     ]
    },
    {
     "name": "stderr",
     "output_type": "stream",
     "text": [
      "/Users/angelaromansivirichi/opt/anaconda3/lib/python3.7/site-packages/sklearn/utils/validation.py:760: DataConversionWarning: A column-vector y was passed when a 1d array was expected. Please change the shape of y to (n_samples, ), for example using ravel().\n",
      "  y = column_or_1d(y, warn=True)\n"
     ]
    },
    {
     "name": "stdout",
     "output_type": "stream",
     "text": [
      "[CV] .................... C=5, gamma=0.001, score=0.912, total=   2.4s\n",
      "[CV] C=5, gamma=0.001 ................................................\n"
     ]
    },
    {
     "name": "stderr",
     "output_type": "stream",
     "text": [
      "/Users/angelaromansivirichi/opt/anaconda3/lib/python3.7/site-packages/sklearn/utils/validation.py:760: DataConversionWarning: A column-vector y was passed when a 1d array was expected. Please change the shape of y to (n_samples, ), for example using ravel().\n",
      "  y = column_or_1d(y, warn=True)\n"
     ]
    },
    {
     "name": "stdout",
     "output_type": "stream",
     "text": [
      "[CV] .................... C=5, gamma=0.001, score=0.910, total=   2.6s\n",
      "[CV] C=5, gamma=0.005 ................................................\n"
     ]
    },
    {
     "name": "stderr",
     "output_type": "stream",
     "text": [
      "/Users/angelaromansivirichi/opt/anaconda3/lib/python3.7/site-packages/sklearn/utils/validation.py:760: DataConversionWarning: A column-vector y was passed when a 1d array was expected. Please change the shape of y to (n_samples, ), for example using ravel().\n",
      "  y = column_or_1d(y, warn=True)\n"
     ]
    },
    {
     "name": "stdout",
     "output_type": "stream",
     "text": [
      "[CV] .................... C=5, gamma=0.005, score=0.910, total=   1.3s\n",
      "[CV] C=5, gamma=0.005 ................................................\n"
     ]
    },
    {
     "name": "stderr",
     "output_type": "stream",
     "text": [
      "/Users/angelaromansivirichi/opt/anaconda3/lib/python3.7/site-packages/sklearn/utils/validation.py:760: DataConversionWarning: A column-vector y was passed when a 1d array was expected. Please change the shape of y to (n_samples, ), for example using ravel().\n",
      "  y = column_or_1d(y, warn=True)\n"
     ]
    },
    {
     "name": "stdout",
     "output_type": "stream",
     "text": [
      "[CV] .................... C=5, gamma=0.005, score=0.928, total=   1.9s\n",
      "[CV] C=5, gamma=0.005 ................................................\n"
     ]
    },
    {
     "name": "stderr",
     "output_type": "stream",
     "text": [
      "/Users/angelaromansivirichi/opt/anaconda3/lib/python3.7/site-packages/sklearn/utils/validation.py:760: DataConversionWarning: A column-vector y was passed when a 1d array was expected. Please change the shape of y to (n_samples, ), for example using ravel().\n",
      "  y = column_or_1d(y, warn=True)\n"
     ]
    },
    {
     "name": "stdout",
     "output_type": "stream",
     "text": [
      "[CV] .................... C=5, gamma=0.005, score=0.898, total=   1.6s\n",
      "[CV] C=5, gamma=0.005 ................................................\n"
     ]
    },
    {
     "name": "stderr",
     "output_type": "stream",
     "text": [
      "/Users/angelaromansivirichi/opt/anaconda3/lib/python3.7/site-packages/sklearn/utils/validation.py:760: DataConversionWarning: A column-vector y was passed when a 1d array was expected. Please change the shape of y to (n_samples, ), for example using ravel().\n",
      "  y = column_or_1d(y, warn=True)\n"
     ]
    },
    {
     "name": "stdout",
     "output_type": "stream",
     "text": [
      "[CV] .................... C=5, gamma=0.005, score=0.912, total=   1.1s\n",
      "[CV] C=5, gamma=0.005 ................................................\n"
     ]
    },
    {
     "name": "stderr",
     "output_type": "stream",
     "text": [
      "/Users/angelaromansivirichi/opt/anaconda3/lib/python3.7/site-packages/sklearn/utils/validation.py:760: DataConversionWarning: A column-vector y was passed when a 1d array was expected. Please change the shape of y to (n_samples, ), for example using ravel().\n",
      "  y = column_or_1d(y, warn=True)\n"
     ]
    },
    {
     "name": "stdout",
     "output_type": "stream",
     "text": [
      "[CV] .................... C=5, gamma=0.005, score=0.910, total=   0.9s\n",
      "[CV] C=10, gamma=0.0001 ..............................................\n"
     ]
    },
    {
     "name": "stderr",
     "output_type": "stream",
     "text": [
      "/Users/angelaromansivirichi/opt/anaconda3/lib/python3.7/site-packages/sklearn/utils/validation.py:760: DataConversionWarning: A column-vector y was passed when a 1d array was expected. Please change the shape of y to (n_samples, ), for example using ravel().\n",
      "  y = column_or_1d(y, warn=True)\n"
     ]
    },
    {
     "name": "stdout",
     "output_type": "stream",
     "text": [
      "[CV] .................. C=10, gamma=0.0001, score=0.910, total=   1.6s\n",
      "[CV] C=10, gamma=0.0001 ..............................................\n"
     ]
    },
    {
     "name": "stderr",
     "output_type": "stream",
     "text": [
      "/Users/angelaromansivirichi/opt/anaconda3/lib/python3.7/site-packages/sklearn/utils/validation.py:760: DataConversionWarning: A column-vector y was passed when a 1d array was expected. Please change the shape of y to (n_samples, ), for example using ravel().\n",
      "  y = column_or_1d(y, warn=True)\n"
     ]
    },
    {
     "name": "stdout",
     "output_type": "stream",
     "text": [
      "[CV] .................. C=10, gamma=0.0001, score=0.928, total=   2.0s\n",
      "[CV] C=10, gamma=0.0001 ..............................................\n"
     ]
    },
    {
     "name": "stderr",
     "output_type": "stream",
     "text": [
      "/Users/angelaromansivirichi/opt/anaconda3/lib/python3.7/site-packages/sklearn/utils/validation.py:760: DataConversionWarning: A column-vector y was passed when a 1d array was expected. Please change the shape of y to (n_samples, ), for example using ravel().\n",
      "  y = column_or_1d(y, warn=True)\n"
     ]
    },
    {
     "name": "stdout",
     "output_type": "stream",
     "text": [
      "[CV] .................. C=10, gamma=0.0001, score=0.900, total=   2.4s\n",
      "[CV] C=10, gamma=0.0001 ..............................................\n"
     ]
    },
    {
     "name": "stderr",
     "output_type": "stream",
     "text": [
      "/Users/angelaromansivirichi/opt/anaconda3/lib/python3.7/site-packages/sklearn/utils/validation.py:760: DataConversionWarning: A column-vector y was passed when a 1d array was expected. Please change the shape of y to (n_samples, ), for example using ravel().\n",
      "  y = column_or_1d(y, warn=True)\n"
     ]
    },
    {
     "name": "stdout",
     "output_type": "stream",
     "text": [
      "[CV] .................. C=10, gamma=0.0001, score=0.912, total=   1.9s\n",
      "[CV] C=10, gamma=0.0001 ..............................................\n"
     ]
    },
    {
     "name": "stderr",
     "output_type": "stream",
     "text": [
      "/Users/angelaromansivirichi/opt/anaconda3/lib/python3.7/site-packages/sklearn/utils/validation.py:760: DataConversionWarning: A column-vector y was passed when a 1d array was expected. Please change the shape of y to (n_samples, ), for example using ravel().\n",
      "  y = column_or_1d(y, warn=True)\n"
     ]
    },
    {
     "name": "stdout",
     "output_type": "stream",
     "text": [
      "[CV] .................. C=10, gamma=0.0001, score=0.910, total=   1.5s\n",
      "[CV] C=10, gamma=0.0005 ..............................................\n"
     ]
    },
    {
     "name": "stderr",
     "output_type": "stream",
     "text": [
      "/Users/angelaromansivirichi/opt/anaconda3/lib/python3.7/site-packages/sklearn/utils/validation.py:760: DataConversionWarning: A column-vector y was passed when a 1d array was expected. Please change the shape of y to (n_samples, ), for example using ravel().\n",
      "  y = column_or_1d(y, warn=True)\n"
     ]
    },
    {
     "name": "stdout",
     "output_type": "stream",
     "text": [
      "[CV] .................. C=10, gamma=0.0005, score=0.910, total=   1.5s\n",
      "[CV] C=10, gamma=0.0005 ..............................................\n"
     ]
    },
    {
     "name": "stderr",
     "output_type": "stream",
     "text": [
      "/Users/angelaromansivirichi/opt/anaconda3/lib/python3.7/site-packages/sklearn/utils/validation.py:760: DataConversionWarning: A column-vector y was passed when a 1d array was expected. Please change the shape of y to (n_samples, ), for example using ravel().\n",
      "  y = column_or_1d(y, warn=True)\n"
     ]
    },
    {
     "name": "stdout",
     "output_type": "stream",
     "text": [
      "[CV] .................. C=10, gamma=0.0005, score=0.928, total=   1.9s\n",
      "[CV] C=10, gamma=0.0005 ..............................................\n"
     ]
    },
    {
     "name": "stderr",
     "output_type": "stream",
     "text": [
      "/Users/angelaromansivirichi/opt/anaconda3/lib/python3.7/site-packages/sklearn/utils/validation.py:760: DataConversionWarning: A column-vector y was passed when a 1d array was expected. Please change the shape of y to (n_samples, ), for example using ravel().\n",
      "  y = column_or_1d(y, warn=True)\n"
     ]
    },
    {
     "name": "stdout",
     "output_type": "stream",
     "text": [
      "[CV] .................. C=10, gamma=0.0005, score=0.900, total=   2.3s\n",
      "[CV] C=10, gamma=0.0005 ..............................................\n"
     ]
    },
    {
     "name": "stderr",
     "output_type": "stream",
     "text": [
      "/Users/angelaromansivirichi/opt/anaconda3/lib/python3.7/site-packages/sklearn/utils/validation.py:760: DataConversionWarning: A column-vector y was passed when a 1d array was expected. Please change the shape of y to (n_samples, ), for example using ravel().\n",
      "  y = column_or_1d(y, warn=True)\n"
     ]
    },
    {
     "name": "stdout",
     "output_type": "stream",
     "text": [
      "[CV] .................. C=10, gamma=0.0005, score=0.912, total=   1.9s\n",
      "[CV] C=10, gamma=0.0005 ..............................................\n"
     ]
    },
    {
     "name": "stderr",
     "output_type": "stream",
     "text": [
      "/Users/angelaromansivirichi/opt/anaconda3/lib/python3.7/site-packages/sklearn/utils/validation.py:760: DataConversionWarning: A column-vector y was passed when a 1d array was expected. Please change the shape of y to (n_samples, ), for example using ravel().\n",
      "  y = column_or_1d(y, warn=True)\n"
     ]
    },
    {
     "name": "stdout",
     "output_type": "stream",
     "text": [
      "[CV] .................. C=10, gamma=0.0005, score=0.910, total=   1.4s\n",
      "[CV] C=10, gamma=0.001 ...............................................\n"
     ]
    },
    {
     "name": "stderr",
     "output_type": "stream",
     "text": [
      "/Users/angelaromansivirichi/opt/anaconda3/lib/python3.7/site-packages/sklearn/utils/validation.py:760: DataConversionWarning: A column-vector y was passed when a 1d array was expected. Please change the shape of y to (n_samples, ), for example using ravel().\n",
      "  y = column_or_1d(y, warn=True)\n"
     ]
    },
    {
     "name": "stdout",
     "output_type": "stream",
     "text": [
      "[CV] ................... C=10, gamma=0.001, score=0.910, total=   1.5s\n",
      "[CV] C=10, gamma=0.001 ...............................................\n"
     ]
    },
    {
     "name": "stderr",
     "output_type": "stream",
     "text": [
      "/Users/angelaromansivirichi/opt/anaconda3/lib/python3.7/site-packages/sklearn/utils/validation.py:760: DataConversionWarning: A column-vector y was passed when a 1d array was expected. Please change the shape of y to (n_samples, ), for example using ravel().\n",
      "  y = column_or_1d(y, warn=True)\n"
     ]
    },
    {
     "name": "stdout",
     "output_type": "stream",
     "text": [
      "[CV] ................... C=10, gamma=0.001, score=0.928, total=   1.9s\n",
      "[CV] C=10, gamma=0.001 ...............................................\n"
     ]
    },
    {
     "name": "stderr",
     "output_type": "stream",
     "text": [
      "/Users/angelaromansivirichi/opt/anaconda3/lib/python3.7/site-packages/sklearn/utils/validation.py:760: DataConversionWarning: A column-vector y was passed when a 1d array was expected. Please change the shape of y to (n_samples, ), for example using ravel().\n",
      "  y = column_or_1d(y, warn=True)\n"
     ]
    },
    {
     "name": "stdout",
     "output_type": "stream",
     "text": [
      "[CV] ................... C=10, gamma=0.001, score=0.900, total=   2.4s\n",
      "[CV] C=10, gamma=0.001 ...............................................\n"
     ]
    },
    {
     "name": "stderr",
     "output_type": "stream",
     "text": [
      "/Users/angelaromansivirichi/opt/anaconda3/lib/python3.7/site-packages/sklearn/utils/validation.py:760: DataConversionWarning: A column-vector y was passed when a 1d array was expected. Please change the shape of y to (n_samples, ), for example using ravel().\n",
      "  y = column_or_1d(y, warn=True)\n"
     ]
    },
    {
     "name": "stdout",
     "output_type": "stream",
     "text": [
      "[CV] ................... C=10, gamma=0.001, score=0.912, total=   1.9s\n",
      "[CV] C=10, gamma=0.001 ...............................................\n"
     ]
    },
    {
     "name": "stderr",
     "output_type": "stream",
     "text": [
      "/Users/angelaromansivirichi/opt/anaconda3/lib/python3.7/site-packages/sklearn/utils/validation.py:760: DataConversionWarning: A column-vector y was passed when a 1d array was expected. Please change the shape of y to (n_samples, ), for example using ravel().\n",
      "  y = column_or_1d(y, warn=True)\n"
     ]
    },
    {
     "name": "stdout",
     "output_type": "stream",
     "text": [
      "[CV] ................... C=10, gamma=0.001, score=0.910, total=   1.8s\n",
      "[CV] C=10, gamma=0.005 ...............................................\n"
     ]
    },
    {
     "name": "stderr",
     "output_type": "stream",
     "text": [
      "/Users/angelaromansivirichi/opt/anaconda3/lib/python3.7/site-packages/sklearn/utils/validation.py:760: DataConversionWarning: A column-vector y was passed when a 1d array was expected. Please change the shape of y to (n_samples, ), for example using ravel().\n",
      "  y = column_or_1d(y, warn=True)\n"
     ]
    },
    {
     "name": "stdout",
     "output_type": "stream",
     "text": [
      "[CV] ................... C=10, gamma=0.005, score=0.910, total=   1.7s\n",
      "[CV] C=10, gamma=0.005 ...............................................\n"
     ]
    },
    {
     "name": "stderr",
     "output_type": "stream",
     "text": [
      "/Users/angelaromansivirichi/opt/anaconda3/lib/python3.7/site-packages/sklearn/utils/validation.py:760: DataConversionWarning: A column-vector y was passed when a 1d array was expected. Please change the shape of y to (n_samples, ), for example using ravel().\n",
      "  y = column_or_1d(y, warn=True)\n"
     ]
    },
    {
     "name": "stdout",
     "output_type": "stream",
     "text": [
      "[CV] ................... C=10, gamma=0.005, score=0.928, total=   2.0s\n",
      "[CV] C=10, gamma=0.005 ...............................................\n"
     ]
    },
    {
     "name": "stderr",
     "output_type": "stream",
     "text": [
      "/Users/angelaromansivirichi/opt/anaconda3/lib/python3.7/site-packages/sklearn/utils/validation.py:760: DataConversionWarning: A column-vector y was passed when a 1d array was expected. Please change the shape of y to (n_samples, ), for example using ravel().\n",
      "  y = column_or_1d(y, warn=True)\n"
     ]
    },
    {
     "name": "stdout",
     "output_type": "stream",
     "text": [
      "[CV] ................... C=10, gamma=0.005, score=0.900, total=   2.3s\n",
      "[CV] C=10, gamma=0.005 ...............................................\n"
     ]
    },
    {
     "name": "stderr",
     "output_type": "stream",
     "text": [
      "/Users/angelaromansivirichi/opt/anaconda3/lib/python3.7/site-packages/sklearn/utils/validation.py:760: DataConversionWarning: A column-vector y was passed when a 1d array was expected. Please change the shape of y to (n_samples, ), for example using ravel().\n",
      "  y = column_or_1d(y, warn=True)\n"
     ]
    },
    {
     "name": "stdout",
     "output_type": "stream",
     "text": [
      "[CV] ................... C=10, gamma=0.005, score=0.912, total=   2.0s\n",
      "[CV] C=10, gamma=0.005 ...............................................\n"
     ]
    },
    {
     "name": "stderr",
     "output_type": "stream",
     "text": [
      "/Users/angelaromansivirichi/opt/anaconda3/lib/python3.7/site-packages/sklearn/utils/validation.py:760: DataConversionWarning: A column-vector y was passed when a 1d array was expected. Please change the shape of y to (n_samples, ), for example using ravel().\n",
      "  y = column_or_1d(y, warn=True)\n"
     ]
    },
    {
     "name": "stdout",
     "output_type": "stream",
     "text": [
      "[CV] ................... C=10, gamma=0.005, score=0.910, total=   1.5s\n",
      "[CV] C=50, gamma=0.0001 ..............................................\n"
     ]
    },
    {
     "name": "stderr",
     "output_type": "stream",
     "text": [
      "/Users/angelaromansivirichi/opt/anaconda3/lib/python3.7/site-packages/sklearn/utils/validation.py:760: DataConversionWarning: A column-vector y was passed when a 1d array was expected. Please change the shape of y to (n_samples, ), for example using ravel().\n",
      "  y = column_or_1d(y, warn=True)\n"
     ]
    },
    {
     "name": "stdout",
     "output_type": "stream",
     "text": [
      "[CV] .................. C=50, gamma=0.0001, score=0.910, total=   8.0s\n",
      "[CV] C=50, gamma=0.0001 ..............................................\n"
     ]
    },
    {
     "name": "stderr",
     "output_type": "stream",
     "text": [
      "/Users/angelaromansivirichi/opt/anaconda3/lib/python3.7/site-packages/sklearn/utils/validation.py:760: DataConversionWarning: A column-vector y was passed when a 1d array was expected. Please change the shape of y to (n_samples, ), for example using ravel().\n",
      "  y = column_or_1d(y, warn=True)\n"
     ]
    },
    {
     "name": "stdout",
     "output_type": "stream",
     "text": [
      "[CV] .................. C=50, gamma=0.0001, score=0.928, total=  11.4s\n",
      "[CV] C=50, gamma=0.0001 ..............................................\n"
     ]
    },
    {
     "name": "stderr",
     "output_type": "stream",
     "text": [
      "/Users/angelaromansivirichi/opt/anaconda3/lib/python3.7/site-packages/sklearn/utils/validation.py:760: DataConversionWarning: A column-vector y was passed when a 1d array was expected. Please change the shape of y to (n_samples, ), for example using ravel().\n",
      "  y = column_or_1d(y, warn=True)\n"
     ]
    },
    {
     "name": "stdout",
     "output_type": "stream",
     "text": [
      "[CV] .................. C=50, gamma=0.0001, score=0.900, total=  14.2s\n",
      "[CV] C=50, gamma=0.0001 ..............................................\n"
     ]
    },
    {
     "name": "stderr",
     "output_type": "stream",
     "text": [
      "/Users/angelaromansivirichi/opt/anaconda3/lib/python3.7/site-packages/sklearn/utils/validation.py:760: DataConversionWarning: A column-vector y was passed when a 1d array was expected. Please change the shape of y to (n_samples, ), for example using ravel().\n",
      "  y = column_or_1d(y, warn=True)\n"
     ]
    },
    {
     "name": "stdout",
     "output_type": "stream",
     "text": [
      "[CV] .................. C=50, gamma=0.0001, score=0.912, total=   7.6s\n",
      "[CV] C=50, gamma=0.0001 ..............................................\n"
     ]
    },
    {
     "name": "stderr",
     "output_type": "stream",
     "text": [
      "/Users/angelaromansivirichi/opt/anaconda3/lib/python3.7/site-packages/sklearn/utils/validation.py:760: DataConversionWarning: A column-vector y was passed when a 1d array was expected. Please change the shape of y to (n_samples, ), for example using ravel().\n",
      "  y = column_or_1d(y, warn=True)\n"
     ]
    },
    {
     "name": "stdout",
     "output_type": "stream",
     "text": [
      "[CV] .................. C=50, gamma=0.0001, score=0.910, total=  11.5s\n",
      "[CV] C=50, gamma=0.0005 ..............................................\n"
     ]
    },
    {
     "name": "stderr",
     "output_type": "stream",
     "text": [
      "/Users/angelaromansivirichi/opt/anaconda3/lib/python3.7/site-packages/sklearn/utils/validation.py:760: DataConversionWarning: A column-vector y was passed when a 1d array was expected. Please change the shape of y to (n_samples, ), for example using ravel().\n",
      "  y = column_or_1d(y, warn=True)\n"
     ]
    },
    {
     "name": "stdout",
     "output_type": "stream",
     "text": [
      "[CV] .................. C=50, gamma=0.0005, score=0.910, total=   9.1s\n",
      "[CV] C=50, gamma=0.0005 ..............................................\n"
     ]
    },
    {
     "name": "stderr",
     "output_type": "stream",
     "text": [
      "/Users/angelaromansivirichi/opt/anaconda3/lib/python3.7/site-packages/sklearn/utils/validation.py:760: DataConversionWarning: A column-vector y was passed when a 1d array was expected. Please change the shape of y to (n_samples, ), for example using ravel().\n",
      "  y = column_or_1d(y, warn=True)\n"
     ]
    },
    {
     "name": "stdout",
     "output_type": "stream",
     "text": [
      "[CV] .................. C=50, gamma=0.0005, score=0.928, total=   9.8s\n",
      "[CV] C=50, gamma=0.0005 ..............................................\n"
     ]
    },
    {
     "name": "stderr",
     "output_type": "stream",
     "text": [
      "/Users/angelaromansivirichi/opt/anaconda3/lib/python3.7/site-packages/sklearn/utils/validation.py:760: DataConversionWarning: A column-vector y was passed when a 1d array was expected. Please change the shape of y to (n_samples, ), for example using ravel().\n",
      "  y = column_or_1d(y, warn=True)\n"
     ]
    },
    {
     "name": "stdout",
     "output_type": "stream",
     "text": [
      "[CV] .................. C=50, gamma=0.0005, score=0.900, total=   8.8s\n",
      "[CV] C=50, gamma=0.0005 ..............................................\n"
     ]
    },
    {
     "name": "stderr",
     "output_type": "stream",
     "text": [
      "/Users/angelaromansivirichi/opt/anaconda3/lib/python3.7/site-packages/sklearn/utils/validation.py:760: DataConversionWarning: A column-vector y was passed when a 1d array was expected. Please change the shape of y to (n_samples, ), for example using ravel().\n",
      "  y = column_or_1d(y, warn=True)\n"
     ]
    },
    {
     "name": "stdout",
     "output_type": "stream",
     "text": [
      "[CV] .................. C=50, gamma=0.0005, score=0.912, total=   6.8s\n",
      "[CV] C=50, gamma=0.0005 ..............................................\n"
     ]
    },
    {
     "name": "stderr",
     "output_type": "stream",
     "text": [
      "/Users/angelaromansivirichi/opt/anaconda3/lib/python3.7/site-packages/sklearn/utils/validation.py:760: DataConversionWarning: A column-vector y was passed when a 1d array was expected. Please change the shape of y to (n_samples, ), for example using ravel().\n",
      "  y = column_or_1d(y, warn=True)\n"
     ]
    },
    {
     "name": "stdout",
     "output_type": "stream",
     "text": [
      "[CV] .................. C=50, gamma=0.0005, score=0.910, total=   6.1s\n",
      "[CV] C=50, gamma=0.001 ...............................................\n"
     ]
    },
    {
     "name": "stderr",
     "output_type": "stream",
     "text": [
      "/Users/angelaromansivirichi/opt/anaconda3/lib/python3.7/site-packages/sklearn/utils/validation.py:760: DataConversionWarning: A column-vector y was passed when a 1d array was expected. Please change the shape of y to (n_samples, ), for example using ravel().\n",
      "  y = column_or_1d(y, warn=True)\n"
     ]
    },
    {
     "name": "stdout",
     "output_type": "stream",
     "text": [
      "[CV] ................... C=50, gamma=0.001, score=0.910, total=  20.7s\n",
      "[CV] C=50, gamma=0.001 ...............................................\n"
     ]
    },
    {
     "name": "stderr",
     "output_type": "stream",
     "text": [
      "/Users/angelaromansivirichi/opt/anaconda3/lib/python3.7/site-packages/sklearn/utils/validation.py:760: DataConversionWarning: A column-vector y was passed when a 1d array was expected. Please change the shape of y to (n_samples, ), for example using ravel().\n",
      "  y = column_or_1d(y, warn=True)\n"
     ]
    },
    {
     "name": "stdout",
     "output_type": "stream",
     "text": [
      "[CV] ................... C=50, gamma=0.001, score=0.928, total=  28.9s\n",
      "[CV] C=50, gamma=0.001 ...............................................\n"
     ]
    },
    {
     "name": "stderr",
     "output_type": "stream",
     "text": [
      "/Users/angelaromansivirichi/opt/anaconda3/lib/python3.7/site-packages/sklearn/utils/validation.py:760: DataConversionWarning: A column-vector y was passed when a 1d array was expected. Please change the shape of y to (n_samples, ), for example using ravel().\n",
      "  y = column_or_1d(y, warn=True)\n"
     ]
    },
    {
     "name": "stdout",
     "output_type": "stream",
     "text": [
      "[CV] ................... C=50, gamma=0.001, score=0.900, total=  13.9s\n",
      "[CV] C=50, gamma=0.001 ...............................................\n"
     ]
    },
    {
     "name": "stderr",
     "output_type": "stream",
     "text": [
      "/Users/angelaromansivirichi/opt/anaconda3/lib/python3.7/site-packages/sklearn/utils/validation.py:760: DataConversionWarning: A column-vector y was passed when a 1d array was expected. Please change the shape of y to (n_samples, ), for example using ravel().\n",
      "  y = column_or_1d(y, warn=True)\n"
     ]
    },
    {
     "name": "stdout",
     "output_type": "stream",
     "text": [
      "[CV] ................... C=50, gamma=0.001, score=0.912, total=   9.9s\n",
      "[CV] C=50, gamma=0.001 ...............................................\n"
     ]
    },
    {
     "name": "stderr",
     "output_type": "stream",
     "text": [
      "/Users/angelaromansivirichi/opt/anaconda3/lib/python3.7/site-packages/sklearn/utils/validation.py:760: DataConversionWarning: A column-vector y was passed when a 1d array was expected. Please change the shape of y to (n_samples, ), for example using ravel().\n",
      "  y = column_or_1d(y, warn=True)\n"
     ]
    },
    {
     "name": "stdout",
     "output_type": "stream",
     "text": [
      "[CV] ................... C=50, gamma=0.001, score=0.910, total=   8.5s\n",
      "[CV] C=50, gamma=0.005 ...............................................\n"
     ]
    },
    {
     "name": "stderr",
     "output_type": "stream",
     "text": [
      "/Users/angelaromansivirichi/opt/anaconda3/lib/python3.7/site-packages/sklearn/utils/validation.py:760: DataConversionWarning: A column-vector y was passed when a 1d array was expected. Please change the shape of y to (n_samples, ), for example using ravel().\n",
      "  y = column_or_1d(y, warn=True)\n"
     ]
    },
    {
     "name": "stdout",
     "output_type": "stream",
     "text": [
      "[CV] ................... C=50, gamma=0.005, score=0.910, total=   9.6s\n",
      "[CV] C=50, gamma=0.005 ...............................................\n"
     ]
    },
    {
     "name": "stderr",
     "output_type": "stream",
     "text": [
      "/Users/angelaromansivirichi/opt/anaconda3/lib/python3.7/site-packages/sklearn/utils/validation.py:760: DataConversionWarning: A column-vector y was passed when a 1d array was expected. Please change the shape of y to (n_samples, ), for example using ravel().\n",
      "  y = column_or_1d(y, warn=True)\n"
     ]
    },
    {
     "name": "stdout",
     "output_type": "stream",
     "text": [
      "[CV] ................... C=50, gamma=0.005, score=0.928, total=  19.3s\n",
      "[CV] C=50, gamma=0.005 ...............................................\n"
     ]
    },
    {
     "name": "stderr",
     "output_type": "stream",
     "text": [
      "/Users/angelaromansivirichi/opt/anaconda3/lib/python3.7/site-packages/sklearn/utils/validation.py:760: DataConversionWarning: A column-vector y was passed when a 1d array was expected. Please change the shape of y to (n_samples, ), for example using ravel().\n",
      "  y = column_or_1d(y, warn=True)\n"
     ]
    },
    {
     "name": "stdout",
     "output_type": "stream",
     "text": [
      "[CV] ................... C=50, gamma=0.005, score=0.900, total=  10.9s\n",
      "[CV] C=50, gamma=0.005 ...............................................\n"
     ]
    },
    {
     "name": "stderr",
     "output_type": "stream",
     "text": [
      "/Users/angelaromansivirichi/opt/anaconda3/lib/python3.7/site-packages/sklearn/utils/validation.py:760: DataConversionWarning: A column-vector y was passed when a 1d array was expected. Please change the shape of y to (n_samples, ), for example using ravel().\n",
      "  y = column_or_1d(y, warn=True)\n"
     ]
    },
    {
     "name": "stdout",
     "output_type": "stream",
     "text": [
      "[CV] ................... C=50, gamma=0.005, score=0.912, total=   8.7s\n",
      "[CV] C=50, gamma=0.005 ...............................................\n"
     ]
    },
    {
     "name": "stderr",
     "output_type": "stream",
     "text": [
      "/Users/angelaromansivirichi/opt/anaconda3/lib/python3.7/site-packages/sklearn/utils/validation.py:760: DataConversionWarning: A column-vector y was passed when a 1d array was expected. Please change the shape of y to (n_samples, ), for example using ravel().\n",
      "  y = column_or_1d(y, warn=True)\n"
     ]
    },
    {
     "name": "stdout",
     "output_type": "stream",
     "text": [
      "[CV] ................... C=50, gamma=0.005, score=0.910, total=   7.2s\n"
     ]
    },
    {
     "name": "stderr",
     "output_type": "stream",
     "text": [
      "[Parallel(n_jobs=1)]: Done  80 out of  80 | elapsed:  5.4min finished\n",
      "/Users/angelaromansivirichi/opt/anaconda3/lib/python3.7/site-packages/sklearn/utils/validation.py:760: DataConversionWarning: A column-vector y was passed when a 1d array was expected. Please change the shape of y to (n_samples, ), for example using ravel().\n",
      "  y = column_or_1d(y, warn=True)\n"
     ]
    },
    {
     "data": {
      "text/plain": [
       "GridSearchCV(cv=None, error_score=nan,\n",
       "             estimator=SVC(C=1.0, break_ties=False, cache_size=200,\n",
       "                           class_weight=None, coef0=0.0,\n",
       "                           decision_function_shape='ovr', degree=3,\n",
       "                           gamma='scale', kernel='linear', max_iter=-1,\n",
       "                           probability=False, random_state=None, shrinking=True,\n",
       "                           tol=0.001, verbose=False),\n",
       "             iid='deprecated', n_jobs=None,\n",
       "             param_grid={'C': [1, 5, 10, 50],\n",
       "                         'gamma': [0.0001, 0.0005, 0.001, 0.005]},\n",
       "             pre_dispatch='2*n_jobs', refit=True, return_train_score=False,\n",
       "             scoring=None, verbose=3)"
      ]
     },
     "execution_count": 45,
     "metadata": {},
     "output_type": "execute_result"
    }
   ],
   "source": [
    "# Fit the model using the grid search estimator. \n",
    "# This will take the SVC model and try each combination of parameters\n",
    "grid.fit(X_train_scaled, y_train)"
   ]
  },
  {
   "cell_type": "code",
   "execution_count": 46,
   "metadata": {},
   "outputs": [
    {
     "name": "stdout",
     "output_type": "stream",
     "text": [
      "{'C': 10, 'gamma': 0.0001}\n"
     ]
    }
   ],
   "source": [
    " # List the best parameters for this dataset\n",
    "print(grid.best_params_)"
   ]
  },
  {
   "cell_type": "code",
   "execution_count": 47,
   "metadata": {},
   "outputs": [
    {
     "name": "stdout",
     "output_type": "stream",
     "text": [
      "0.9120654396728016\n"
     ]
    }
   ],
   "source": [
    "# List the best score\n",
    "print(grid.best_score_)"
   ]
  },
  {
   "cell_type": "code",
   "execution_count": 48,
   "metadata": {},
   "outputs": [],
   "source": [
    "# Make predictions with the hypertuned model\n",
    "predictions = grid.predict(X_test_scaled)"
   ]
  },
  {
   "cell_type": "code",
   "execution_count": 49,
   "metadata": {},
   "outputs": [
    {
     "name": "stdout",
     "output_type": "stream",
     "text": [
      "              precision    recall  f1-score   support\n",
      "\n",
      "         one       0.81      0.58      0.67        99\n",
      "         two       0.92      0.98      0.95       702\n",
      "       three       0.00      0.00      0.00        14\n",
      "\n",
      "    accuracy                           0.92       815\n",
      "   macro avg       0.58      0.52      0.54       815\n",
      "weighted avg       0.90      0.92      0.90       815\n",
      "\n"
     ]
    },
    {
     "name": "stderr",
     "output_type": "stream",
     "text": [
      "/Users/angelaromansivirichi/opt/anaconda3/lib/python3.7/site-packages/sklearn/metrics/_classification.py:1272: UndefinedMetricWarning: Precision and F-score are ill-defined and being set to 0.0 in labels with no predicted samples. Use `zero_division` parameter to control this behavior.\n",
      "  _warn_prf(average, modifier, msg_start, len(result))\n"
     ]
    }
   ],
   "source": [
    "# Calculate classification report\n",
    "from sklearn.metrics import classification_report\n",
    "print(classification_report(y_test, predictions,\n",
    "                            target_names=[\"one\", \"two\",\"three\"]))"
   ]
  },
  {
   "cell_type": "code",
   "execution_count": 43,
   "metadata": {},
   "outputs": [],
   "source": [
    "#new_data = [[new data inserted here]]\n",
    "#predicted_class = knn.predict(new_data)\n",
    "#print(predicted_class)"
   ]
  },
  {
   "cell_type": "code",
   "execution_count": 44,
   "metadata": {},
   "outputs": [],
   "source": [
    "#DEEPLEARNING"
   ]
  },
  {
   "cell_type": "code",
   "execution_count": 50,
   "metadata": {},
   "outputs": [],
   "source": [
    "from sklearn.preprocessing import StandardScaler\n",
    "\n",
    "X_scaler = StandardScaler().fit(X_train)"
   ]
  },
  {
   "cell_type": "code",
   "execution_count": 51,
   "metadata": {},
   "outputs": [],
   "source": [
    "X_train_scaled = X_scaler.transform(X_train)\n",
    "X_test_scaled = X_scaler.transform(X_test)"
   ]
  },
  {
   "cell_type": "code",
   "execution_count": 52,
   "metadata": {},
   "outputs": [],
   "source": [
    "from tensorflow.keras.utils import to_categorical\n",
    "\n",
    "y_train_categorical = to_categorical(y_train)\n",
    "y_test_categorical = to_categorical(y_test)"
   ]
  },
  {
   "cell_type": "code",
   "execution_count": 57,
   "metadata": {},
   "outputs": [],
   "source": [
    "from tensorflow.keras.models import Sequential\n",
    "from tensorflow.keras.layers import Dense\n",
    "\n",
    "deep_model = Sequential()\n",
    "deep_model.add(Dense(units=20, activation='relu', input_dim=34))\n",
    "deep_model.add(Dense(units=10, activation='relu'))\n",
    "deep_model.add(Dense(units=20, activation='relu'))\n",
    "deep_model.add(Dense(units=3, activation='softmax'))"
   ]
  },
  {
   "cell_type": "code",
   "execution_count": 58,
   "metadata": {},
   "outputs": [],
   "source": [
    "deep_model.compile(optimizer='adam',\n",
    "              loss='categorical_crossentropy',\n",
    "              metrics=['accuracy'])\n"
   ]
  },
  {
   "cell_type": "code",
   "execution_count": 59,
   "metadata": {},
   "outputs": [
    {
     "name": "stdout",
     "output_type": "stream",
     "text": [
      "(2445, 3)\n",
      "_----------\n",
      "(2445, 34)\n"
     ]
    }
   ],
   "source": [
    "print(y_train_categorical.shape)\n",
    "print(\"_----------\")\n",
    "print(X_train_scaled.shape)"
   ]
  },
  {
   "cell_type": "code",
   "execution_count": 60,
   "metadata": {},
   "outputs": [
    {
     "name": "stdout",
     "output_type": "stream",
     "text": [
      "Epoch 1/200\n",
      "77/77 - 0s - loss: 0.7631 - accuracy: 0.7010\n",
      "Epoch 2/200\n",
      "77/77 - 0s - loss: 0.4433 - accuracy: 0.8560\n",
      "Epoch 3/200\n",
      "77/77 - 0s - loss: 0.3814 - accuracy: 0.8658\n",
      "Epoch 4/200\n",
      "77/77 - 0s - loss: 0.3386 - accuracy: 0.8863\n",
      "Epoch 5/200\n",
      "77/77 - 0s - loss: 0.3128 - accuracy: 0.8924\n",
      "Epoch 6/200\n",
      "77/77 - 0s - loss: 0.2943 - accuracy: 0.9006\n",
      "Epoch 7/200\n",
      "77/77 - 0s - loss: 0.2806 - accuracy: 0.9088\n",
      "Epoch 8/200\n",
      "77/77 - 0s - loss: 0.2695 - accuracy: 0.9121\n",
      "Epoch 9/200\n",
      "77/77 - 0s - loss: 0.2618 - accuracy: 0.9117\n",
      "Epoch 10/200\n",
      "77/77 - 0s - loss: 0.2553 - accuracy: 0.9174\n",
      "Epoch 11/200\n",
      "77/77 - 0s - loss: 0.2475 - accuracy: 0.9194\n",
      "Epoch 12/200\n",
      "77/77 - 0s - loss: 0.2432 - accuracy: 0.9211\n",
      "Epoch 13/200\n",
      "77/77 - 0s - loss: 0.2375 - accuracy: 0.9215\n",
      "Epoch 14/200\n",
      "77/77 - 0s - loss: 0.2315 - accuracy: 0.9215\n",
      "Epoch 15/200\n",
      "77/77 - 0s - loss: 0.2269 - accuracy: 0.9252\n",
      "Epoch 16/200\n",
      "77/77 - 0s - loss: 0.2235 - accuracy: 0.9247\n",
      "Epoch 17/200\n",
      "77/77 - 0s - loss: 0.2176 - accuracy: 0.9297\n",
      "Epoch 18/200\n",
      "77/77 - 0s - loss: 0.2138 - accuracy: 0.9313\n",
      "Epoch 19/200\n",
      "77/77 - 0s - loss: 0.2106 - accuracy: 0.9313\n",
      "Epoch 20/200\n",
      "77/77 - 0s - loss: 0.2061 - accuracy: 0.9321\n",
      "Epoch 21/200\n",
      "77/77 - 0s - loss: 0.2029 - accuracy: 0.9333\n",
      "Epoch 22/200\n",
      "77/77 - 0s - loss: 0.1984 - accuracy: 0.9350\n",
      "Epoch 23/200\n",
      "77/77 - 0s - loss: 0.1945 - accuracy: 0.9358\n",
      "Epoch 24/200\n",
      "77/77 - 0s - loss: 0.1913 - accuracy: 0.9374\n",
      "Epoch 25/200\n",
      "77/77 - 0s - loss: 0.1883 - accuracy: 0.9407\n",
      "Epoch 26/200\n",
      "77/77 - 0s - loss: 0.1842 - accuracy: 0.9415\n",
      "Epoch 27/200\n",
      "77/77 - 0s - loss: 0.1822 - accuracy: 0.9415\n",
      "Epoch 28/200\n",
      "77/77 - 0s - loss: 0.1787 - accuracy: 0.9431\n",
      "Epoch 29/200\n",
      "77/77 - 0s - loss: 0.1751 - accuracy: 0.9436\n",
      "Epoch 30/200\n",
      "77/77 - 0s - loss: 0.1726 - accuracy: 0.9427\n",
      "Epoch 31/200\n",
      "77/77 - 0s - loss: 0.1694 - accuracy: 0.9460\n",
      "Epoch 32/200\n",
      "77/77 - 0s - loss: 0.1649 - accuracy: 0.9468\n",
      "Epoch 33/200\n",
      "77/77 - 0s - loss: 0.1633 - accuracy: 0.9464\n",
      "Epoch 34/200\n",
      "77/77 - 0s - loss: 0.1593 - accuracy: 0.9493\n",
      "Epoch 35/200\n",
      "77/77 - 0s - loss: 0.1552 - accuracy: 0.9509\n",
      "Epoch 36/200\n",
      "77/77 - 0s - loss: 0.1524 - accuracy: 0.9526\n",
      "Epoch 37/200\n",
      "77/77 - 0s - loss: 0.1494 - accuracy: 0.9530\n",
      "Epoch 38/200\n",
      "77/77 - 0s - loss: 0.1466 - accuracy: 0.9542\n",
      "Epoch 39/200\n",
      "77/77 - 0s - loss: 0.1449 - accuracy: 0.9562\n",
      "Epoch 40/200\n",
      "77/77 - 0s - loss: 0.1404 - accuracy: 0.9538\n",
      "Epoch 41/200\n",
      "77/77 - 0s - loss: 0.1388 - accuracy: 0.9554\n",
      "Epoch 42/200\n",
      "77/77 - 0s - loss: 0.1345 - accuracy: 0.9579\n",
      "Epoch 43/200\n",
      "77/77 - 0s - loss: 0.1320 - accuracy: 0.9595\n",
      "Epoch 44/200\n",
      "77/77 - 0s - loss: 0.1298 - accuracy: 0.9599\n",
      "Epoch 45/200\n",
      "77/77 - 0s - loss: 0.1268 - accuracy: 0.9603\n",
      "Epoch 46/200\n",
      "77/77 - 0s - loss: 0.1234 - accuracy: 0.9624\n",
      "Epoch 47/200\n",
      "77/77 - 0s - loss: 0.1214 - accuracy: 0.9616\n",
      "Epoch 48/200\n",
      "77/77 - 0s - loss: 0.1175 - accuracy: 0.9648\n",
      "Epoch 49/200\n",
      "77/77 - 0s - loss: 0.1158 - accuracy: 0.9648\n",
      "Epoch 50/200\n",
      "77/77 - 0s - loss: 0.1137 - accuracy: 0.9656\n",
      "Epoch 51/200\n",
      "77/77 - 0s - loss: 0.1109 - accuracy: 0.9665\n",
      "Epoch 52/200\n",
      "77/77 - 0s - loss: 0.1086 - accuracy: 0.9710\n",
      "Epoch 53/200\n",
      "77/77 - 0s - loss: 0.1064 - accuracy: 0.9685\n",
      "Epoch 54/200\n",
      "77/77 - 0s - loss: 0.1025 - accuracy: 0.9718\n",
      "Epoch 55/200\n",
      "77/77 - 0s - loss: 0.1005 - accuracy: 0.9722\n",
      "Epoch 56/200\n",
      "77/77 - 0s - loss: 0.0987 - accuracy: 0.9722\n",
      "Epoch 57/200\n",
      "77/77 - 0s - loss: 0.0957 - accuracy: 0.9734\n",
      "Epoch 58/200\n",
      "77/77 - 0s - loss: 0.0933 - accuracy: 0.9734\n",
      "Epoch 59/200\n",
      "77/77 - 0s - loss: 0.0901 - accuracy: 0.9746\n",
      "Epoch 60/200\n",
      "77/77 - 0s - loss: 0.0877 - accuracy: 0.9759\n",
      "Epoch 61/200\n",
      "77/77 - 0s - loss: 0.0861 - accuracy: 0.9755\n",
      "Epoch 62/200\n",
      "77/77 - 0s - loss: 0.0834 - accuracy: 0.9759\n",
      "Epoch 63/200\n",
      "77/77 - 0s - loss: 0.0807 - accuracy: 0.9771\n",
      "Epoch 64/200\n",
      "77/77 - 0s - loss: 0.0779 - accuracy: 0.9791\n",
      "Epoch 65/200\n",
      "77/77 - 0s - loss: 0.0762 - accuracy: 0.9800\n",
      "Epoch 66/200\n",
      "77/77 - 0s - loss: 0.0735 - accuracy: 0.9820\n",
      "Epoch 67/200\n",
      "77/77 - 0s - loss: 0.0731 - accuracy: 0.9775\n",
      "Epoch 68/200\n",
      "77/77 - 0s - loss: 0.0718 - accuracy: 0.9804\n",
      "Epoch 69/200\n",
      "77/77 - 0s - loss: 0.0729 - accuracy: 0.9779\n",
      "Epoch 70/200\n",
      "77/77 - 0s - loss: 0.0706 - accuracy: 0.9804\n",
      "Epoch 71/200\n",
      "77/77 - 0s - loss: 0.0671 - accuracy: 0.9812\n",
      "Epoch 72/200\n",
      "77/77 - 0s - loss: 0.0629 - accuracy: 0.9832\n",
      "Epoch 73/200\n",
      "77/77 - 0s - loss: 0.0618 - accuracy: 0.9824\n",
      "Epoch 74/200\n",
      "77/77 - 0s - loss: 0.0603 - accuracy: 0.9828\n",
      "Epoch 75/200\n",
      "77/77 - 0s - loss: 0.0575 - accuracy: 0.9840\n",
      "Epoch 76/200\n",
      "77/77 - 0s - loss: 0.0556 - accuracy: 0.9836\n",
      "Epoch 77/200\n",
      "77/77 - 0s - loss: 0.0547 - accuracy: 0.9845\n",
      "Epoch 78/200\n",
      "77/77 - 0s - loss: 0.0535 - accuracy: 0.9857\n",
      "Epoch 79/200\n",
      "77/77 - 0s - loss: 0.0504 - accuracy: 0.9853\n",
      "Epoch 80/200\n",
      "77/77 - 0s - loss: 0.0504 - accuracy: 0.9861\n",
      "Epoch 81/200\n",
      "77/77 - 1s - loss: 0.0484 - accuracy: 0.9885\n",
      "Epoch 82/200\n",
      "77/77 - 0s - loss: 0.0466 - accuracy: 0.9865\n",
      "Epoch 83/200\n",
      "77/77 - 1s - loss: 0.0450 - accuracy: 0.9873\n",
      "Epoch 84/200\n",
      "77/77 - 0s - loss: 0.0451 - accuracy: 0.9885\n",
      "Epoch 85/200\n",
      "77/77 - 0s - loss: 0.0442 - accuracy: 0.9885\n",
      "Epoch 86/200\n",
      "77/77 - 1s - loss: 0.0434 - accuracy: 0.9877\n",
      "Epoch 87/200\n",
      "77/77 - 0s - loss: 0.0407 - accuracy: 0.9902\n",
      "Epoch 88/200\n",
      "77/77 - 0s - loss: 0.0418 - accuracy: 0.9865\n",
      "Epoch 89/200\n",
      "77/77 - 0s - loss: 0.0393 - accuracy: 0.9881\n",
      "Epoch 90/200\n",
      "77/77 - 0s - loss: 0.0384 - accuracy: 0.9885\n",
      "Epoch 91/200\n",
      "77/77 - 0s - loss: 0.0408 - accuracy: 0.9869\n",
      "Epoch 92/200\n",
      "77/77 - 0s - loss: 0.0512 - accuracy: 0.9857\n",
      "Epoch 93/200\n",
      "77/77 - 0s - loss: 0.0410 - accuracy: 0.9869\n",
      "Epoch 94/200\n",
      "77/77 - 0s - loss: 0.0408 - accuracy: 0.9861\n",
      "Epoch 95/200\n",
      "77/77 - 0s - loss: 0.0363 - accuracy: 0.9902\n",
      "Epoch 96/200\n",
      "77/77 - 0s - loss: 0.0346 - accuracy: 0.9910\n",
      "Epoch 97/200\n",
      "77/77 - 0s - loss: 0.0306 - accuracy: 0.9910\n",
      "Epoch 98/200\n",
      "77/77 - 0s - loss: 0.0286 - accuracy: 0.9922\n",
      "Epoch 99/200\n",
      "77/77 - 1s - loss: 0.0279 - accuracy: 0.9930\n",
      "Epoch 100/200\n",
      "77/77 - 0s - loss: 0.0267 - accuracy: 0.9926\n",
      "Epoch 101/200\n",
      "77/77 - 0s - loss: 0.0261 - accuracy: 0.9939\n",
      "Epoch 102/200\n",
      "77/77 - 0s - loss: 0.0253 - accuracy: 0.9922\n",
      "Epoch 103/200\n",
      "77/77 - 0s - loss: 0.0244 - accuracy: 0.9943\n",
      "Epoch 104/200\n",
      "77/77 - 1s - loss: 0.0238 - accuracy: 0.9951\n",
      "Epoch 105/200\n",
      "77/77 - 1s - loss: 0.0232 - accuracy: 0.9943\n",
      "Epoch 106/200\n",
      "77/77 - 1s - loss: 0.0224 - accuracy: 0.9951\n",
      "Epoch 107/200\n",
      "77/77 - 0s - loss: 0.0216 - accuracy: 0.9951\n",
      "Epoch 108/200\n",
      "77/77 - 1s - loss: 0.0215 - accuracy: 0.9955\n",
      "Epoch 109/200\n",
      "77/77 - 0s - loss: 0.0215 - accuracy: 0.9935\n",
      "Epoch 110/200\n",
      "77/77 - 0s - loss: 0.0209 - accuracy: 0.9947\n",
      "Epoch 111/200\n",
      "77/77 - 1s - loss: 0.0188 - accuracy: 0.9951\n",
      "Epoch 112/200\n",
      "77/77 - 1s - loss: 0.0188 - accuracy: 0.9963\n",
      "Epoch 113/200\n",
      "77/77 - 1s - loss: 0.0183 - accuracy: 0.9963\n",
      "Epoch 114/200\n",
      "77/77 - 0s - loss: 0.0171 - accuracy: 0.9963\n",
      "Epoch 115/200\n",
      "77/77 - 0s - loss: 0.0168 - accuracy: 0.9967\n",
      "Epoch 116/200\n",
      "77/77 - 0s - loss: 0.0160 - accuracy: 0.9967\n",
      "Epoch 117/200\n",
      "77/77 - 0s - loss: 0.0157 - accuracy: 0.9967\n",
      "Epoch 118/200\n",
      "77/77 - 0s - loss: 0.0153 - accuracy: 0.9971\n",
      "Epoch 119/200\n",
      "77/77 - 0s - loss: 0.0147 - accuracy: 0.9967\n",
      "Epoch 120/200\n",
      "77/77 - 0s - loss: 0.0187 - accuracy: 0.9951\n",
      "Epoch 121/200\n",
      "77/77 - 0s - loss: 0.0385 - accuracy: 0.9865\n",
      "Epoch 122/200\n",
      "77/77 - 0s - loss: 0.0671 - accuracy: 0.9804\n",
      "Epoch 123/200\n",
      "77/77 - 0s - loss: 0.0449 - accuracy: 0.9849\n",
      "Epoch 124/200\n",
      "77/77 - 0s - loss: 0.0304 - accuracy: 0.9898\n",
      "Epoch 125/200\n",
      "77/77 - 0s - loss: 0.0171 - accuracy: 0.9967\n",
      "Epoch 126/200\n",
      "77/77 - 0s - loss: 0.0151 - accuracy: 0.9963\n",
      "Epoch 127/200\n",
      "77/77 - 0s - loss: 0.0137 - accuracy: 0.9971\n",
      "Epoch 128/200\n",
      "77/77 - 0s - loss: 0.0131 - accuracy: 0.9971\n",
      "Epoch 129/200\n",
      "77/77 - 0s - loss: 0.0128 - accuracy: 0.9971\n",
      "Epoch 130/200\n",
      "77/77 - 0s - loss: 0.0120 - accuracy: 0.9971\n",
      "Epoch 131/200\n",
      "77/77 - 0s - loss: 0.0118 - accuracy: 0.9971\n",
      "Epoch 132/200\n",
      "77/77 - 0s - loss: 0.0114 - accuracy: 0.9971\n",
      "Epoch 133/200\n",
      "77/77 - 0s - loss: 0.0111 - accuracy: 0.9975\n",
      "Epoch 134/200\n",
      "77/77 - 0s - loss: 0.0108 - accuracy: 0.9971\n",
      "Epoch 135/200\n",
      "77/77 - 0s - loss: 0.0105 - accuracy: 0.9975\n",
      "Epoch 136/200\n",
      "77/77 - 0s - loss: 0.0104 - accuracy: 0.9971\n",
      "Epoch 137/200\n",
      "77/77 - 0s - loss: 0.0102 - accuracy: 0.9975\n",
      "Epoch 138/200\n",
      "77/77 - 0s - loss: 0.0099 - accuracy: 0.9971\n",
      "Epoch 139/200\n",
      "77/77 - 0s - loss: 0.0096 - accuracy: 0.9975\n",
      "Epoch 140/200\n",
      "77/77 - 0s - loss: 0.0094 - accuracy: 0.9975\n",
      "Epoch 141/200\n",
      "77/77 - 0s - loss: 0.0092 - accuracy: 0.9971\n"
     ]
    },
    {
     "name": "stdout",
     "output_type": "stream",
     "text": [
      "Epoch 142/200\n",
      "77/77 - 0s - loss: 0.0091 - accuracy: 0.9975\n",
      "Epoch 143/200\n",
      "77/77 - 0s - loss: 0.0088 - accuracy: 0.9975\n",
      "Epoch 144/200\n",
      "77/77 - 0s - loss: 0.0087 - accuracy: 0.9975\n",
      "Epoch 145/200\n",
      "77/77 - 0s - loss: 0.0085 - accuracy: 0.9975\n",
      "Epoch 146/200\n",
      "77/77 - 0s - loss: 0.0083 - accuracy: 0.9975\n",
      "Epoch 147/200\n",
      "77/77 - 0s - loss: 0.0080 - accuracy: 0.9975\n",
      "Epoch 148/200\n",
      "77/77 - 0s - loss: 0.0080 - accuracy: 0.9975\n",
      "Epoch 149/200\n",
      "77/77 - 0s - loss: 0.0078 - accuracy: 0.9975\n",
      "Epoch 150/200\n",
      "77/77 - 0s - loss: 0.0076 - accuracy: 0.9975\n",
      "Epoch 151/200\n",
      "77/77 - 0s - loss: 0.0076 - accuracy: 0.9975\n",
      "Epoch 152/200\n",
      "77/77 - 0s - loss: 0.0076 - accuracy: 0.9975\n",
      "Epoch 153/200\n",
      "77/77 - 0s - loss: 0.0089 - accuracy: 0.9971\n",
      "Epoch 154/200\n",
      "77/77 - 0s - loss: 0.0489 - accuracy: 0.9849\n",
      "Epoch 155/200\n",
      "77/77 - 0s - loss: 0.1065 - accuracy: 0.9824\n",
      "Epoch 156/200\n",
      "77/77 - 0s - loss: 0.0632 - accuracy: 0.9816\n",
      "Epoch 157/200\n",
      "77/77 - 0s - loss: 0.0262 - accuracy: 0.9910\n",
      "Epoch 158/200\n",
      "77/77 - 0s - loss: 0.0147 - accuracy: 0.9955\n",
      "Epoch 159/200\n",
      "77/77 - 0s - loss: 0.0099 - accuracy: 0.9975\n",
      "Epoch 160/200\n",
      "77/77 - 1s - loss: 0.0089 - accuracy: 0.9975\n",
      "Epoch 161/200\n",
      "77/77 - 0s - loss: 0.0084 - accuracy: 0.9975\n",
      "Epoch 162/200\n",
      "77/77 - 1s - loss: 0.0081 - accuracy: 0.9975\n",
      "Epoch 163/200\n",
      "77/77 - 0s - loss: 0.0078 - accuracy: 0.9975\n",
      "Epoch 164/200\n",
      "77/77 - 0s - loss: 0.0075 - accuracy: 0.9975\n",
      "Epoch 165/200\n",
      "77/77 - 0s - loss: 0.0072 - accuracy: 0.9975\n",
      "Epoch 166/200\n",
      "77/77 - 0s - loss: 0.0070 - accuracy: 0.9975\n",
      "Epoch 167/200\n",
      "77/77 - 0s - loss: 0.0069 - accuracy: 0.9975\n",
      "Epoch 168/200\n",
      "77/77 - 0s - loss: 0.0067 - accuracy: 0.9975\n",
      "Epoch 169/200\n",
      "77/77 - 0s - loss: 0.0065 - accuracy: 0.9975\n",
      "Epoch 170/200\n",
      "77/77 - 0s - loss: 0.0063 - accuracy: 0.9975\n",
      "Epoch 171/200\n",
      "77/77 - 0s - loss: 0.0061 - accuracy: 0.9980\n",
      "Epoch 172/200\n",
      "77/77 - 0s - loss: 0.0059 - accuracy: 0.9975\n",
      "Epoch 173/200\n",
      "77/77 - 0s - loss: 0.0057 - accuracy: 0.9975\n",
      "Epoch 174/200\n",
      "77/77 - 0s - loss: 0.0056 - accuracy: 0.9984\n",
      "Epoch 175/200\n",
      "77/77 - 0s - loss: 0.0054 - accuracy: 0.9980\n",
      "Epoch 176/200\n",
      "77/77 - 0s - loss: 0.0058 - accuracy: 0.9980\n",
      "Epoch 177/200\n",
      "77/77 - 1s - loss: 0.0052 - accuracy: 0.9984\n",
      "Epoch 178/200\n",
      "77/77 - 1s - loss: 0.0050 - accuracy: 0.9980\n",
      "Epoch 179/200\n",
      "77/77 - 1s - loss: 0.0049 - accuracy: 0.9984\n",
      "Epoch 180/200\n",
      "77/77 - 1s - loss: 0.0047 - accuracy: 0.9988\n",
      "Epoch 181/200\n",
      "77/77 - 1s - loss: 0.0047 - accuracy: 0.9984\n",
      "Epoch 182/200\n",
      "77/77 - 1s - loss: 0.0045 - accuracy: 0.9984\n",
      "Epoch 183/200\n",
      "77/77 - 1s - loss: 0.0044 - accuracy: 0.9992\n",
      "Epoch 184/200\n",
      "77/77 - 1s - loss: 0.0044 - accuracy: 1.0000\n",
      "Epoch 185/200\n",
      "77/77 - 0s - loss: 0.0042 - accuracy: 1.0000\n",
      "Epoch 186/200\n",
      "77/77 - 1s - loss: 0.0040 - accuracy: 1.0000\n",
      "Epoch 187/200\n",
      "77/77 - 1s - loss: 0.0040 - accuracy: 1.0000\n",
      "Epoch 188/200\n",
      "77/77 - 0s - loss: 0.0038 - accuracy: 1.0000\n",
      "Epoch 189/200\n",
      "77/77 - 0s - loss: 0.0038 - accuracy: 1.0000\n",
      "Epoch 190/200\n",
      "77/77 - 0s - loss: 0.0036 - accuracy: 1.0000\n",
      "Epoch 191/200\n",
      "77/77 - 0s - loss: 0.0037 - accuracy: 1.0000\n",
      "Epoch 192/200\n",
      "77/77 - 0s - loss: 0.0035 - accuracy: 1.0000\n",
      "Epoch 193/200\n",
      "77/77 - 0s - loss: 0.0033 - accuracy: 1.0000\n",
      "Epoch 194/200\n",
      "77/77 - 0s - loss: 0.0033 - accuracy: 1.0000\n",
      "Epoch 195/200\n",
      "77/77 - 0s - loss: 0.0032 - accuracy: 1.0000\n",
      "Epoch 196/200\n",
      "77/77 - 0s - loss: 0.0032 - accuracy: 0.9996\n",
      "Epoch 197/200\n",
      "77/77 - 0s - loss: 0.0034 - accuracy: 1.0000\n",
      "Epoch 198/200\n",
      "77/77 - 0s - loss: 0.0029 - accuracy: 1.0000\n",
      "Epoch 199/200\n",
      "77/77 - 0s - loss: 0.0030 - accuracy: 1.0000\n",
      "Epoch 200/200\n",
      "77/77 - 0s - loss: 0.0043 - accuracy: 0.9992\n"
     ]
    },
    {
     "data": {
      "text/plain": [
       "<tensorflow.python.keras.callbacks.History at 0x7fb2565d71d0>"
      ]
     },
     "execution_count": 60,
     "metadata": {},
     "output_type": "execute_result"
    }
   ],
   "source": [
    "deep_model.fit(\n",
    "    X_train_scaled,\n",
    "    y_train_categorical,\n",
    "    epochs=200,\n",
    "    shuffle=True,\n",
    "    verbose=2\n",
    ")"
   ]
  },
  {
   "cell_type": "code",
   "execution_count": 61,
   "metadata": {},
   "outputs": [
    {
     "name": "stdout",
     "output_type": "stream",
     "text": [
      "26/26 - 0s - loss: 2.3138 - accuracy: 0.8724\n",
      "Deep Neural Network - Loss: 2.3137612342834473, Accuracy: 0.8723926544189453\n"
     ]
    }
   ],
   "source": [
    "model_loss, model_accuracy = deep_model.evaluate(\n",
    "    X_test_scaled, y_test_categorical, verbose=2)\n",
    "print(f\"Deep Neural Network - Loss: {model_loss}, Accuracy: {model_accuracy}\")"
   ]
  },
  {
   "cell_type": "code",
   "execution_count": null,
   "metadata": {},
   "outputs": [],
   "source": [
    "tf.keras.metrics.Accuracy()\n"
   ]
  },
  {
   "cell_type": "code",
   "execution_count": null,
   "metadata": {},
   "outputs": [],
   "source": []
  },
  {
   "cell_type": "code",
   "execution_count": null,
   "metadata": {},
   "outputs": [],
   "source": []
  }
 ],
 "metadata": {
  "kernelspec": {
   "display_name": "Python 3",
   "language": "python",
   "name": "python3"
  },
  "language_info": {
   "codemirror_mode": {
    "name": "ipython",
    "version": 3
   },
   "file_extension": ".py",
   "mimetype": "text/x-python",
   "name": "python",
   "nbconvert_exporter": "python",
   "pygments_lexer": "ipython3",
   "version": "3.7.6"
  }
 },
 "nbformat": 4,
 "nbformat_minor": 4
}
