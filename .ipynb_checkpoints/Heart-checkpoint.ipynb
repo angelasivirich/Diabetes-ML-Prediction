{
 "cells": [
  {
   "cell_type": "code",
   "execution_count": 1,
   "metadata": {
    "colab": {
     "base_uri": "https://localhost:8080/"
    },
    "id": "S1-gfnx5VRrj",
    "outputId": "5adc0098-b327-4597-a5f0-ebc47c36ba50"
   },
   "outputs": [
    {
     "name": "stdout",
     "output_type": "stream",
     "text": [
      "Get:1 http://security.ubuntu.com/ubuntu bionic-security InRelease [88.7 kB]\n",
      "Get:2 https://cloud.r-project.org/bin/linux/ubuntu bionic-cran40/ InRelease [3,626 B]\n",
      "Ign:3 https://developer.download.nvidia.com/compute/cuda/repos/ubuntu1804/x86_64  InRelease\n",
      "Hit:4 http://archive.ubuntu.com/ubuntu bionic InRelease\n",
      "Hit:5 http://ppa.launchpad.net/c2d4u.team/c2d4u4.0+/ubuntu bionic InRelease\n",
      "Ign:6 https://developer.download.nvidia.com/compute/machine-learning/repos/ubuntu1804/x86_64  InRelease\n",
      "Get:7 https://developer.download.nvidia.com/compute/cuda/repos/ubuntu1804/x86_64  Release [697 B]\n",
      "Hit:8 https://developer.download.nvidia.com/compute/machine-learning/repos/ubuntu1804/x86_64  Release\n",
      "Get:9 https://developer.download.nvidia.com/compute/cuda/repos/ubuntu1804/x86_64  Release.gpg [836 B]\n",
      "Get:10 http://archive.ubuntu.com/ubuntu bionic-updates InRelease [88.7 kB]\n",
      "Hit:11 http://ppa.launchpad.net/graphics-drivers/ppa/ubuntu bionic InRelease\n",
      "Get:12 http://security.ubuntu.com/ubuntu bionic-security/universe amd64 Packages [1,353 kB]\n",
      "Get:13 http://archive.ubuntu.com/ubuntu bionic-backports InRelease [74.6 kB]\n",
      "Get:14 http://security.ubuntu.com/ubuntu bionic-security/main amd64 Packages [1,748 kB]\n",
      "Ign:16 https://developer.download.nvidia.com/compute/cuda/repos/ubuntu1804/x86_64  Packages\n",
      "Get:16 https://developer.download.nvidia.com/compute/cuda/repos/ubuntu1804/x86_64  Packages [405 kB]\n",
      "Get:17 http://archive.ubuntu.com/ubuntu bionic-updates/main amd64 Packages [2,165 kB]\n",
      "Get:18 http://archive.ubuntu.com/ubuntu bionic-updates/universe amd64 Packages [2,118 kB]\n",
      "Fetched 8,046 kB in 3s (2,437 kB/s)\n",
      "Reading package lists... Done\n"
     ]
    }
   ],
   "source": [
    "import os\n",
    "# Find the latest version of spark 2.0  from http://www-us.apache.org/dist/spark/ and enter as the spark version\n",
    "# For example:\n",
    "# spark_version = 'spark-2.4.6'\n",
    "spark_version = 'spark-2.4.7'\n",
    "os.environ['SPARK_VERSION']=spark_version\n",
    "# Install Spark and Java\n",
    "!apt-get update\n",
    "!apt-get install openjdk-8-jdk-headless -qq > /dev/null\n",
    "!wget -q http://www-us.apache.org/dist/spark/$SPARK_VERSION/$SPARK_VERSION-bin-hadoop2.7.tgz\n",
    "!tar xf $SPARK_VERSION-bin-hadoop2.7.tgz\n",
    "!pip install -q findspark\n",
    "# Set Environment Variables\n",
    "os.environ[\"JAVA_HOME\"] = \"/usr/lib/jvm/java-8-openjdk-amd64\"\n",
    "os.environ[\"SPARK_HOME\"] = f\"/content/{spark_version}-bin-hadoop2.7\"\n",
    "# Start a SparkSession\n",
    "import findspark\n",
    "findspark.init()"
   ]
  },
  {
   "cell_type": "code",
   "execution_count": 2,
   "metadata": {
    "id": "B-aDv3U2Ws09"
   },
   "outputs": [],
   "source": [
    "from pyspark.sql import SparkSession\n",
    "spark = SparkSession.builder.appName(\"CloudETL\").config(\"spark.driver.extraClassPath\",\"/content/postgresql-42.2.9.jar\").getOrCreate()"
   ]
  },
  {
   "cell_type": "code",
   "execution_count": 3,
   "metadata": {
    "colab": {
     "base_uri": "https://localhost:8080/"
    },
    "id": "j9lgJCa3Wv2H",
    "outputId": "fb89f903-10f7-40a4-cce2-d423d05bdb63"
   },
   "outputs": [
    {
     "name": "stdout",
     "output_type": "stream",
     "text": [
      "+----+---+---------+-------------+----------+------+---------------+------------+--------+-------+-----+-----+-----+---------+-------+----------+\n",
      "|male|age|education|currentSmoker|cigsPerDay|BPMeds|prevalentStroke|prevalentHyp|diabetes|totChol|sysBP|diaBP|  BMI|heartRate|glucose|TenYearCHD|\n",
      "+----+---+---------+-------------+----------+------+---------------+------------+--------+-------+-----+-----+-----+---------+-------+----------+\n",
      "|   1| 39|        4|            0|         0|     0|              0|           0|       0|    195|106.0| 70.0|26.97|       80|     77|         0|\n",
      "|   0| 46|        2|            0|         0|     0|              0|           0|       0|    250|121.0| 81.0|28.73|       95|     76|         0|\n",
      "|   1| 48|        1|            1|        20|     0|              0|           0|       0|    245|127.5| 80.0|25.34|       75|     70|         0|\n",
      "|   0| 61|        3|            1|        30|     0|              0|           1|       0|    225|150.0| 95.0|28.58|       65|    103|         1|\n",
      "|   0| 46|        3|            1|        23|     0|              0|           0|       0|    285|130.0| 84.0| 23.1|       85|     85|         0|\n",
      "|   0| 43|        2|            0|         0|     0|              0|           1|       0|    228|180.0|110.0| 30.3|       77|     99|         0|\n",
      "|   0| 63|        1|            0|         0|     0|              0|           0|       0|    205|138.0| 71.0|33.11|       60|     85|         1|\n",
      "|   0| 45|        2|            1|        20|     0|              0|           0|       0|    313|100.0| 71.0|21.68|       79|     78|         0|\n",
      "|   1| 52|        1|            0|         0|     0|              0|           1|       0|    260|141.5| 89.0|26.36|       76|     79|         0|\n",
      "|   1| 43|        1|            1|        30|     0|              0|           1|       0|    225|162.0|107.0|23.61|       93|     88|         0|\n",
      "|   0| 50|        1|            0|         0|     0|              0|           0|       0|    254|133.0| 76.0|22.91|       75|     76|         0|\n",
      "|   0| 43|        2|            0|         0|     0|              0|           0|       0|    247|131.0| 88.0|27.64|       72|     61|         0|\n",
      "|   1| 46|        1|            1|        15|     0|              0|           1|       0|    294|142.0| 94.0|26.31|       98|     64|         0|\n",
      "|   0| 41|        3|            0|         0|     1|              0|           1|       0|    332|124.0| 88.0|31.31|       65|     84|         0|\n",
      "|   0| 39|        2|            1|         9|     0|              0|           0|       0|    226|114.0| 64.0|22.35|       85|     NA|         0|\n",
      "|   0| 38|        2|            1|        20|     0|              0|           1|       0|    221|140.0| 90.0|21.35|       95|     70|         1|\n",
      "|   1| 48|        3|            1|        10|     0|              0|           1|       0|    232|138.0| 90.0|22.37|       64|     72|         0|\n",
      "|   0| 46|        2|            1|        20|     0|              0|           0|       0|    291|112.0| 78.0|23.38|       80|     89|         1|\n",
      "|   0| 38|        2|            1|         5|     0|              0|           0|       0|    195|122.0| 84.5|23.24|       75|     78|         0|\n",
      "|   1| 41|        2|            0|         0|     0|              0|           0|       0|    195|139.0| 88.0|26.88|       85|     65|         0|\n",
      "+----+---+---------+-------------+----------+------+---------------+------------+--------+-------+-----+-----+-----+---------+-------+----------+\n",
      "only showing top 20 rows\n",
      "\n"
     ]
    }
   ],
   "source": [
    "from pyspark import SparkFiles\n",
    "url=\"https://laligadb.s3.amazonaws.com/framingham.csv\"\n",
    "spark.sparkContext.addFile(url)\n",
    "heart_df = spark.read.csv(SparkFiles.get(\"framingham.csv\"), sep=\",\", header=True, inferSchema=True)\n",
    "\n",
    "# Show DataFrame\n",
    "heart_df.show()"
   ]
  }
 ],
 "metadata": {
  "colab": {
   "collapsed_sections": [],
   "name": "Heart.ipynb",
   "provenance": []
  },
  "kernelspec": {
   "display_name": "Python 3",
   "language": "python",
   "name": "python3"
  },
  "language_info": {
   "codemirror_mode": {
    "name": "ipython",
    "version": 3
   },
   "file_extension": ".py",
   "mimetype": "text/x-python",
   "name": "python",
   "nbconvert_exporter": "python",
   "pygments_lexer": "ipython3",
   "version": "3.7.6"
  }
 },
 "nbformat": 4,
 "nbformat_minor": 1
}
