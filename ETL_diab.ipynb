{
  "nbformat": 4,
  "nbformat_minor": 0,
  "metadata": {
    "colab": {
      "name": "ETL_diab.ipynb",
      "provenance": [],
      "collapsed_sections": []
    },
    "kernelspec": {
      "name": "python3",
      "display_name": "Python 3"
    }
  },
  "cells": [
    {
      "cell_type": "code",
      "metadata": {
        "id": "Y7Xpk6GWQIre",
        "outputId": "4c76b83a-6ff5-4095-c500-ba5d0ce6e948",
        "colab": {
          "base_uri": "https://localhost:8080/"
        }
      },
      "source": [
        "import os\n",
        "# Find the latest version of spark 2.0  from http://www-us.apache.org/dist/spark/ and enter as the spark version\n",
        "# For example:\n",
        "# spark_version = 'spark-2.4.6'\n",
        "spark_version = 'spark-2.4.7'\n",
        "os.environ['SPARK_VERSION']=spark_version\n",
        "# Install Spark and Java\n",
        "!apt-get update\n",
        "!apt-get install openjdk-8-jdk-headless -qq > /dev/null\n",
        "!wget -q http://www-us.apache.org/dist/spark/$SPARK_VERSION/$SPARK_VERSION-bin-hadoop2.7.tgz\n",
        "!tar xf $SPARK_VERSION-bin-hadoop2.7.tgz\n",
        "!pip install -q findspark\n",
        "# Set Environment Variables\n",
        "os.environ[\"JAVA_HOME\"] = \"/usr/lib/jvm/java-8-openjdk-amd64\"\n",
        "os.environ[\"SPARK_HOME\"] = f\"/content/{spark_version}-bin-hadoop2.7\"\n",
        "# Start a SparkSession\n",
        "import findspark\n",
        "findspark.init()"
      ],
      "execution_count": 1,
      "outputs": [
        {
          "output_type": "stream",
          "text": [
            "\r0% [Working]\r            \rIgn:1 https://developer.download.nvidia.com/compute/cuda/repos/ubuntu1804/x86_64  InRelease\n",
            "\r0% [Waiting for headers] [Waiting for headers] [Waiting for headers] [Waiting f\r                                                                               \rGet:2 https://cloud.r-project.org/bin/linux/ubuntu bionic-cran40/ InRelease [3,626 B]\n",
            "\r0% [Waiting for headers] [Waiting for headers] [2 InRelease 3,626 B/3,626 B 100\r0% [Waiting for headers] [Waiting for headers] [Waiting for headers] [Waiting f\r0% [2 InRelease gpgv 3,626 B] [Waiting for headers] [Waiting for headers] [Wait\r                                                                               \rHit:3 http://archive.ubuntu.com/ubuntu bionic InRelease\n",
            "\r                                                                               \rIgn:4 https://developer.download.nvidia.com/compute/machine-learning/repos/ubuntu1804/x86_64  InRelease\n",
            "\r0% [2 InRelease gpgv 3,626 B] [Waiting for headers] [Waiting for headers] [Wait\r                                                                               \rGet:5 http://security.ubuntu.com/ubuntu bionic-security InRelease [88.7 kB]\n",
            "\r0% [2 InRelease gpgv 3,626 B] [Waiting for headers] [5 InRelease 14.2 kB/88.7 k\r                                                                               \rGet:6 http://ppa.launchpad.net/c2d4u.team/c2d4u4.0+/ubuntu bionic InRelease [15.9 kB]\n",
            "\r0% [2 InRelease gpgv 3,626 B] [Waiting for headers] [5 InRelease 14.2 kB/88.7 k\r                                                                               \rGet:7 https://developer.download.nvidia.com/compute/cuda/repos/ubuntu1804/x86_64  Release [697 B]\n",
            "\r0% [2 InRelease gpgv 3,626 B] [Waiting for headers] [5 InRelease 14.2 kB/88.7 k\r0% [2 InRelease gpgv 3,626 B] [Waiting for headers] [5 InRelease 14.2 kB/88.7 k\r                                                                               \rHit:8 https://developer.download.nvidia.com/compute/machine-learning/repos/ubuntu1804/x86_64  Release\n",
            "\r0% [2 InRelease gpgv 3,626 B] [Waiting for headers] [5 InRelease 14.2 kB/88.7 k\r                                                                               \rGet:9 https://developer.download.nvidia.com/compute/cuda/repos/ubuntu1804/x86_64  Release.gpg [836 B]\n",
            "Get:10 http://archive.ubuntu.com/ubuntu bionic-updates InRelease [88.7 kB]\n",
            "Get:11 http://ppa.launchpad.net/graphics-drivers/ppa/ubuntu bionic InRelease [21.3 kB]\n",
            "Get:12 https://cloud.r-project.org/bin/linux/ubuntu bionic-cran40/ Packages [40.1 kB]\n",
            "Get:13 http://archive.ubuntu.com/ubuntu bionic-backports InRelease [74.6 kB]\n",
            "Ign:15 https://developer.download.nvidia.com/compute/cuda/repos/ubuntu1804/x86_64  Packages\n",
            "Get:15 https://developer.download.nvidia.com/compute/cuda/repos/ubuntu1804/x86_64  Packages [405 kB]\n",
            "Get:16 http://ppa.launchpad.net/c2d4u.team/c2d4u4.0+/ubuntu bionic/main Sources [1,687 kB]\n",
            "Get:17 http://security.ubuntu.com/ubuntu bionic-security/universe amd64 Packages [1,353 kB]\n",
            "Get:18 http://archive.ubuntu.com/ubuntu bionic-updates/universe amd64 Packages [2,118 kB]\n",
            "Get:19 http://security.ubuntu.com/ubuntu bionic-security/main amd64 Packages [1,750 kB]\n",
            "Get:20 http://archive.ubuntu.com/ubuntu bionic-updates/main amd64 Packages [2,167 kB]\n",
            "Get:21 http://ppa.launchpad.net/c2d4u.team/c2d4u4.0+/ubuntu bionic/main amd64 Packages [864 kB]\n",
            "Get:22 http://ppa.launchpad.net/graphics-drivers/ppa/ubuntu bionic/main amd64 Packages [48.9 kB]\n",
            "Fetched 10.7 MB in 3s (3,469 kB/s)\n",
            "Reading package lists... Done\n"
          ],
          "name": "stdout"
        }
      ]
    },
    {
      "cell_type": "code",
      "metadata": {
        "id": "3xkMATfXRI1v",
        "outputId": "32cbe93f-e8c0-4060-e2ae-5ad526618dc2",
        "colab": {
          "base_uri": "https://localhost:8080/"
        }
      },
      "source": [
        "!wget https://jdbc.postgresql.org/download/postgresql-42.2.9.jar"
      ],
      "execution_count": 2,
      "outputs": [
        {
          "output_type": "stream",
          "text": [
            "--2020-11-04 21:58:33--  https://jdbc.postgresql.org/download/postgresql-42.2.9.jar\n",
            "Resolving jdbc.postgresql.org (jdbc.postgresql.org)... 72.32.157.228, 2001:4800:3e1:1::228\n",
            "Connecting to jdbc.postgresql.org (jdbc.postgresql.org)|72.32.157.228|:443... connected.\n",
            "HTTP request sent, awaiting response... 200 OK\n",
            "Length: 914037 (893K) [application/java-archive]\n",
            "Saving to: ‘postgresql-42.2.9.jar’\n",
            "\n",
            "postgresql-42.2.9.j 100%[===================>] 892.61K  4.81MB/s    in 0.2s    \n",
            "\n",
            "2020-11-04 21:58:33 (4.81 MB/s) - ‘postgresql-42.2.9.jar’ saved [914037/914037]\n",
            "\n"
          ],
          "name": "stdout"
        }
      ]
    },
    {
      "cell_type": "code",
      "metadata": {
        "id": "BvpzKejURU7e"
      },
      "source": [
        "from pyspark.sql import SparkSession\n",
        "spark = SparkSession.builder.appName(\"CloudETL\").config(\"spark.driver.extraClassPath\",\"/content/postgresql-42.2.9.jar\").getOrCreate()"
      ],
      "execution_count": 3,
      "outputs": []
    },
    {
      "cell_type": "code",
      "metadata": {
        "id": "zYQUtqUuRkkl",
        "outputId": "43201928-2a24-4253-f7d5-460c136469e5",
        "colab": {
          "base_uri": "https://localhost:8080/"
        }
      },
      "source": [
        "from pyspark import SparkFiles\n",
        "# Load in employee.csv from S3 into a DataFrame\n",
        "url = \"https://laligadb.s3.amazonaws.com/diabetes.csv\"\n",
        "spark.sparkContext.addFile(url)\n",
        "df = spark.read.csv(SparkFiles.get(\"diabetes.csv\"), header =True, inferSchema=True, sep=',', timestampFormat=\"mm/dd/yy\")\n",
        "df.show(10)"
      ],
      "execution_count": 18,
      "outputs": [
        {
          "output_type": "stream",
          "text": [
            "+-----+------+---+----+---------+-------+------+--------------+---------+----------+------+---+---+---+---+----+------+--------+------------+------+---------+---------+----+--------+------+------+------------+---+-----+----+--------+----+---+------+------+------+----+-------+-----+-----+----+-----------+---------+------+------+---------+--------+----+-----+---+----+----+---------+--------------------+---+----+-------------+---------+---------+--------+\n",
            "| seqn|gender|age|race|education|marital|income|household_size|insurance|gen_health|asthma|chf|cad| mi|cva|copd|cancer|diabetes|hypertension|smoker|weight_kg|height_cm| bmi|waist_cm|sys_bp|dia_bp|alb_cr_ratio|alb|  alt| ast|alk_phos| bun| ca|   cpk|t_chol|bicarb|  cr|glucose| iron|  ldh|phos|t_bilirubin|t_protein|u_acid|sodium|potassium|chloride|glob|trigs|wbc| hgb| hct|platelets|          s_cotinine|a1c| hdl|grip_strength|bmi_group|age_group|bp_group|\n",
            "+-----+------+---+----+---------+-------+------+--------------+---------+----------+------+---+---+---+---+----+------+--------+------------+------+---------+---------+----+--------+------+------+------------+---+-----+----+--------+----+---+------+------+------+----+-------+-----+-----+----+-----------+---------+------+------+---------+--------+----+-----+---+----+----+---------+--------------------+---+----+-------------+---------+---------+--------+\n",
            "|69220|     1| 21|   7|      2.0|    6.0|   1.0|             2|        1|       3.0|   2.0|2.0|2.0|2.0|2.0| 2.0|   2.0|     2.0|         2.0|   1.0|     50.8|    167.1|18.2|    82.0|  96.0|  50.0|       11.77|4.4| 15.0|16.0|    44.0| 7.0|8.8|  35.0| 118.0|  25.0|0.44|   82.0|165.0| 75.0| 4.2|        0.8|      7.3|   3.3| 138.0|      3.4|   105.0| 2.9| 54.0|6.0|12.7|36.1|    157.0|               0.654|5.0|47.0|         50.3|        0|        1|       0|\n",
            "|63030|     0| 21|   1|      2.0|    6.0|   3.0|             4|        2|       3.0|   1.0|2.0|2.0|2.0|2.0| 2.0|   2.0|     2.0|         2.0|   2.0|     72.8|    167.5|25.9|    93.7| 110.0|  60.0|        2.37|4.5| 25.0|24.0|   112.0|13.0|9.6| 214.0| 172.0|  27.0|0.81|   81.0|119.0|137.0| 3.8|        1.2|      7.3|   7.8| 137.0|      3.5|   102.0| 2.8| 83.0|6.9|15.1|44.4|    226.0|               0.221|5.2|40.0|         90.1|        1|        1|       0|\n",
            "|64051|     0| 21|   2|      3.0|    5.0|   4.0|             3|        1|       3.0|   2.0|2.0|2.0|2.0|2.0| 2.0|   2.0|     2.0|         2.0|   1.0|     81.0|    165.6|29.5|   102.3| 114.0|  72.0|        3.73|4.5| 23.0|21.0|   103.0|10.0|9.3|  73.0| 168.0|  25.0|0.82|   87.0| 68.0|112.0| 4.4|        0.4|      7.5|   5.0| 138.0|      3.5|   104.0| 3.0|256.0|8.2|14.4|41.3|    266.0|0.011000000000000001|5.1|38.0|         72.7|        1|        1|       0|\n",
            "|65141|     0| 21|   1|      2.0|    5.0|   4.0|             4|        1|       4.0|   2.0|2.0|2.0|2.0|2.0| 2.0|   2.0|     2.0|         2.0|   2.0|     56.9|    178.3|17.9|    69.1| 108.0|  62.0|        3.74|4.8| 18.0|23.0|    65.0|10.0|9.5| 151.0| 144.0|  26.0|0.73|   91.0| 63.0| 87.0| 4.2|        0.9|      7.4|   5.9| 136.0|      3.6|   102.0| 2.6| 57.0|6.6|14.7|43.0|    206.0|                16.3|5.1|55.0|         86.6|        0|        1|       0|\n",
            "|64632|     0| 21|   2|      3.0|    5.0|  10.0|             2|        1|       2.0|   2.0|2.0|2.0|2.0|2.0| 2.0|   2.0|     2.0|         2.0|   1.0|    101.2|    181.9|30.6|   101.6| 134.0|  64.0|        3.13|4.3| 20.0|18.0|    55.0| 9.0|9.4| 250.0| 104.0|  28.0|1.07|   89.0|121.0|104.0| 4.3|        0.8|      7.2|   7.2| 142.0|      4.7|   104.0| 2.9| 70.0|7.8|15.6|45.1|    306.0|               212.0|6.0|39.0|         94.4|        2|        1|       2|\n",
            "|65799|     0| 21|   6|      4.0|    5.0|  15.0|             5|        1|       2.0|   1.0|2.0|2.0|2.0|2.0| 2.0|   2.0|     2.0|         2.0|   2.0|     86.2|    175.7|27.9|    91.0| 110.0|  60.0|        3.53|4.5|100.0|71.0|    80.0|25.0|9.7|1177.0| 142.0|  26.0|1.07|   84.0| 99.0|156.0| 3.3|        0.8|      7.5|   5.2| 138.0|      4.5|   103.0| 3.0| 97.0|7.2|14.7|44.5|    189.0|0.011000000000000001|5.0|39.0|         94.6|        1|        1|       0|\n",
            "|70886|     1| 21|   4|      4.0|    5.0|   1.0|             4|        1|       1.0|   1.0|2.0|2.0|2.0|2.0| 2.0|   2.0|     2.0|         2.0|   2.0|     85.2|    184.8|24.9|    84.2| 104.0|  64.0|        3.77|4.0| 16.0|26.0|    64.0|12.0|9.9| 181.0| 202.0|  26.0|0.94|   86.0| 48.0|129.0| 4.2|        0.7|      8.2|   4.6| 139.0|      4.1|   103.0| 4.2| 47.0|7.6|12.7|36.8|    253.0|                0.23|5.7|68.0|         75.4|        0|        1|       0|\n",
            "|71532|     0| 21|   1|      3.0|    1.0|   6.0|             4|        1|       3.0|   2.0|2.0|2.0|2.0|2.0| 2.0|   2.0|     3.0|         1.0|   1.0|     93.7|    166.0|34.0|    99.1| 114.0|  44.0|        4.81|4.6| 22.0|20.0|    53.0|10.0|9.8| 164.0| 155.0|  26.0|0.73|  101.0| 93.0| 93.0| 3.8|        0.7|      7.1|   5.6| 138.0|      4.0|   102.0| 2.5| 75.0|7.8|14.1|42.1|    313.0|                19.1|5.1|52.0|        100.8|        2|        1|       0|\n",
            "|62588|     0| 21|   3|      4.0|    5.0|   3.0|             2|        1|       3.0|   2.0|2.0|2.0|2.0|2.0| 2.0|   2.0|     2.0|         2.0|   1.0|     73.0|    187.6|20.7|    79.4| 132.0|  70.0|        3.72|4.7| 11.0|18.0|    85.0| 7.0|9.5| 114.0| 135.0|  25.0|0.91|   81.0|267.0|107.0| 3.9|        0.8|      7.2|   5.7| 139.0|      4.0|   103.0| 2.5|138.0|5.9|15.7|45.1|    266.0|               254.0|5.1|66.0|         71.6|        0|        1|       2|\n",
            "|63590|     0| 21|   4|      4.0|    5.0|  15.0|             6|        1|       3.0|   2.0|2.0|2.0|2.0|2.0| 2.0|   2.0|     2.0|         2.0|   2.0|     98.3|    181.2|29.9|   104.5| 126.0|  66.0|        4.41|4.6| 30.0|23.0|    69.0|12.0|9.6| 104.0| 177.0|  27.0| 0.9|  100.0|102.0|125.0| 4.5|        1.0|      7.7|   4.5| 140.0|      3.9|   103.0| 3.1|336.0|6.9|15.6|43.3|    195.0|                3.13|5.5|43.0|         93.2|        1|        1|       1|\n",
            "+-----+------+---+----+---------+-------+------+--------------+---------+----------+------+---+---+---+---+----+------+--------+------------+------+---------+---------+----+--------+------+------+------------+---+-----+----+--------+----+---+------+------+------+----+-------+-----+-----+----+-----------+---------+------+------+---------+--------+----+-----+---+----+----+---------+--------------------+---+----+-------------+---------+---------+--------+\n",
            "only showing top 10 rows\n",
            "\n"
          ],
          "name": "stdout"
        }
      ]
    },
    {
      "cell_type": "code",
      "metadata": {
        "id": "DVC3AMnqSCH7"
      },
      "source": [
        "mode = \"append\"\n",
        "jdbc_url=\"jdbc:postgresql://mypostgresdb.cgd9exyjeqgb.us-east-2.rds.amazonaws.com:5432/meta_b_database\"\n",
        "config = {\"user\":\"root\", \n",
        "          \"password\": \"12345678\", \n",
        "          \"driver\":\"org.postgresql.Driver\"}"
      ],
      "execution_count": 19,
      "outputs": []
    },
    {
      "cell_type": "code",
      "metadata": {
        "id": "ctr0JDsISbrM"
      },
      "source": [
        "df.write.jdbc(url=jdbc_url, table='diabetes_info', mode=mode, properties=config)"
      ],
      "execution_count": 20,
      "outputs": []
    }
  ]
}